{
 "cells": [
  {
   "cell_type": "markdown",
   "id": "84efd234-e369-4529-bb91-c6dadd9252be",
   "metadata": {},
   "source": [
    "# Pandas-Series 클래스"
   ]
  },
  {
   "cell_type": "code",
   "execution_count": 5,
   "id": "3a5010b3-189c-42a0-aec0-47d80693fcfd",
   "metadata": {},
   "outputs": [
    {
     "name": "stdout",
     "output_type": "stream",
     "text": [
      "0    1\n",
      "1    3\n",
      "2    5\n",
      "3    7\n",
      "4    9\n",
      "dtype: int64\n"
     ]
    }
   ],
   "source": [
    "import pandas as pd\n",
    "s = pd.Series([1,3,5,7,9])\n",
    "print(s)"
   ]
  },
  {
   "cell_type": "code",
   "execution_count": 7,
   "id": "68ebd9b8-137e-4314-ae8f-f87b4377ec17",
   "metadata": {},
   "outputs": [
    {
     "name": "stdout",
     "output_type": "stream",
     "text": [
      "RangeIndex(start=0, stop=5, step=1)\n"
     ]
    }
   ],
   "source": [
    "print(s.index)"
   ]
  },
  {
   "cell_type": "code",
   "execution_count": 9,
   "id": "01a49c32-b7e5-4412-b995-ef24755916ae",
   "metadata": {},
   "outputs": [
    {
     "name": "stdout",
     "output_type": "stream",
     "text": [
      "[1 3 5 7 9]\n"
     ]
    }
   ],
   "source": [
    "print(s.values)"
   ]
  },
  {
   "cell_type": "code",
   "execution_count": 11,
   "id": "3f837fb1-4171-42db-8cac-8c595a3cd788",
   "metadata": {},
   "outputs": [
    {
     "name": "stdout",
     "output_type": "stream",
     "text": [
      "서울    9904312\n",
      "부산    3448783\n",
      "인천    2890451\n",
      "대구    2466952\n",
      "dtype: int64\n"
     ]
    }
   ],
   "source": [
    "s = pd.Series([9904312,3448783,2890451,2466952],\n",
    "                index =[\"서울\",\"부산\",\"인천\",\"대구\"])\n",
    "print(s)"
   ]
  },
  {
   "cell_type": "code",
   "execution_count": 13,
   "id": "0ccaf335-0d24-474a-aac3-6879d125b13e",
   "metadata": {},
   "outputs": [
    {
     "name": "stdout",
     "output_type": "stream",
     "text": [
      "Index(['서울', '부산', '인천', '대구'], dtype='object')\n"
     ]
    }
   ],
   "source": [
    "print(s.index)"
   ]
  },
  {
   "cell_type": "code",
   "execution_count": 16,
   "id": "7fd09f4c-2fe3-4fa2-a74f-ba8abd13ac71",
   "metadata": {},
   "outputs": [
    {
     "name": "stdout",
     "output_type": "stream",
     "text": [
      "[9904312 3448783 2890451 2466952]\n"
     ]
    }
   ],
   "source": [
    "print(s.values)"
   ]
  },
  {
   "cell_type": "code",
   "execution_count": 18,
   "id": "b0d4c3fc-0a95-4b3a-a3ae-e82cee489dbc",
   "metadata": {},
   "outputs": [
    {
     "name": "stdout",
     "output_type": "stream",
     "text": [
      "도시\n",
      "서울    9904312\n",
      "부산    3448783\n",
      "인천    2890451\n",
      "대구    2466952\n",
      "Name: 인구, dtype: int64\n"
     ]
    }
   ],
   "source": [
    "s.name = \"인구\"\n",
    "s.index.name =\"도시\"\n",
    "print(s)"
   ]
  },
  {
   "cell_type": "code",
   "execution_count": 21,
   "id": "64f48af9-9ed5-4376-91f3-e1488d640096",
   "metadata": {},
   "outputs": [],
   "source": [
    "s.rename_axis(None,inplace = True) #인덱스 이름 변경(초기화 시킴) or s.index.name = None"
   ]
  },
  {
   "cell_type": "code",
   "execution_count": 22,
   "id": "cb8a7c9a-992a-491a-800c-b8829b364868",
   "metadata": {},
   "outputs": [
    {
     "data": {
      "text/plain": [
       "서울    9904312\n",
       "부산    3448783\n",
       "인천    2890451\n",
       "대구    2466952\n",
       "dtype: int64"
      ]
     },
     "execution_count": 22,
     "metadata": {},
     "output_type": "execute_result"
    }
   ],
   "source": [
    "s.name = None #이름 초기화하기\n",
    "s"
   ]
  },
  {
   "cell_type": "code",
   "execution_count": 23,
   "id": "7eca26e4-6aa1-43ee-b10c-6b5260e22f4a",
   "metadata": {},
   "outputs": [
    {
     "name": "stdout",
     "output_type": "stream",
     "text": [
      "서울    9.904312\n",
      "부산    3.448783\n",
      "인천    2.890451\n",
      "대구    2.466952\n",
      "dtype: float64\n"
     ]
    }
   ],
   "source": [
    "s = pd.Series([9904312,3448783,2890451,2466952],\n",
    "                index =[\"서울\",\"부산\",\"인천\",\"대구\"])\n",
    "s = s/ 1000000\n",
    "print(s)"
   ]
  },
  {
   "cell_type": "code",
   "execution_count": 24,
   "id": "3c8fee2e-c02e-4a00-8358-1980899707f6",
   "metadata": {},
   "outputs": [
    {
     "name": "stdout",
     "output_type": "stream",
     "text": [
      "부산    3.448783\n",
      "인천    2.890451\n",
      "dtype: float64\n"
     ]
    }
   ],
   "source": [
    "print(s[1:3])"
   ]
  },
  {
   "cell_type": "code",
   "execution_count": 25,
   "id": "59201f1a-057d-4fe3-a85e-617ad532ba42",
   "metadata": {},
   "outputs": [
    {
     "name": "stdout",
     "output_type": "stream",
     "text": [
      "부산    3.448783\n",
      "인천    2.890451\n",
      "대구    2.466952\n",
      "dtype: float64\n"
     ]
    }
   ],
   "source": [
    "print(s[\"부산\":\"대구\"])"
   ]
  },
  {
   "cell_type": "code",
   "execution_count": 26,
   "id": "15e971f8-7c51-48fc-901e-437aa6ff9205",
   "metadata": {},
   "outputs": [
    {
     "name": "stdout",
     "output_type": "stream",
     "text": [
      "0\n"
     ]
    }
   ],
   "source": [
    "s1 = pd.Series(range(3), index = [\"a\",\"b\",\"c\"])\n",
    "print(s1.a)"
   ]
  },
  {
   "cell_type": "code",
   "execution_count": 27,
   "id": "fc6ed461-d05b-49ce-9100-e40a804d60eb",
   "metadata": {},
   "outputs": [
    {
     "name": "stdout",
     "output_type": "stream",
     "text": [
      "0\n"
     ]
    }
   ],
   "source": [
    "print(s1[\"a\"])"
   ]
  },
  {
   "cell_type": "code",
   "execution_count": 28,
   "id": "321f589c-125c-4966-994b-d8d37810a21c",
   "metadata": {},
   "outputs": [
    {
     "data": {
      "text/plain": [
       "np.float64(3.448783)"
      ]
     },
     "execution_count": 28,
     "metadata": {},
     "output_type": "execute_result"
    }
   ],
   "source": [
    "s[\"부산\"]"
   ]
  },
  {
   "cell_type": "code",
   "execution_count": 29,
   "id": "2ecb5213-01ad-4b72-880d-bd8b5cd2116f",
   "metadata": {},
   "outputs": [
    {
     "data": {
      "text/plain": [
       "np.float64(3.448783)"
      ]
     },
     "execution_count": 29,
     "metadata": {},
     "output_type": "execute_result"
    }
   ],
   "source": [
    "s.부산"
   ]
  },
  {
   "cell_type": "code",
   "execution_count": 42,
   "id": "8ec46ed5-0b7b-4eb1-bb10-5019d9f7ac52",
   "metadata": {},
   "outputs": [],
   "source": [
    "s = pd.Series([9904312,3448783,2890451,2466952],\n",
    "                index =[\"서울\",\"부산\",\"인천\",\"대구\"])\n",
    "print(\"대전\" in s)"
   ]
  },
  {
   "cell_type": "code",
   "execution_count": 32,
   "id": "575e8a64-a85d-4295-9d94-a569af55371a",
   "metadata": {},
   "outputs": [
    {
     "name": "stdout",
     "output_type": "stream",
     "text": [
      "서울, : 9904312\n",
      "부산, : 3448783\n",
      "인천, : 2890451\n",
      "대구, : 2466952\n"
     ]
    }
   ],
   "source": [
    "for key, value in s.items():\n",
    "    print(\"%s, : %d\" %(key,value))"
   ]
  },
  {
   "cell_type": "code",
   "execution_count": 35,
   "id": "6f051245-a1fa-4002-860b-ed5035251d76",
   "metadata": {},
   "outputs": [
    {
     "name": "stdout",
     "output_type": "stream",
     "text": [
      "국어    90\n",
      "영어    70\n",
      "수학    80\n",
      "dtype: int64\n"
     ]
    }
   ],
   "source": [
    "s = pd.Series({\"국어\" :  90 , \"영어\": 70, \"수학\" : 80})\n",
    "print(s)"
   ]
  },
  {
   "cell_type": "code",
   "execution_count": 37,
   "id": "64e18e07-41b5-4ef4-988a-1c413bd7a82a",
   "metadata": {},
   "outputs": [
    {
     "name": "stdout",
     "output_type": "stream",
     "text": [
      "[90 70 80]\n"
     ]
    }
   ],
   "source": [
    "print(s.values)"
   ]
  },
  {
   "cell_type": "code",
   "execution_count": 38,
   "id": "fa85d2fc-466a-41fc-8941-b2f73bdb0824",
   "metadata": {},
   "outputs": [
    {
     "name": "stdout",
     "output_type": "stream",
     "text": [
      "서울    9631482\n",
      "부산    3448783\n",
      "인천    2632035\n",
      "대전    1409158\n",
      "dtype: int64\n"
     ]
    }
   ],
   "source": [
    "s2 = pd.Series({\"서울\": 9631482 , \"부산\" : 3448783 , \"인천\" : 2632035, \"대전\": 1409158})\n",
    "print(s2)"
   ]
  }
 ],
 "metadata": {
  "kernelspec": {
   "display_name": "Python 3 (ipykernel)",
   "language": "python",
   "name": "python3"
  },
  "language_info": {
   "codemirror_mode": {
    "name": "ipython",
    "version": 3
   },
   "file_extension": ".py",
   "mimetype": "text/x-python",
   "name": "python",
   "nbconvert_exporter": "python",
   "pygments_lexer": "ipython3",
   "version": "3.11.0"
  }
 },
 "nbformat": 4,
 "nbformat_minor": 5
}
