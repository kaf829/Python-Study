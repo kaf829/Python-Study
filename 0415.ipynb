{
 "cells": [
  {
   "cell_type": "markdown",
   "id": "efbb9b88-9781-4c44-84c7-0df998d363d7",
   "metadata": {},
   "source": [
    "# 4월 15일차 교육 \n",
    "    - 데이터 분석"
   ]
  },
  {
   "cell_type": "code",
   "execution_count": 3,
   "id": "62b4a295-6579-45df-ad6a-0dcde9b054bb",
   "metadata": {},
   "outputs": [],
   "source": [
    "import pandas as pd"
   ]
  },
  {
   "cell_type": "code",
   "execution_count": 5,
   "id": "d11ce25b-fc37-40b8-b7f6-018404a9d028",
   "metadata": {},
   "outputs": [
    {
     "name": "stdout",
     "output_type": "stream",
     "text": [
      "대구    NaN\n",
      "대전    NaN\n",
      "부산    0.0\n",
      "서울    0.0\n",
      "인천    0.0\n",
      "dtype: float64\n"
     ]
    }
   ],
   "source": [
    "s = pd.Series([9631482,3448783,2632035,2466052],\n",
    "                 index = [\"서울\",\"부산\",\"인천\",\"대구\"])\n",
    "\n",
    "s2 = pd.Series({'서울': 9631482, '부산': 3448783, '인천': 2632035, '대전': 1409158}, index=['부산', '서울', '인천', '대전'])\n",
    "\n",
    "ds = s - s2\n",
    "print(ds)"
   ]
  },
  {
   "cell_type": "code",
   "execution_count": 8,
   "id": "081fa3db-d8be-46e4-b388-cceb7fd01f27",
   "metadata": {},
   "outputs": [
    {
     "name": "stdout",
     "output_type": "stream",
     "text": [
      "[-6182699  6182699        0 -1056894]\n"
     ]
    }
   ],
   "source": [
    "print(s2.values - s.values)"
   ]
  },
  {
   "cell_type": "code",
   "execution_count": 10,
   "id": "64093f2e-0292-4b1c-b4a6-88cdbc063d09",
   "metadata": {},
   "outputs": [
    {
     "name": "stdout",
     "output_type": "stream",
     "text": [
      "대구    False\n",
      "대전    False\n",
      "부산     True\n",
      "서울     True\n",
      "인천     True\n",
      "dtype: bool\n"
     ]
    }
   ],
   "source": [
    "print(ds.notnull()) #데이터 타입도 변경됨"
   ]
  },
  {
   "cell_type": "code",
   "execution_count": 13,
   "id": "13736790-33f6-4502-bcc4-8459d6d85393",
   "metadata": {},
   "outputs": [
    {
     "name": "stdout",
     "output_type": "stream",
     "text": [
      "3\n"
     ]
    }
   ],
   "source": [
    "print(ds.notnull().sum()) #이렇게 하면 NULL 갯수 계산할 수 있음"
   ]
  },
  {
   "cell_type": "code",
   "execution_count": 15,
   "id": "96fe3851-8869-4415-b842-0fe01afdc367",
   "metadata": {},
   "outputs": [
    {
     "name": "stdout",
     "output_type": "stream",
     "text": [
      "부산    0.0\n",
      "서울    0.0\n",
      "인천    0.0\n",
      "dtype: float64\n"
     ]
    }
   ],
   "source": [
    "print(ds[ds.notnull()])"
   ]
  },
  {
   "cell_type": "code",
   "execution_count": 16,
   "id": "703923c0-022e-407c-a07e-d89ec3b65b39",
   "metadata": {},
   "outputs": [],
   "source": [
    "rs = (s - s2) / s2 * 100"
   ]
  },
  {
   "cell_type": "code",
   "execution_count": 18,
   "id": "e0501bc8-f039-48a4-89ef-2d0568d6a879",
   "metadata": {},
   "outputs": [
    {
     "name": "stdout",
     "output_type": "stream",
     "text": [
      "부산    0.0\n",
      "서울    0.0\n",
      "인천    0.0\n",
      "dtype: float64\n"
     ]
    }
   ],
   "source": [
    "rs = rs[rs.notnull()]\n",
    "print(rs)"
   ]
  },
  {
   "cell_type": "code",
   "execution_count": 19,
   "id": "2431400d-e1f9-49fa-b1a6-252bf0d71a17",
   "metadata": {},
   "outputs": [
    {
     "name": "stdout",
     "output_type": "stream",
     "text": [
      "부산    1.63\n",
      "인천    0.00\n",
      "대구    1.41\n",
      "dtype: float64\n"
     ]
    }
   ],
   "source": [
    "rs['부산'] = 1.63\n",
    "rs['대구'] = 1.41\n",
    "del rs[\"서울\"]\n",
    "print(rs)"
   ]
  },
  {
   "cell_type": "code",
   "execution_count": 20,
   "id": "dc5bffc0-6f15-477f-b1bc-0acfad1f0b10",
   "metadata": {},
   "outputs": [
    {
     "data": {
      "text/plain": [
       "사과    1200\n",
       "딸기    3500\n",
       "키위    2100\n",
       "메론    9600\n",
       "dtype: int64"
      ]
     },
     "execution_count": 20,
     "metadata": {},
     "output_type": "execute_result"
    }
   ],
   "source": [
    "f1 = pd.Series([1200,3500,2100,9600] , index = [\"사과\",\"딸기\", \"키위\", \"메론\"])\n",
    "f1"
   ]
  },
  {
   "cell_type": "code",
   "execution_count": 22,
   "id": "7ee2b22e-e841-4932-b578-64a30e22b63b",
   "metadata": {},
   "outputs": [
    {
     "name": "stderr",
     "output_type": "stream",
     "text": [
      "C:\\Users\\MINJUN\\AppData\\Local\\Temp\\ipykernel_11396\\2654018226.py:1: FutureWarning: Series.__getitem__ treating keys as positions is deprecated. In a future version, integer keys will always be treated as labels (consistent with DataFrame behavior). To access a value by position, use `ser.iloc[pos]`\n",
      "  f1[[0,3,1]]\n"
     ]
    },
    {
     "data": {
      "text/plain": [
       "사과    1200\n",
       "메론    9600\n",
       "딸기    3500\n",
       "dtype: int64"
      ]
     },
     "execution_count": 22,
     "metadata": {},
     "output_type": "execute_result"
    }
   ],
   "source": [
    "f1[[0,3,1]]"
   ]
  },
  {
   "cell_type": "code",
   "execution_count": 23,
   "id": "dbf550e4-d911-4c41-a268-2f2f5d749f8e",
   "metadata": {},
   "outputs": [
    {
     "data": {
      "text/plain": [
       "사과    1200\n",
       "메론    9600\n",
       "딸기    3500\n",
       "dtype: int64"
      ]
     },
     "execution_count": 23,
     "metadata": {},
     "output_type": "execute_result"
    }
   ],
   "source": [
    "f1.iloc[[0,3,1]]"
   ]
  },
  {
   "cell_type": "code",
   "execution_count": 24,
   "id": "ce2ba6df-616d-4e85-91f7-6990953dea9e",
   "metadata": {},
   "outputs": [
    {
     "data": {
      "text/plain": [
       "사과    1200\n",
       "메론    9600\n",
       "딸기    3500\n",
       "dtype: int64"
      ]
     },
     "execution_count": 24,
     "metadata": {},
     "output_type": "execute_result"
    }
   ],
   "source": [
    "f1[[\"사과\",\"메론\",\"딸기\"]]"
   ]
  },
  {
   "cell_type": "code",
   "execution_count": 26,
   "id": "902eec1f-1fe3-4f1e-8992-b1b8ad3429ce",
   "metadata": {},
   "outputs": [
    {
     "data": {
      "text/plain": [
       "사과    1200\n",
       "딸기    3500\n",
       "키위    2100\n",
       "dtype: int64"
      ]
     },
     "execution_count": 26,
     "metadata": {},
     "output_type": "execute_result"
    }
   ],
   "source": [
    "f1[(1000 < f1) & (f1 < 5000)]"
   ]
  },
  {
   "cell_type": "code",
   "execution_count": 27,
   "id": "ac33ba84-587c-448f-aee8-0bbf9711b520",
   "metadata": {},
   "outputs": [
    {
     "data": {
      "text/plain": [
       "사과    1200.0\n",
       "딸기       NaN\n",
       "키위    2100.0\n",
       "메론    9600.0\n",
       "dtype: float64"
      ]
     },
     "execution_count": 27,
     "metadata": {},
     "output_type": "execute_result"
    }
   ],
   "source": [
    "f = pd.Series([1200,None,2100,9600] , index = [\"사과\",\"딸기\", \"키위\", \"메론\"])\n",
    "f"
   ]
  },
  {
   "cell_type": "code",
   "execution_count": 29,
   "id": "ea13c133-bd55-4f56-aed6-bc036d81611e",
   "metadata": {},
   "outputs": [
    {
     "data": {
      "text/plain": [
       "사과     True\n",
       "딸기    False\n",
       "키위     True\n",
       "메론     True\n",
       "dtype: bool"
      ]
     },
     "execution_count": 29,
     "metadata": {},
     "output_type": "execute_result"
    }
   ],
   "source": [
    "f.notnull()"
   ]
  },
  {
   "cell_type": "code",
   "execution_count": 31,
   "id": "01744c4d-187f-4e19-916c-dc2e6d4c0d01",
   "metadata": {},
   "outputs": [
    {
     "data": {
      "text/plain": [
       "사과    1200.0\n",
       "키위    2100.0\n",
       "메론    9600.0\n",
       "dtype: float64"
      ]
     },
     "execution_count": 31,
     "metadata": {},
     "output_type": "execute_result"
    }
   ],
   "source": [
    "f[f.notnull()]"
   ]
  },
  {
   "cell_type": "code",
   "execution_count": 32,
   "id": "6ef0b7d0-b800-4e45-bb0b-0126facea6e3",
   "metadata": {},
   "outputs": [],
   "source": [
    "f[\"사과\"] = 3000"
   ]
  },
  {
   "cell_type": "code",
   "execution_count": 33,
   "id": "3bf949f8-1d75-4bbf-8435-1b9e7a81525b",
   "metadata": {},
   "outputs": [
    {
     "data": {
      "text/plain": [
       "사과    3000.0\n",
       "딸기       NaN\n",
       "키위    2100.0\n",
       "메론    9600.0\n",
       "dtype: float64"
      ]
     },
     "execution_count": 33,
     "metadata": {},
     "output_type": "execute_result"
    }
   ],
   "source": [
    "f"
   ]
  },
  {
   "cell_type": "code",
   "execution_count": 35,
   "id": "5637b7cc-cf88-4196-9a84-586362562b9c",
   "metadata": {},
   "outputs": [],
   "source": [
    "f[\"거봉\"] = 7000"
   ]
  },
  {
   "cell_type": "code",
   "execution_count": 36,
   "id": "86155191-ec63-4ccd-b6e6-4a1842cc0c17",
   "metadata": {},
   "outputs": [
    {
     "data": {
      "text/plain": [
       "사과    3000.0\n",
       "딸기       NaN\n",
       "키위    2100.0\n",
       "메론    9600.0\n",
       "거봉    7000.0\n",
       "dtype: float64"
      ]
     },
     "execution_count": 36,
     "metadata": {},
     "output_type": "execute_result"
    }
   ],
   "source": [
    "f"
   ]
  },
  {
   "cell_type": "code",
   "execution_count": 38,
   "id": "8f75f616-474f-4470-a205-9f12ebc38aea",
   "metadata": {},
   "outputs": [
    {
     "data": {
      "text/plain": [
       "사과    3000.0\n",
       "딸기       NaN\n",
       "키위    2100.0\n",
       "메론    9600.0\n",
       "dtype: float64"
      ]
     },
     "execution_count": 38,
     "metadata": {},
     "output_type": "execute_result"
    }
   ],
   "source": [
    "f.drop(\"거봉\")"
   ]
  },
  {
   "cell_type": "code",
   "execution_count": 40,
   "id": "475a2fc0-595e-43e7-a002-1f0dd0aa8d51",
   "metadata": {},
   "outputs": [],
   "source": [
    "f.drop('사과', inplace = True) #inplace 기존의 데이터에 저장하겠다는 말임"
   ]
  },
  {
   "cell_type": "code",
   "execution_count": 41,
   "id": "1523fd86-2025-4728-a89e-68f25117324f",
   "metadata": {},
   "outputs": [
    {
     "data": {
      "text/plain": [
       "딸기       NaN\n",
       "키위    2100.0\n",
       "메론    9600.0\n",
       "거봉    7000.0\n",
       "dtype: float64"
      ]
     },
     "execution_count": 41,
     "metadata": {},
     "output_type": "execute_result"
    }
   ],
   "source": [
    "f "
   ]
  },
  {
   "cell_type": "code",
   "execution_count": null,
   "id": "fcbe69ef-3326-4dde-8823-d51642caad36",
   "metadata": {},
   "outputs": [],
   "source": []
  }
 ],
 "metadata": {
  "kernelspec": {
   "display_name": "Python 3 (ipykernel)",
   "language": "python",
   "name": "python3"
  },
  "language_info": {
   "codemirror_mode": {
    "name": "ipython",
    "version": 3
   },
   "file_extension": ".py",
   "mimetype": "text/x-python",
   "name": "python",
   "nbconvert_exporter": "python",
   "pygments_lexer": "ipython3",
   "version": "3.11.0"
  }
 },
 "nbformat": 4,
 "nbformat_minor": 5
}
