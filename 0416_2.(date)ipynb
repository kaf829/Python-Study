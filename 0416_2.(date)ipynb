{
 "cells": [
  {
   "cell_type": "markdown",
   "id": "d2f76d32-96ef-4a34-a9df-ff00bf2745fe",
   "metadata": {},
   "source": [
    "# to_Date"
   ]
  },
  {
   "cell_type": "code",
   "execution_count": 13,
   "id": "52033c91-1035-4d24-9084-38fe34c40009",
   "metadata": {},
   "outputs": [],
   "source": [
    "import pandas as pd"
   ]
  },
  {
   "cell_type": "code",
   "execution_count": 14,
   "id": "c9f823e6-5fff-49f4-91a5-27af90156b96",
   "metadata": {},
   "outputs": [
    {
     "data": {
      "text/plain": [
       "DatetimeIndex(['2018-01-01', '2018-01-04', '2018-01-05'], dtype='datetime64[ns]', freq=None)"
      ]
     },
     "execution_count": 14,
     "metadata": {},
     "output_type": "execute_result"
    }
   ],
   "source": [
    "date_str = [\"2018, 1, 1\",\"2018, 1, 4\",\"2018, 1, 5\"]\n",
    "idx = pd.to_datetime(date_str)\n",
    "idx"
   ]
  },
  {
   "cell_type": "code",
   "execution_count": 15,
   "id": "ed858069-2569-4c96-9305-5152b4e26915",
   "metadata": {},
   "outputs": [],
   "source": [
    "import numpy as np"
   ]
  },
  {
   "cell_type": "code",
   "execution_count": 16,
   "id": "fdfd3bc0-64b2-4722-89fc-867d17d09219",
   "metadata": {},
   "outputs": [
    {
     "data": {
      "text/plain": [
       "2018-01-01    1.764052\n",
       "2018-01-04    0.400157\n",
       "2018-01-05    0.978738\n",
       "dtype: float64"
      ]
     },
     "execution_count": 16,
     "metadata": {},
     "output_type": "execute_result"
    }
   ],
   "source": [
    "np.random.seed(0)\n",
    "s = pd.Series(np.random.randn(3), index = idx)\n",
    "s"
   ]
  },
  {
   "cell_type": "code",
   "execution_count": 17,
   "id": "4c609f93-d031-444d-990c-b331c2df5cb9",
   "metadata": {},
   "outputs": [
    {
     "data": {
      "text/plain": [
       "DatetimeIndex(['2017-07-01', '2017-07-02', '2017-07-03', '2017-07-04',\n",
       "               '2017-07-05', '2017-07-06', '2017-07-07', '2017-07-08',\n",
       "               '2017-07-09', '2017-07-10',\n",
       "               ...\n",
       "               '2020-07-21', '2020-07-22', '2020-07-23', '2020-07-24',\n",
       "               '2020-07-25', '2020-07-26', '2020-07-27', '2020-07-28',\n",
       "               '2020-07-29', '2020-07-30'],\n",
       "              dtype='datetime64[ns]', length=1126, freq='D')"
      ]
     },
     "execution_count": 17,
     "metadata": {},
     "output_type": "execute_result"
    }
   ],
   "source": [
    "pd.date_range('2017-7-1', '2020-7-30')"
   ]
  },
  {
   "cell_type": "code",
   "execution_count": 18,
   "id": "44f0eea5-aed4-4f58-8f96-c3cd136c7e03",
   "metadata": {},
   "outputs": [
    {
     "data": {
      "text/plain": [
       "DatetimeIndex(['2020-07-01', '2020-07-02', '2020-07-03', '2020-07-04',\n",
       "               '2020-07-05', '2020-07-06', '2020-07-07', '2020-07-08',\n",
       "               '2020-07-09', '2020-07-10', '2020-07-11', '2020-07-12',\n",
       "               '2020-07-13', '2020-07-14', '2020-07-15', '2020-07-16',\n",
       "               '2020-07-17', '2020-07-18', '2020-07-19', '2020-07-20',\n",
       "               '2020-07-21', '2020-07-22', '2020-07-23', '2020-07-24',\n",
       "               '2020-07-25', '2020-07-26', '2020-07-27', '2020-07-28',\n",
       "               '2020-07-29', '2020-07-30'],\n",
       "              dtype='datetime64[ns]', freq='D')"
      ]
     },
     "execution_count": 18,
     "metadata": {},
     "output_type": "execute_result"
    }
   ],
   "source": [
    "pd.date_range(start = '2020-7-1', end = '2020-7-30')"
   ]
  },
  {
   "cell_type": "code",
   "execution_count": 19,
   "id": "542f7e55-91c7-4f73-9621-24efc05e842a",
   "metadata": {},
   "outputs": [
    {
     "data": {
      "text/plain": [
       "DatetimeIndex(['2020-08-01', '2020-08-02', '2020-08-03', '2020-08-04',\n",
       "               '2020-08-05', '2020-08-06', '2020-08-07'],\n",
       "              dtype='datetime64[ns]', freq='D')"
      ]
     },
     "execution_count": 19,
     "metadata": {},
     "output_type": "execute_result"
    }
   ],
   "source": [
    "pd.date_range(start= '2020-8-1',periods = 7)"
   ]
  },
  {
   "cell_type": "code",
   "execution_count": 21,
   "id": "12e63698-1c40-4354-b1e8-7ce233f1e77a",
   "metadata": {},
   "outputs": [
    {
     "data": {
      "text/plain": [
       "DatetimeIndex(['2021-01-03', '2021-01-10', '2021-01-17', '2021-01-24',\n",
       "               '2021-01-31', '2021-02-07', '2021-02-14', '2021-02-21',\n",
       "               '2021-02-28', '2021-03-07', '2021-03-14', '2021-03-21',\n",
       "               '2021-03-28', '2021-04-04', '2021-04-11', '2021-04-18',\n",
       "               '2021-04-25', '2021-05-02', '2021-05-09', '2021-05-16',\n",
       "               '2021-05-23', '2021-05-30', '2021-06-06', '2021-06-13',\n",
       "               '2021-06-20', '2021-06-27', '2021-07-04', '2021-07-11',\n",
       "               '2021-07-18', '2021-07-25', '2021-08-01', '2021-08-08',\n",
       "               '2021-08-15', '2021-08-22', '2021-08-29', '2021-09-05',\n",
       "               '2021-09-12', '2021-09-19', '2021-09-26', '2021-10-03',\n",
       "               '2021-10-10', '2021-10-17', '2021-10-24', '2021-10-31',\n",
       "               '2021-11-07', '2021-11-14', '2021-11-21', '2021-11-28',\n",
       "               '2021-12-05', '2021-12-12', '2021-12-19', '2021-12-26'],\n",
       "              dtype='datetime64[ns]', freq='W-SUN')"
      ]
     },
     "execution_count": 21,
     "metadata": {},
     "output_type": "execute_result"
    }
   ],
   "source": [
    "pd.date_range(\"2021-1-1\",\"2021-12-31\",freq =\"W\")"
   ]
  },
  {
   "cell_type": "code",
   "execution_count": 34,
   "id": "03ca4e26-dbeb-4355-ab6b-d8d435f77225",
   "metadata": {},
   "outputs": [
    {
     "data": {
      "text/plain": [
       "DatetimeIndex(['2025-01-01', '2025-01-08', '2025-01-15', '2025-01-22',\n",
       "               '2025-01-29', '2025-02-05', '2025-02-12', '2025-02-19',\n",
       "               '2025-02-26', '2025-03-05', '2025-03-12', '2025-03-19',\n",
       "               '2025-03-26', '2025-04-02', '2025-04-09', '2025-04-16',\n",
       "               '2025-04-23', '2025-04-30', '2025-05-07', '2025-05-14',\n",
       "               '2025-05-21', '2025-05-28', '2025-06-04', '2025-06-11',\n",
       "               '2025-06-18', '2025-06-25', '2025-07-02', '2025-07-09',\n",
       "               '2025-07-16', '2025-07-23', '2025-07-30', '2025-08-06',\n",
       "               '2025-08-13', '2025-08-20', '2025-08-27', '2025-09-03',\n",
       "               '2025-09-10', '2025-09-17', '2025-09-24', '2025-10-01',\n",
       "               '2025-10-08', '2025-10-15', '2025-10-22', '2025-10-29',\n",
       "               '2025-11-05', '2025-11-12', '2025-11-19', '2025-11-26',\n",
       "               '2025-12-03', '2025-12-10', '2025-12-17', '2025-12-24',\n",
       "               '2025-12-31'],\n",
       "              dtype='datetime64[ns]', freq='W-WED')"
      ]
     },
     "execution_count": 34,
     "metadata": {},
     "output_type": "execute_result"
    }
   ],
   "source": [
    "pd.date_range(\"2025-1-1\",\"2025-12-31\",freq =\"W-WED\")"
   ]
  },
  {
   "cell_type": "code",
   "execution_count": 24,
   "id": "ef9eec30-4278-43ae-b1ba-4a78dc9f2234",
   "metadata": {},
   "outputs": [
    {
     "data": {
      "text/plain": [
       "DatetimeIndex(['2021-01-01', '2021-01-04', '2021-01-05', '2021-01-06',\n",
       "               '2021-01-07', '2021-01-08', '2021-01-11', '2021-01-12',\n",
       "               '2021-01-13', '2021-01-14',\n",
       "               ...\n",
       "               '2021-12-20', '2021-12-21', '2021-12-22', '2021-12-23',\n",
       "               '2021-12-24', '2021-12-27', '2021-12-28', '2021-12-29',\n",
       "               '2021-12-30', '2021-12-31'],\n",
       "              dtype='datetime64[ns]', length=261, freq='B')"
      ]
     },
     "execution_count": 24,
     "metadata": {},
     "output_type": "execute_result"
    }
   ],
   "source": [
    "pd.date_range(\"2021-1-1\",\"2021-12-31\",freq =\"B\")"
   ]
  },
  {
   "cell_type": "code",
   "execution_count": 25,
   "id": "c7f8e4dc-182e-464b-911e-674f445b2d57",
   "metadata": {},
   "outputs": [
    {
     "data": {
      "text/plain": [
       "DatetimeIndex(['2021-01-10', '2021-02-14', '2021-03-14', '2021-04-11',\n",
       "               '2021-05-09', '2021-06-13', '2021-07-11', '2021-08-08',\n",
       "               '2021-09-12', '2021-10-10', '2021-11-14', '2021-12-12'],\n",
       "              dtype='datetime64[ns]', freq='WOM-2SUN')"
      ]
     },
     "execution_count": 25,
     "metadata": {},
     "output_type": "execute_result"
    }
   ],
   "source": [
    "pd.date_range(\"2021-1-1\",\"2021-12-31\",freq =\"WOM-2SUN\") #각 월의 두 번째 일요일"
   ]
  },
  {
   "cell_type": "code",
   "execution_count": 27,
   "id": "4bd00818-4814-47d7-a200-24e1c79a8af2",
   "metadata": {},
   "outputs": [
    {
     "data": {
      "text/plain": [
       "DatetimeIndex(['2021-01-31', '2021-04-30', '2021-07-31', '2021-10-31'], dtype='datetime64[ns]', freq='QE-JAN')"
      ]
     },
     "execution_count": 27,
     "metadata": {},
     "output_type": "execute_result"
    }
   ],
   "source": [
    "pd.date_range(\"2021-1-1\",\"2021-12-31\",freq =\"QE-JAN\")"
   ]
  },
  {
   "cell_type": "code",
   "execution_count": 28,
   "id": "86ef4158-bb79-4293-97bc-b127f2c262ab",
   "metadata": {},
   "outputs": [
    {
     "data": {
      "text/plain": [
       "DatetimeIndex(['2021-03-31', '2021-06-30', '2021-09-30', '2021-12-31'], dtype='datetime64[ns]', freq='QE-DEC')"
      ]
     },
     "execution_count": 28,
     "metadata": {},
     "output_type": "execute_result"
    }
   ],
   "source": [
    "pd.date_range(\"2021-1-1\",\"2021-12-31\",freq =\"QE-DEC\")"
   ]
  },
  {
   "cell_type": "code",
   "execution_count": 31,
   "id": "9f6532c0-c075-4bb2-8386-c31e6067417d",
   "metadata": {},
   "outputs": [
    {
     "data": {
      "text/plain": [
       "DatetimeIndex(['2021-01-01', '2021-02-01', '2021-03-01', '2021-04-01',\n",
       "               '2021-05-01', '2021-06-01', '2021-07-01', '2021-08-01',\n",
       "               '2021-09-01', '2021-10-01', '2021-11-01', '2021-12-01'],\n",
       "              dtype='datetime64[ns]', freq='MS')"
      ]
     },
     "execution_count": 31,
     "metadata": {},
     "output_type": "execute_result"
    }
   ],
   "source": [
    "pd.date_range(\"2021-1-1\",\"2021-12-31\" ,freq = \"MS\")"
   ]
  },
  {
   "cell_type": "code",
   "execution_count": 35,
   "id": "bd2e5e61-7fa4-4ba8-b8f7-dd2d0f48d52e",
   "metadata": {},
   "outputs": [
    {
     "data": {
      "text/plain": [
       "DatetimeIndex(['2021-01-31', '2021-02-28', '2021-03-31', '2021-04-30',\n",
       "               '2021-05-31', '2021-06-30', '2021-07-31', '2021-08-31',\n",
       "               '2021-09-30', '2021-10-31', '2021-11-30', '2021-12-31'],\n",
       "              dtype='datetime64[ns]', freq='ME')"
      ]
     },
     "execution_count": 35,
     "metadata": {},
     "output_type": "execute_result"
    }
   ],
   "source": [
    "pd.date_range(\"2021-1-1\",\"2021-12-31\" ,freq = \"ME\")"
   ]
  },
  {
   "cell_type": "code",
   "execution_count": 36,
   "id": "5825e8e5-eee3-49a0-93c5-21ec7889476f",
   "metadata": {},
   "outputs": [
    {
     "data": {
      "text/plain": [
       "DatetimeIndex(['2025-01-01 00:00:00', '2025-01-01 00:00:01',\n",
       "               '2025-01-01 00:00:02', '2025-01-01 00:00:03',\n",
       "               '2025-01-01 00:00:04', '2025-01-01 00:00:05',\n",
       "               '2025-01-01 00:00:06', '2025-01-01 00:00:07',\n",
       "               '2025-01-01 00:00:08', '2025-01-01 00:00:09',\n",
       "               ...\n",
       "               '2025-12-30 23:59:51', '2025-12-30 23:59:52',\n",
       "               '2025-12-30 23:59:53', '2025-12-30 23:59:54',\n",
       "               '2025-12-30 23:59:55', '2025-12-30 23:59:56',\n",
       "               '2025-12-30 23:59:57', '2025-12-30 23:59:58',\n",
       "               '2025-12-30 23:59:59', '2025-12-31 00:00:00'],\n",
       "              dtype='datetime64[ns]', length=31449601, freq='s')"
      ]
     },
     "execution_count": 36,
     "metadata": {},
     "output_type": "execute_result"
    }
   ],
   "source": [
    "pd.date_range(\"2025-1-1\",\"2025-12-31\" ,freq = \"s\")"
   ]
  },
  {
   "cell_type": "code",
   "execution_count": 38,
   "id": "aabaf262-1874-4e00-a738-df20b7acd143",
   "metadata": {},
   "outputs": [
    {
     "data": {
      "text/plain": [
       "DatetimeIndex(['2025-01-01 00:00:00', '2025-01-01 00:01:00',\n",
       "               '2025-01-01 00:02:00', '2025-01-01 00:03:00',\n",
       "               '2025-01-01 00:04:00', '2025-01-01 00:05:00',\n",
       "               '2025-01-01 00:06:00', '2025-01-01 00:07:00',\n",
       "               '2025-01-01 00:08:00', '2025-01-01 00:09:00',\n",
       "               ...\n",
       "               '2025-12-30 23:51:00', '2025-12-30 23:52:00',\n",
       "               '2025-12-30 23:53:00', '2025-12-30 23:54:00',\n",
       "               '2025-12-30 23:55:00', '2025-12-30 23:56:00',\n",
       "               '2025-12-30 23:57:00', '2025-12-30 23:58:00',\n",
       "               '2025-12-30 23:59:00', '2025-12-31 00:00:00'],\n",
       "              dtype='datetime64[ns]', length=524161, freq='min')"
      ]
     },
     "execution_count": 38,
     "metadata": {},
     "output_type": "execute_result"
    }
   ],
   "source": [
    "pd.date_range(\"2025-1-1\",\"2025-12-31\" ,freq = \"min\")"
   ]
  },
  {
   "cell_type": "code",
   "execution_count": null,
   "id": "01b2d066-a0d4-49b3-918e-394d350fa28c",
   "metadata": {},
   "outputs": [],
   "source": []
  }
 ],
 "metadata": {
  "kernelspec": {
   "display_name": "Python 3 (ipykernel)",
   "language": "python",
   "name": "python3"
  },
  "language_info": {
   "codemirror_mode": {
    "name": "ipython",
    "version": 3
   },
   "file_extension": ".py",
   "mimetype": "text/x-python",
   "name": "python",
   "nbconvert_exporter": "python",
   "pygments_lexer": "ipython3",
   "version": "3.11.0"
  }
 },
 "nbformat": 4,
 "nbformat_minor": 5
}
