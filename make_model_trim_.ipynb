{
 "cells": [
  {
   "cell_type": "code",
   "execution_count": 58,
   "id": "8e5fce30-a1b6-4e71-9674-79d737fcd6ae",
   "metadata": {},
   "outputs": [],
   "source": [
    "import pandas as pd\n",
    "import seaborn as sns\n",
    "import matplotlib.pyplot as plt\n",
    "import matplotlib as mpl\n",
    "plt.rcParams[\"font.family\"]= 'Malgun Gothic'\n",
    "df=pd.read_csv('.//car_prices.csv')"
   ]
  },
  {
   "cell_type": "code",
   "execution_count": 59,
   "id": "3c42ca3c-60e7-4240-b86a-b23f03bb4087",
   "metadata": {
    "scrolled": true
   },
   "outputs": [],
   "source": [
    "# print(df['make'].value_counts())"
   ]
  },
  {
   "cell_type": "code",
   "execution_count": 70,
   "id": "f35e1ccb-a5b5-4029-ba3d-ba881466f16a",
   "metadata": {},
   "outputs": [],
   "source": [
    "# make 전처리\n",
    "df['make'] = df['make'].replace('nissan', 'Nissan')\n",
    "df['make'] = df['make'].replace('ford truck', 'Ford')\n",
    "df['make'] = df['make'].replace('ford tk', 'Ford')\n",
    "df['make'] = df['make'].replace('chevrolet', 'Chevrolet')\n",
    "df['make'] = df['make'].replace('chev truck', 'Chevrolet')\n",
    "df['make'] = df['make'].replace('toyota', 'Toyota')\n",
    "df['make'] = df['make'].replace('kia', 'Kia')\n",
    "df['make'] = df['make'].replace('toyota', 'Nissan')\n",
    "df['make'] = df['make'].replace('hyundai', 'Hyundai')\n",
    "df['make'] = df['make'].replace('bmw', 'BMW')\n",
    "df['make'] = df['make'].replace('chrysler', 'Chrysler')\n",
    "df['make'] = df['make'].replace('mercedes', 'Mercedes-Benz')\n",
    "df['make'] = df['make'].replace('mercedes-b', 'Mercedes-Benz')\n",
    "df['make'] = df['make'].replace('jeep', 'Jeep')\n",
    "df['make'] = df['make'].replace('volkswagen', 'Volkswagen')\n",
    "df['make'] = df['make'].replace('lexus', 'Lexus')\n",
    "df['make'] = df['make'].replace('gmc', 'GMC')\n",
    "df['make'] = df['make'].replace('gmc truck', 'GMC')\n",
    "df['make'] = df['make'].replace('mazda', 'Mazda')\n",
    "df['make'] = df['make'].replace('cadillac', 'Cadillac')\n",
    "df['make'] = df['make'].replace('acura', 'Acura')\n",
    "df['make'] = df['make'].replace('audi', 'Audi')\n",
    "df['make'] = df['make'].replace('lincoln', 'Lincoln')\n",
    "df['make'] = df['make'].replace('subaru', 'Subaru')\n",
    "df['make'] = df['make'].replace('buick', 'Buick')\n",
    "df['make'] = df['make'].replace('pontiac', 'Pontiac')\n",
    "df['make'] = df['make'].replace('mitsubishi', 'Mitsubishi')\n",
    "df['make'] = df['make'].replace('mercury', 'Mercury')\n",
    "df['make'] = df['make'].replace('land rover', 'Land Rover')\n",
    "df['make'] = df['make'].replace('porsche', 'Porsche')\n",
    "df['make'] = df['make'].replace('suzuki', 'Suzuki')\n",
    "df['make'] = df['make'].replace('oldsmobile', 'Oldsmobile')\n",
    "df['make'] = df['make'].replace('dodge', 'Dodge')\n",
    "df['make'] = df['make'].replace('dodge tk', 'Dodge')\n",
    "df['make'] = df['make'].replace('vw', 'Volkswagen')"
   ]
  },
  {
   "cell_type": "code",
   "execution_count": 61,
   "id": "172902fa-b2cd-4c3b-92ca-6e73d8f63c33",
   "metadata": {},
   "outputs": [],
   "source": [
    "# model 전처리\n",
    "df['model'] = df['model'].str.lower()  # 전부 소문자로\n",
    "df['model'] = df['model'].str.replace('-', ' ', regex=False)  # 하이픈을 공백으로\n",
    "df['model'] = df['model'].str.strip()\n",
    "# df = df[df['model'].map(df['model'].value_counts()) >= 3]  # 해당 모델의 판매수가 3미만인 모델행들 삭제"
   ]
  },
  {
   "cell_type": "code",
   "execution_count": 72,
   "id": "fef57dc4-c0b4-43dc-bbb0-7c12607c251e",
   "metadata": {},
   "outputs": [
    {
     "ename": "KeyError",
     "evalue": "\"['trim'] not found in axis\"",
     "output_type": "error",
     "traceback": [
      "\u001b[31m---------------------------------------------------------------------------\u001b[39m",
      "\u001b[31mKeyError\u001b[39m                                  Traceback (most recent call last)",
      "\u001b[36mCell\u001b[39m\u001b[36m \u001b[39m\u001b[32mIn[72]\u001b[39m\u001b[32m, line 2\u001b[39m\n\u001b[32m      1\u001b[39m \u001b[38;5;66;03m# trim 전처리 (열 삭제)\u001b[39;00m\n\u001b[32m----> \u001b[39m\u001b[32m2\u001b[39m \u001b[43mdf\u001b[49m\u001b[43m.\u001b[49m\u001b[43mdrop\u001b[49m\u001b[43m(\u001b[49m\u001b[43mcolumns\u001b[49m\u001b[43m=\u001b[49m\u001b[43m[\u001b[49m\u001b[33;43m'\u001b[39;49m\u001b[33;43mtrim\u001b[39;49m\u001b[33;43m'\u001b[39;49m\u001b[43m]\u001b[49m\u001b[43m)\u001b[49m\n",
      "\u001b[36mFile \u001b[39m\u001b[32mC:\\Project\\Python_Source\\Test01\\.venv\\Lib\\site-packages\\pandas\\core\\frame.py:5581\u001b[39m, in \u001b[36mDataFrame.drop\u001b[39m\u001b[34m(self, labels, axis, index, columns, level, inplace, errors)\u001b[39m\n\u001b[32m   5433\u001b[39m \u001b[38;5;28;01mdef\u001b[39;00m\u001b[38;5;250m \u001b[39m\u001b[34mdrop\u001b[39m(\n\u001b[32m   5434\u001b[39m     \u001b[38;5;28mself\u001b[39m,\n\u001b[32m   5435\u001b[39m     labels: IndexLabel | \u001b[38;5;28;01mNone\u001b[39;00m = \u001b[38;5;28;01mNone\u001b[39;00m,\n\u001b[32m   (...)\u001b[39m\u001b[32m   5442\u001b[39m     errors: IgnoreRaise = \u001b[33m\"\u001b[39m\u001b[33mraise\u001b[39m\u001b[33m\"\u001b[39m,\n\u001b[32m   5443\u001b[39m ) -> DataFrame | \u001b[38;5;28;01mNone\u001b[39;00m:\n\u001b[32m   5444\u001b[39m \u001b[38;5;250m    \u001b[39m\u001b[33;03m\"\"\"\u001b[39;00m\n\u001b[32m   5445\u001b[39m \u001b[33;03m    Drop specified labels from rows or columns.\u001b[39;00m\n\u001b[32m   5446\u001b[39m \n\u001b[32m   (...)\u001b[39m\u001b[32m   5579\u001b[39m \u001b[33;03m            weight  1.0     0.8\u001b[39;00m\n\u001b[32m   5580\u001b[39m \u001b[33;03m    \"\"\"\u001b[39;00m\n\u001b[32m-> \u001b[39m\u001b[32m5581\u001b[39m     \u001b[38;5;28;01mreturn\u001b[39;00m \u001b[38;5;28;43msuper\u001b[39;49m\u001b[43m(\u001b[49m\u001b[43m)\u001b[49m\u001b[43m.\u001b[49m\u001b[43mdrop\u001b[49m\u001b[43m(\u001b[49m\n\u001b[32m   5582\u001b[39m \u001b[43m        \u001b[49m\u001b[43mlabels\u001b[49m\u001b[43m=\u001b[49m\u001b[43mlabels\u001b[49m\u001b[43m,\u001b[49m\n\u001b[32m   5583\u001b[39m \u001b[43m        \u001b[49m\u001b[43maxis\u001b[49m\u001b[43m=\u001b[49m\u001b[43maxis\u001b[49m\u001b[43m,\u001b[49m\n\u001b[32m   5584\u001b[39m \u001b[43m        \u001b[49m\u001b[43mindex\u001b[49m\u001b[43m=\u001b[49m\u001b[43mindex\u001b[49m\u001b[43m,\u001b[49m\n\u001b[32m   5585\u001b[39m \u001b[43m        \u001b[49m\u001b[43mcolumns\u001b[49m\u001b[43m=\u001b[49m\u001b[43mcolumns\u001b[49m\u001b[43m,\u001b[49m\n\u001b[32m   5586\u001b[39m \u001b[43m        \u001b[49m\u001b[43mlevel\u001b[49m\u001b[43m=\u001b[49m\u001b[43mlevel\u001b[49m\u001b[43m,\u001b[49m\n\u001b[32m   5587\u001b[39m \u001b[43m        \u001b[49m\u001b[43minplace\u001b[49m\u001b[43m=\u001b[49m\u001b[43minplace\u001b[49m\u001b[43m,\u001b[49m\n\u001b[32m   5588\u001b[39m \u001b[43m        \u001b[49m\u001b[43merrors\u001b[49m\u001b[43m=\u001b[49m\u001b[43merrors\u001b[49m\u001b[43m,\u001b[49m\n\u001b[32m   5589\u001b[39m \u001b[43m    \u001b[49m\u001b[43m)\u001b[49m\n",
      "\u001b[36mFile \u001b[39m\u001b[32mC:\\Project\\Python_Source\\Test01\\.venv\\Lib\\site-packages\\pandas\\core\\generic.py:4788\u001b[39m, in \u001b[36mNDFrame.drop\u001b[39m\u001b[34m(self, labels, axis, index, columns, level, inplace, errors)\u001b[39m\n\u001b[32m   4786\u001b[39m \u001b[38;5;28;01mfor\u001b[39;00m axis, labels \u001b[38;5;129;01min\u001b[39;00m axes.items():\n\u001b[32m   4787\u001b[39m     \u001b[38;5;28;01mif\u001b[39;00m labels \u001b[38;5;129;01mis\u001b[39;00m \u001b[38;5;129;01mnot\u001b[39;00m \u001b[38;5;28;01mNone\u001b[39;00m:\n\u001b[32m-> \u001b[39m\u001b[32m4788\u001b[39m         obj = \u001b[43mobj\u001b[49m\u001b[43m.\u001b[49m\u001b[43m_drop_axis\u001b[49m\u001b[43m(\u001b[49m\u001b[43mlabels\u001b[49m\u001b[43m,\u001b[49m\u001b[43m \u001b[49m\u001b[43maxis\u001b[49m\u001b[43m,\u001b[49m\u001b[43m \u001b[49m\u001b[43mlevel\u001b[49m\u001b[43m=\u001b[49m\u001b[43mlevel\u001b[49m\u001b[43m,\u001b[49m\u001b[43m \u001b[49m\u001b[43merrors\u001b[49m\u001b[43m=\u001b[49m\u001b[43merrors\u001b[49m\u001b[43m)\u001b[49m\n\u001b[32m   4790\u001b[39m \u001b[38;5;28;01mif\u001b[39;00m inplace:\n\u001b[32m   4791\u001b[39m     \u001b[38;5;28mself\u001b[39m._update_inplace(obj)\n",
      "\u001b[36mFile \u001b[39m\u001b[32mC:\\Project\\Python_Source\\Test01\\.venv\\Lib\\site-packages\\pandas\\core\\generic.py:4830\u001b[39m, in \u001b[36mNDFrame._drop_axis\u001b[39m\u001b[34m(self, labels, axis, level, errors, only_slice)\u001b[39m\n\u001b[32m   4828\u001b[39m         new_axis = axis.drop(labels, level=level, errors=errors)\n\u001b[32m   4829\u001b[39m     \u001b[38;5;28;01melse\u001b[39;00m:\n\u001b[32m-> \u001b[39m\u001b[32m4830\u001b[39m         new_axis = \u001b[43maxis\u001b[49m\u001b[43m.\u001b[49m\u001b[43mdrop\u001b[49m\u001b[43m(\u001b[49m\u001b[43mlabels\u001b[49m\u001b[43m,\u001b[49m\u001b[43m \u001b[49m\u001b[43merrors\u001b[49m\u001b[43m=\u001b[49m\u001b[43merrors\u001b[49m\u001b[43m)\u001b[49m\n\u001b[32m   4831\u001b[39m     indexer = axis.get_indexer(new_axis)\n\u001b[32m   4833\u001b[39m \u001b[38;5;66;03m# Case for non-unique axis\u001b[39;00m\n\u001b[32m   4834\u001b[39m \u001b[38;5;28;01melse\u001b[39;00m:\n",
      "\u001b[36mFile \u001b[39m\u001b[32mC:\\Project\\Python_Source\\Test01\\.venv\\Lib\\site-packages\\pandas\\core\\indexes\\base.py:7070\u001b[39m, in \u001b[36mIndex.drop\u001b[39m\u001b[34m(self, labels, errors)\u001b[39m\n\u001b[32m   7068\u001b[39m \u001b[38;5;28;01mif\u001b[39;00m mask.any():\n\u001b[32m   7069\u001b[39m     \u001b[38;5;28;01mif\u001b[39;00m errors != \u001b[33m\"\u001b[39m\u001b[33mignore\u001b[39m\u001b[33m\"\u001b[39m:\n\u001b[32m-> \u001b[39m\u001b[32m7070\u001b[39m         \u001b[38;5;28;01mraise\u001b[39;00m \u001b[38;5;167;01mKeyError\u001b[39;00m(\u001b[33mf\u001b[39m\u001b[33m\"\u001b[39m\u001b[38;5;132;01m{\u001b[39;00mlabels[mask].tolist()\u001b[38;5;132;01m}\u001b[39;00m\u001b[33m not found in axis\u001b[39m\u001b[33m\"\u001b[39m)\n\u001b[32m   7071\u001b[39m     indexer = indexer[~mask]\n\u001b[32m   7072\u001b[39m \u001b[38;5;28;01mreturn\u001b[39;00m \u001b[38;5;28mself\u001b[39m.delete(indexer)\n",
      "\u001b[31mKeyError\u001b[39m: \"['trim'] not found in axis\""
     ]
    }
   ],
   "source": [
    "# trim 전처리 (열 삭제)\n",
    "df = df.drop(columns=['trim'])\n"
   ]
  },
  {
   "cell_type": "code",
   "execution_count": null,
   "id": "353299ee-c939-4012-a4df-2915ca3df7df",
   "metadata": {},
   "outputs": [],
   "source": []
  },
  {
   "cell_type": "code",
   "execution_count": null,
   "id": "771bc28b-d37a-4491-955c-11e963acf6c3",
   "metadata": {},
   "outputs": [],
   "source": []
  }
 ],
 "metadata": {
  "kernelspec": {
   "display_name": "Python 3 (ipykernel)",
   "language": "python",
   "name": "python3"
  },
  "language_info": {
   "codemirror_mode": {
    "name": "ipython",
    "version": 3
   },
   "file_extension": ".py",
   "mimetype": "text/x-python",
   "name": "python",
   "nbconvert_exporter": "python",
   "pygments_lexer": "ipython3",
   "version": "3.11.0"
  }
 },
 "nbformat": 4,
 "nbformat_minor": 5
}
