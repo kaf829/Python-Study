{
 "cells": [
  {
   "cell_type": "markdown",
   "id": "a2a9156a-d114-4dc8-b91c-795eab73f914",
   "metadata": {},
   "source": [
    "# Apply()메서드로 함수 적용하기"
   ]
  },
  {
   "cell_type": "code",
   "execution_count": 7,
   "id": "fe3e6959-1a6b-4a4c-8d34-397c130cec9a",
   "metadata": {},
   "outputs": [],
   "source": [
    "def my_sq(x):\n",
    "    return x ** 2"
   ]
  },
  {
   "cell_type": "code",
   "execution_count": 8,
   "id": "1cb0791b-f24a-43c8-bc38-1af2e89bdf14",
   "metadata": {},
   "outputs": [],
   "source": [
    "def avg_2(x,y):\n",
    "    return (x+y)/2"
   ]
  },
  {
   "cell_type": "code",
   "execution_count": 9,
   "id": "517dabd2-0e67-4ca1-8d2b-9f94a5205352",
   "metadata": {},
   "outputs": [],
   "source": [
    "def avg_2(x,y):\n",
    "    return (x+y) /2"
   ]
  },
  {
   "cell_type": "code",
   "execution_count": 10,
   "id": "14f94394-6c66-4edc-86cf-334f95209568",
   "metadata": {},
   "outputs": [
    {
     "name": "stdout",
     "output_type": "stream",
     "text": [
      "16\n"
     ]
    }
   ],
   "source": [
    "my_calc_1 = my_sq(4)\n",
    "print(my_calc_1)"
   ]
  },
  {
   "cell_type": "code",
   "execution_count": 12,
   "id": "abfc0bfd-470d-4101-b8ad-0366ab771f43",
   "metadata": {},
   "outputs": [
    {
     "name": "stdout",
     "output_type": "stream",
     "text": [
      "15.0\n"
     ]
    }
   ],
   "source": [
    "my_calc_2 = avg_2(10,20)\n",
    "print(my_calc_2)"
   ]
  },
  {
   "cell_type": "code",
   "execution_count": 13,
   "id": "a485c159-5da0-4571-9b77-845e9ff3b591",
   "metadata": {},
   "outputs": [],
   "source": [
    "import pandas as pd"
   ]
  },
  {
   "cell_type": "code",
   "execution_count": 14,
   "id": "86087d81-1028-40f7-a2b5-d348250e6d7b",
   "metadata": {},
   "outputs": [
    {
     "name": "stdout",
     "output_type": "stream",
     "text": [
      "    a   b\n",
      "0  10  20\n",
      "1  20  30\n",
      "2  30  40\n"
     ]
    }
   ],
   "source": [
    "df = pd.DataFrame({\"a\" : [10,20,30],\n",
    "                   \"b\" : [20,30,40]})\n",
    "print(df)"
   ]
  },
  {
   "cell_type": "code",
   "execution_count": 15,
   "id": "6b11e7b6-722e-4e92-8d55-dc23e0ed02cb",
   "metadata": {},
   "outputs": [
    {
     "name": "stdout",
     "output_type": "stream",
     "text": [
      "0    100\n",
      "1    400\n",
      "2    900\n",
      "Name: a, dtype: int64\n"
     ]
    }
   ],
   "source": [
    "print(df['a'] ** 2)"
   ]
  },
  {
   "cell_type": "code",
   "execution_count": 16,
   "id": "b495c417-2e4e-40a1-80ed-1a945389d6fe",
   "metadata": {},
   "outputs": [
    {
     "name": "stdout",
     "output_type": "stream",
     "text": [
      "<class 'pandas.core.series.Series'>\n"
     ]
    }
   ],
   "source": [
    "print(type(df['a']))"
   ]
  },
  {
   "cell_type": "code",
   "execution_count": 17,
   "id": "3d70d288-6e98-46e1-a4aa-568ea2dcfd27",
   "metadata": {},
   "outputs": [
    {
     "name": "stdout",
     "output_type": "stream",
     "text": [
      "<class 'pandas.core.series.Series'>\n"
     ]
    }
   ],
   "source": [
    "print(type(df.iloc[0]))"
   ]
  },
  {
   "cell_type": "code",
   "execution_count": 18,
   "id": "b7612c53-b1c9-41b4-8d34-5eeba4643b8c",
   "metadata": {},
   "outputs": [],
   "source": [
    "sq = df['a'].apply(my_sq)"
   ]
  },
  {
   "cell_type": "code",
   "execution_count": 19,
   "id": "060a7477-5219-4e20-acc5-ec709c5320a3",
   "metadata": {},
   "outputs": [
    {
     "name": "stdout",
     "output_type": "stream",
     "text": [
      "0    100\n",
      "1    400\n",
      "2    900\n",
      "Name: a, dtype: int64\n"
     ]
    }
   ],
   "source": [
    "print(sq)"
   ]
  },
  {
   "cell_type": "code",
   "execution_count": 21,
   "id": "301aa09c-5373-405a-841d-ef9e0ab06876",
   "metadata": {},
   "outputs": [],
   "source": [
    "def my_exp(x,e):\n",
    "    return(x ** e)"
   ]
  },
  {
   "cell_type": "code",
   "execution_count": 22,
   "id": "5f674973-edef-471a-9e76-8dc155818c4c",
   "metadata": {},
   "outputs": [],
   "source": [
    "cubed = my_exp(2,3)"
   ]
  },
  {
   "cell_type": "code",
   "execution_count": 23,
   "id": "477c0b30-94d4-4922-bd8a-91314222c2b7",
   "metadata": {},
   "outputs": [
    {
     "name": "stdout",
     "output_type": "stream",
     "text": [
      "8\n"
     ]
    }
   ],
   "source": [
    "print(cubed)"
   ]
  },
  {
   "cell_type": "code",
   "execution_count": 26,
   "id": "4ab83282-9541-4fe7-bf62-f6d1b03384d3",
   "metadata": {},
   "outputs": [],
   "source": [
    "# my_exp(2) #파라미터 하나만 해서 에러남"
   ]
  },
  {
   "cell_type": "code",
   "execution_count": 31,
   "id": "79376da1-b7d7-4d88-ab68-fd0850c1217e",
   "metadata": {},
   "outputs": [
    {
     "name": "stdout",
     "output_type": "stream",
     "text": [
      "0    100\n",
      "1    400\n",
      "2    900\n",
      "Name: a, dtype: int64\n"
     ]
    }
   ],
   "source": [
    "ex = df['a'].apply(my_exp, e = 2)\n",
    "print(ex)"
   ]
  },
  {
   "cell_type": "code",
   "execution_count": 34,
   "id": "28d939d4-8f16-46cd-ad97-bd629fe9dfdd",
   "metadata": {},
   "outputs": [],
   "source": [
    "ex = df['a'].apply(my_exp,e =3)"
   ]
  },
  {
   "cell_type": "code",
   "execution_count": 35,
   "id": "f0509ed0-d3fc-4a3f-a5dc-7e515feaabfc",
   "metadata": {},
   "outputs": [
    {
     "name": "stdout",
     "output_type": "stream",
     "text": [
      "0     1000\n",
      "1     8000\n",
      "2    27000\n",
      "Name: a, dtype: int64\n"
     ]
    }
   ],
   "source": [
    "print(ex)"
   ]
  },
  {
   "cell_type": "code",
   "execution_count": 43,
   "id": "e36fdb62-dfdc-46bd-937a-4e85b21d7d4f",
   "metadata": {},
   "outputs": [
    {
     "name": "stdout",
     "output_type": "stream",
     "text": [
      "    a   b\n",
      "0  10  20\n",
      "1  20  30\n",
      "2  30  40\n"
     ]
    }
   ],
   "source": [
    "df = pd.DataFrame({'a': [10,20,30],\n",
    "                    'b': [20,30,40]})\n",
    "print(df)"
   ]
  },
  {
   "cell_type": "code",
   "execution_count": 44,
   "id": "da42569a-ee14-455e-bc9f-e5a9aff41fc1",
   "metadata": {},
   "outputs": [],
   "source": [
    "def print_me(x):\n",
    "    print(x)"
   ]
  },
  {
   "cell_type": "code",
   "execution_count": 47,
   "id": "81f96f8e-5f3c-4eb4-ada7-64de733c0d5a",
   "metadata": {},
   "outputs": [
    {
     "name": "stdout",
     "output_type": "stream",
     "text": [
      "0    10\n",
      "1    20\n",
      "2    30\n",
      "Name: a, dtype: int64\n",
      "0    20\n",
      "1    30\n",
      "2    40\n",
      "Name: b, dtype: int64\n"
     ]
    },
    {
     "data": {
      "text/plain": [
       "a    None\n",
       "b    None\n",
       "dtype: object"
      ]
     },
     "execution_count": 47,
     "metadata": {},
     "output_type": "execute_result"
    }
   ],
   "source": [
    "df.apply(print_me, axis=0)"
   ]
  },
  {
   "cell_type": "code",
   "execution_count": 48,
   "id": "2eaa9d00-6c4e-4dca-ad89-e8326d0e5895",
   "metadata": {},
   "outputs": [
    {
     "name": "stdout",
     "output_type": "stream",
     "text": [
      "0    10\n",
      "1    20\n",
      "2    30\n",
      "Name: a, dtype: int64\n"
     ]
    }
   ],
   "source": [
    "print(df['a'])"
   ]
  },
  {
   "cell_type": "code",
   "execution_count": 49,
   "id": "baa16a3f-80f2-482e-9473-5993cfac7fac",
   "metadata": {},
   "outputs": [
    {
     "name": "stdout",
     "output_type": "stream",
     "text": [
      "0    20\n",
      "1    30\n",
      "2    40\n",
      "Name: b, dtype: int64\n"
     ]
    }
   ],
   "source": [
    "print(df['b'])"
   ]
  },
  {
   "cell_type": "code",
   "execution_count": 50,
   "id": "46fc689b-ebd6-4dbc-95f7-abacdfeef52e",
   "metadata": {},
   "outputs": [],
   "source": [
    "def avg_3(x,y,z):\n",
    "    return (x + y + z) /3"
   ]
  },
  {
   "cell_type": "code",
   "execution_count": 54,
   "id": "0be5dc44-a26c-4173-8a17-32506ab1c1a8",
   "metadata": {},
   "outputs": [],
   "source": [
    "# print(df.apply(avg_3)) # 열마다 3개의 값이 없어서 에러"
   ]
  },
  {
   "cell_type": "code",
   "execution_count": 55,
   "id": "98419b2d-42f2-400c-8b9e-4528145abe17",
   "metadata": {},
   "outputs": [],
   "source": [
    "def avg_3_apply(col):\n",
    "    x = col[0]\n",
    "    y= col[1]\n",
    "    z= col[2]\n",
    "    return (x+y+z) /3"
   ]
  },
  {
   "cell_type": "code",
   "execution_count": 56,
   "id": "1df14257-eee0-4650-a64d-89e059e11b99",
   "metadata": {},
   "outputs": [
    {
     "name": "stdout",
     "output_type": "stream",
     "text": [
      "a    20.0\n",
      "b    30.0\n",
      "dtype: float64\n"
     ]
    }
   ],
   "source": [
    "print(df.apply(avg_3_apply))"
   ]
  },
  {
   "cell_type": "code",
   "execution_count": 61,
   "id": "1dad43b4-c447-45bc-aa6b-69e481ece8ab",
   "metadata": {},
   "outputs": [],
   "source": [
    "# print(df.apply(avg_3_apply, axis = 1)) #열 갯수와 행 갯수가 안맞아서 에러"
   ]
  },
  {
   "cell_type": "code",
   "execution_count": 62,
   "id": "175d759f-36ba-4102-a813-ea078a5626fd",
   "metadata": {},
   "outputs": [],
   "source": [
    "def avg_2_apply(row):\n",
    "    x = row[0]\n",
    "    y = row[1]\n",
    "    return (x+y) /2"
   ]
  },
  {
   "cell_type": "code",
   "execution_count": 63,
   "id": "d3d6968b-dcdd-429c-b629-5f8741cf599f",
   "metadata": {},
   "outputs": [
    {
     "name": "stdout",
     "output_type": "stream",
     "text": [
      "0    15.0\n",
      "1    25.0\n",
      "2    35.0\n",
      "dtype: float64\n"
     ]
    },
    {
     "name": "stderr",
     "output_type": "stream",
     "text": [
      "C:\\Users\\MINJUN\\AppData\\Local\\Temp\\ipykernel_31148\\2010424615.py:2: FutureWarning: Series.__getitem__ treating keys as positions is deprecated. In a future version, integer keys will always be treated as labels (consistent with DataFrame behavior). To access a value by position, use `ser.iloc[pos]`\n",
      "  x = row[0]\n",
      "C:\\Users\\MINJUN\\AppData\\Local\\Temp\\ipykernel_31148\\2010424615.py:3: FutureWarning: Series.__getitem__ treating keys as positions is deprecated. In a future version, integer keys will always be treated as labels (consistent with DataFrame behavior). To access a value by position, use `ser.iloc[pos]`\n",
      "  y = row[1]\n"
     ]
    }
   ],
   "source": [
    "print(df.apply(avg_2_apply, axis =1))"
   ]
  },
  {
   "cell_type": "code",
   "execution_count": 64,
   "id": "6489eb06-c060-4430-9d87-30e28416826a",
   "metadata": {},
   "outputs": [],
   "source": [
    "# 람다 함수 사용하기"
   ]
  },
  {
   "cell_type": "code",
   "execution_count": 65,
   "id": "484e71af-ab03-45d0-b898-7353bacc528f",
   "metadata": {},
   "outputs": [
    {
     "name": "stdout",
     "output_type": "stream",
     "text": [
      "    a   b\n",
      "0  10  20\n",
      "1  20  30\n",
      "2  30  40\n"
     ]
    }
   ],
   "source": [
    "df = pd.DataFrame({'a': [10,20,30],\n",
    "                  'b': [20,30,40]})\n",
    "print(df)"
   ]
  },
  {
   "cell_type": "code",
   "execution_count": 68,
   "id": "f68b43ef-6312-4d1c-9af4-c6634b1f0d57",
   "metadata": {},
   "outputs": [
    {
     "name": "stdout",
     "output_type": "stream",
     "text": [
      "    a   b  a_sq\n",
      "0  10  20   100\n",
      "1  20  30   400\n",
      "2  30  40   900\n"
     ]
    }
   ],
   "source": [
    "def my_sq(x):\n",
    "    return x ** 2\n",
    "\n",
    "df['a_sq'] = df['a'].apply(my_sq)\n",
    "print(df)"
   ]
  },
  {
   "cell_type": "code",
   "execution_count": 69,
   "id": "23058ed8-a007-4038-a6c6-2b93c3ea6736",
   "metadata": {},
   "outputs": [
    {
     "name": "stdout",
     "output_type": "stream",
     "text": [
      "    a   b  a_sq  a_sq_lamb\n",
      "0  10  20   100        100\n",
      "1  20  30   400        400\n",
      "2  30  40   900        900\n"
     ]
    }
   ],
   "source": [
    "df['a_sq_lamb'] = df['a'].apply(lambda x: x ** 2)\n",
    "print(df)"
   ]
  },
  {
   "cell_type": "code",
   "execution_count": 70,
   "id": "c414897f-5e9a-4993-9f39-d6945ab65e9d",
   "metadata": {},
   "outputs": [],
   "source": [
    "#백터화된 함수 사용하기"
   ]
  },
  {
   "cell_type": "code",
   "execution_count": 71,
   "id": "6a422108-9cce-4be7-8f63-292b6df0a8ed",
   "metadata": {},
   "outputs": [
    {
     "name": "stdout",
     "output_type": "stream",
     "text": [
      "    a   b\n",
      "0  10  20\n",
      "1  20  30\n",
      "2  30  40\n"
     ]
    }
   ],
   "source": [
    "df = pd.DataFrame({'a': [10,20,30],\n",
    "                  'b': [20,30,40]})\n",
    "print(df)"
   ]
  },
  {
   "cell_type": "code",
   "execution_count": 72,
   "id": "0adfe674-9c1f-4a20-9715-365d06f5dea0",
   "metadata": {},
   "outputs": [],
   "source": [
    "def avg_2(x,y):\n",
    "    return (x+y)/ 2"
   ]
  },
  {
   "cell_type": "code",
   "execution_count": 73,
   "id": "8e5cc377-566a-4905-afe2-02bc7d9800e2",
   "metadata": {},
   "outputs": [
    {
     "name": "stdout",
     "output_type": "stream",
     "text": [
      "0    15.0\n",
      "1    25.0\n",
      "2    35.0\n",
      "dtype: float64\n"
     ]
    }
   ],
   "source": [
    "print(avg_2(df['a'],df['b']))"
   ]
  },
  {
   "cell_type": "code",
   "execution_count": 102,
   "id": "dd2c2701-cd70-4952-a6b1-61dbfb2e6308",
   "metadata": {},
   "outputs": [],
   "source": [
    "def avg_2_mod(x, y):\n",
    "    if x == 20:\n",
    "        return np.NaN\n",
    "    else:\n",
    "        return (x + y) / 2  \n"
   ]
  },
  {
   "cell_type": "code",
   "execution_count": 103,
   "id": "3aa84f3f-fca4-4323-8c40-26d04785b40c",
   "metadata": {},
   "outputs": [],
   "source": [
    "# print(avg_2_mod(df['a'], df['b'])) # ValueError 발생"
   ]
  },
  {
   "cell_type": "raw",
   "id": "eb567011-e1a2-4430-b9bb-18ae819b418a",
   "metadata": {},
   "source": []
  },
  {
   "cell_type": "code",
   "execution_count": 108,
   "id": "268c4c28-906d-4052-b749-fac8fb20ea1c",
   "metadata": {},
   "outputs": [
    {
     "name": "stdout",
     "output_type": "stream",
     "text": [
      "15.0\n"
     ]
    }
   ],
   "source": [
    "print(avg_2_mod(10,20))"
   ]
  },
  {
   "cell_type": "code",
   "execution_count": 110,
   "id": "72e7ce34-bad0-411b-a57a-5e1aba3443e2",
   "metadata": {},
   "outputs": [
    {
     "name": "stdout",
     "output_type": "stream",
     "text": [
      "35.0\n"
     ]
    }
   ],
   "source": [
    "print(avg_2_mod(30,40))"
   ]
  },
  {
   "cell_type": "code",
   "execution_count": 112,
   "id": "b3a05210-816d-499c-8a62-bd80e442b4f7",
   "metadata": {},
   "outputs": [],
   "source": [
    "avg_2_mod_vec= np.vectorize(avg_2_mod)"
   ]
  },
  {
   "cell_type": "code",
   "execution_count": 117,
   "id": "5456c5bf-b587-4b20-a501-916026e1670e",
   "metadata": {},
   "outputs": [
    {
     "name": "stdout",
     "output_type": "stream",
     "text": [
      "[20. nan 40.]\n"
     ]
    }
   ],
   "source": [
    "import numpy as np\n",
    "import pandas as pd\n",
    "\n",
    "data = {'a': [10, 20, 30], 'b': [30, 40, 50]}\n",
    "df = pd.DataFrame(data)\n",
    "\n",
    "def avg_2_mod(x, y):\n",
    "    if x == 20:\n",
    "        return np.nan  \n",
    "    else:\n",
    "        return (x + y) / 2\n",
    "\n",
    "avg_2_mod_vec = np.vectorize(avg_2_mod)\n",
    "\n",
    "print(avg_2_mod_vec(df['a'], df['b']))\n"
   ]
  },
  {
   "cell_type": "code",
   "execution_count": 118,
   "id": "adee87ca-dd1f-4149-98b3-e4c8967e404b",
   "metadata": {},
   "outputs": [],
   "source": [
    "#데이터 연결하기"
   ]
  },
  {
   "cell_type": "code",
   "execution_count": 121,
   "id": "86006e4f-98f6-453c-a6cb-9be6214f176c",
   "metadata": {},
   "outputs": [],
   "source": [
    "df1 = pd.read_csv('./data/concat_1.csv')\n",
    "df2 = pd.read_csv('./data/concat_2.csv')\n",
    "df3 = pd.read_csv('./data/concat_3.csv')"
   ]
  },
  {
   "cell_type": "code",
   "execution_count": 122,
   "id": "8999ab04-73c5-43bd-82c0-196d9074a9d7",
   "metadata": {},
   "outputs": [
    {
     "name": "stdout",
     "output_type": "stream",
     "text": [
      "    A   B   C   D\n",
      "0  a0  b0  c0  d0\n",
      "1  a1  b1  c1  d1\n",
      "2  a2  b2  c2  d2\n",
      "3  a3  b3  c3  d3\n"
     ]
    }
   ],
   "source": [
    "print(df1)"
   ]
  },
  {
   "cell_type": "code",
   "execution_count": 123,
   "id": "21f3932a-de92-435e-9fe5-d3fd73fbd61a",
   "metadata": {},
   "outputs": [
    {
     "name": "stdout",
     "output_type": "stream",
     "text": [
      "    A   B   C   D\n",
      "0  a4  b4  c4  d4\n",
      "1  a5  b5  c5  d5\n",
      "2  a6  b6  c6  d6\n",
      "3  a7  b7  c7  d7\n"
     ]
    }
   ],
   "source": [
    "print(df2)"
   ]
  },
  {
   "cell_type": "code",
   "execution_count": 124,
   "id": "a8c563cb-7c9e-43e2-a349-957172a64233",
   "metadata": {},
   "outputs": [
    {
     "name": "stdout",
     "output_type": "stream",
     "text": [
      "     A    B    C    D\n",
      "0   a8   b8   c8   d8\n",
      "1   a9   b9   c9   d9\n",
      "2  a10  b10  c10  d10\n",
      "3  a11  b11  c11  d11\n"
     ]
    }
   ],
   "source": [
    "print(df3)"
   ]
  },
  {
   "cell_type": "code",
   "execution_count": 125,
   "id": "5e26c1c9-89da-43c2-844c-7e61d208d1ef",
   "metadata": {},
   "outputs": [
    {
     "name": "stdout",
     "output_type": "stream",
     "text": [
      "RangeIndex(start=0, stop=4, step=1)\n"
     ]
    }
   ],
   "source": [
    "print(df1.index)"
   ]
  },
  {
   "cell_type": "code",
   "execution_count": 126,
   "id": "dc47c519-7443-42b2-a077-d49d7c7aa831",
   "metadata": {},
   "outputs": [
    {
     "name": "stdout",
     "output_type": "stream",
     "text": [
      "Index(['A', 'B', 'C', 'D'], dtype='object')\n"
     ]
    }
   ],
   "source": [
    "print(df1.columns)"
   ]
  },
  {
   "cell_type": "code",
   "execution_count": 127,
   "id": "c572efe4-b05f-42e2-8bdc-7bf0988ae94f",
   "metadata": {},
   "outputs": [
    {
     "name": "stdout",
     "output_type": "stream",
     "text": [
      "[['a0' 'b0' 'c0' 'd0']\n",
      " ['a1' 'b1' 'c1' 'd1']\n",
      " ['a2' 'b2' 'c2' 'd2']\n",
      " ['a3' 'b3' 'c3' 'd3']]\n"
     ]
    }
   ],
   "source": [
    "print(df1.values)"
   ]
  },
  {
   "cell_type": "code",
   "execution_count": 131,
   "id": "576bcea9-615a-4056-8ebf-a9bb858c2c09",
   "metadata": {},
   "outputs": [
    {
     "name": "stdout",
     "output_type": "stream",
     "text": [
      "     A    B    C    D\n",
      "0   a0   b0   c0   d0\n",
      "1   a1   b1   c1   d1\n",
      "2   a2   b2   c2   d2\n",
      "3   a3   b3   c3   d3\n",
      "0   a4   b4   c4   d4\n",
      "1   a5   b5   c5   d5\n",
      "2   a6   b6   c6   d6\n",
      "3   a7   b7   c7   d7\n",
      "0   a8   b8   c8   d8\n",
      "1   a9   b9   c9   d9\n",
      "2  a10  b10  c10  d10\n",
      "3  a11  b11  c11  d11\n"
     ]
    }
   ],
   "source": [
    "row_concat = pd.concat([df1,df2,df3])\n",
    "print(row_concat)"
   ]
  },
  {
   "cell_type": "code",
   "execution_count": 133,
   "id": "35c11d02-7111-4eb4-82eb-8aa1abade7b2",
   "metadata": {},
   "outputs": [
    {
     "name": "stdout",
     "output_type": "stream",
     "text": [
      "A    a3\n",
      "B    b3\n",
      "C    c3\n",
      "D    d3\n",
      "Name: 3, dtype: object\n"
     ]
    }
   ],
   "source": [
    "print(row_concat.iloc[3, :])"
   ]
  },
  {
   "cell_type": "code",
   "execution_count": 138,
   "id": "a55ffa58-cb9c-4e96-a80f-c9cb6c7c560c",
   "metadata": {},
   "outputs": [
    {
     "name": "stdout",
     "output_type": "stream",
     "text": [
      "0    n1\n",
      "1    n2\n",
      "2    n3\n",
      "3    n4\n",
      "dtype: object\n"
     ]
    }
   ],
   "source": [
    "new_row_series = pd.Series(['n1','n2','n3','n4'])\n",
    "print(new_row_series)"
   ]
  },
  {
   "cell_type": "code",
   "execution_count": 143,
   "id": "e576fa13-1b78-48e6-ab96-f4d5ed53e66a",
   "metadata": {},
   "outputs": [
    {
     "name": "stdout",
     "output_type": "stream",
     "text": [
      "     A    B    C    D    0\n",
      "0   a0   b0   c0   d0  NaN\n",
      "1   a1   b1   c1   d1  NaN\n",
      "2   a2   b2   c2   d2  NaN\n",
      "3   a3   b3   c3   d3  NaN\n",
      "4  NaN  NaN  NaN  NaN   n1\n",
      "5  NaN  NaN  NaN  NaN   n2\n",
      "6  NaN  NaN  NaN  NaN   n3\n",
      "7  NaN  NaN  NaN  NaN   n4\n"
     ]
    }
   ],
   "source": [
    "print(pd.concat([df1, new_row_series], ignore_index=True))"
   ]
  },
  {
   "cell_type": "code",
   "execution_count": 144,
   "id": "b848cea0-07dd-41c4-9b19-fa51becbcf94",
   "metadata": {},
   "outputs": [
    {
     "name": "stdout",
     "output_type": "stream",
     "text": [
      "    A   B   C   D\n",
      "0  n1  n2  n3  n4\n"
     ]
    }
   ],
   "source": [
    "new_row_df = pd.DataFrame(\n",
    "    data = [[\"n1\",\"n2\",\"n3\",\"n4\"]],\n",
    "    columns = [\"A\",\"B\",\"C\",\"D\"]\n",
    ")\n",
    "print(new_row_df)"
   ]
  },
  {
   "cell_type": "code",
   "execution_count": 145,
   "id": "0609d089-add6-496c-b396-6617d9c7a272",
   "metadata": {},
   "outputs": [
    {
     "name": "stdout",
     "output_type": "stream",
     "text": [
      "      A    B    C    D\n",
      "0    a0   b0   c0   d0\n",
      "1    a1   b1   c1   d1\n",
      "2    a2   b2   c2   d2\n",
      "3    a3   b3   c3   d3\n",
      "4    a4   b4   c4   d4\n",
      "5    a5   b5   c5   d5\n",
      "6    a6   b6   c6   d6\n",
      "7    a7   b7   c7   d7\n",
      "8    a8   b8   c8   d8\n",
      "9    a9   b9   c9   d9\n",
      "10  a10  b10  c10  d10\n",
      "11  a11  b11  c11  d11\n"
     ]
    }
   ],
   "source": [
    "row_concat_i = pd.concat([df1,df2,df3], ignore_index =True)\n",
    "print(row_concat_i)"
   ]
  },
  {
   "cell_type": "code",
   "execution_count": 146,
   "id": "b08ec90a-3dc5-4161-b147-06877c4ee959",
   "metadata": {},
   "outputs": [
    {
     "name": "stdout",
     "output_type": "stream",
     "text": [
      "    A   B   C   D   A   B   C   D    A    B    C    D\n",
      "0  a0  b0  c0  d0  a4  b4  c4  d4   a8   b8   c8   d8\n",
      "1  a1  b1  c1  d1  a5  b5  c5  d5   a9   b9   c9   d9\n",
      "2  a2  b2  c2  d2  a6  b6  c6  d6  a10  b10  c10  d10\n",
      "3  a3  b3  c3  d3  a7  b7  c7  d7  a11  b11  c11  d11\n"
     ]
    }
   ],
   "source": [
    "col_concat = pd.concat([df1,df2,df3], axis = \"columns\")\n",
    "print(col_concat)"
   ]
  },
  {
   "cell_type": "code",
   "execution_count": 148,
   "id": "20f29569-7815-434e-bb3e-47a4a9b3a42e",
   "metadata": {},
   "outputs": [
    {
     "name": "stdout",
     "output_type": "stream",
     "text": [
      "    A   A    A\n",
      "0  a0  a4   a8\n",
      "1  a1  a5   a9\n",
      "2  a2  a6  a10\n",
      "3  a3  a7  a11\n"
     ]
    }
   ],
   "source": [
    "print(col_concat['A'])"
   ]
  },
  {
   "cell_type": "code",
   "execution_count": 149,
   "id": "515afa09-67e6-4384-a6fc-9befd4d17eaf",
   "metadata": {},
   "outputs": [
    {
     "name": "stdout",
     "output_type": "stream",
     "text": [
      "    A   B   C   D   A   B   C   D    A    B    C    D new_col_list\n",
      "0  a0  b0  c0  d0  a4  b4  c4  d4   a8   b8   c8   d8           n1\n",
      "1  a1  b1  c1  d1  a5  b5  c5  d5   a9   b9   c9   d9           n2\n",
      "2  a2  b2  c2  d2  a6  b6  c6  d6  a10  b10  c10  d10           n3\n",
      "3  a3  b3  c3  d3  a7  b7  c7  d7  a11  b11  c11  d11           n4\n"
     ]
    }
   ],
   "source": [
    "col_concat['new_col_list'] = ['n1','n2','n3','n4']\n",
    "print(col_concat)"
   ]
  },
  {
   "cell_type": "code",
   "execution_count": 152,
   "id": "cb8f74a4-a225-4525-ae14-fc063c0ecff9",
   "metadata": {},
   "outputs": [
    {
     "name": "stdout",
     "output_type": "stream",
     "text": [
      "    A   B   C   D   A   B   C   D    A    B    C    D new_col_list  \\\n",
      "0  a0  b0  c0  d0  a4  b4  c4  d4   a8   b8   c8   d8           n1   \n",
      "1  a1  b1  c1  d1  a5  b5  c5  d5   a9   b9   c9   d9           n2   \n",
      "2  a2  b2  c2  d2  a6  b6  c6  d6  a10  b10  c10  d10           n3   \n",
      "3  a3  b3  c3  d3  a7  b7  c7  d7  a11  b11  c11  d11           n4   \n",
      "\n",
      "  new_col_series  \n",
      "0             n1  \n",
      "1             n2  \n",
      "2             n3  \n",
      "3             n4  \n"
     ]
    }
   ],
   "source": [
    "col_concat['new_col_series'] = pd.Series(['n1','n2','n3','n4'])\n",
    "print(col_concat)"
   ]
  },
  {
   "cell_type": "code",
   "execution_count": 154,
   "id": "dfe84aba-a55c-42ae-9926-472d0847abc6",
   "metadata": {},
   "outputs": [
    {
     "name": "stdout",
     "output_type": "stream",
     "text": [
      "   0   1   2   3   4   5   6   7    8    9    10   11\n",
      "0  a0  b0  c0  d0  a4  b4  c4  d4   a8   b8   c8   d8\n",
      "1  a1  b1  c1  d1  a5  b5  c5  d5   a9   b9   c9   d9\n",
      "2  a2  b2  c2  d2  a6  b6  c6  d6  a10  b10  c10  d10\n",
      "3  a3  b3  c3  d3  a7  b7  c7  d7  a11  b11  c11  d11\n"
     ]
    }
   ],
   "source": [
    "print(pd.concat([df1,df2,df3], axis =\"columns\", ignore_index = True))"
   ]
  },
  {
   "cell_type": "code",
   "execution_count": 155,
   "id": "e0083d0a-fb8e-45c9-88f7-06887bfb96a3",
   "metadata": {},
   "outputs": [
    {
     "name": "stdout",
     "output_type": "stream",
     "text": [
      "    A   B   C   D\n",
      "0  a0  b0  c0  d0\n",
      "1  a1  b1  c1  d1\n",
      "2  a2  b2  c2  d2\n",
      "3  a3  b3  c3  d3\n"
     ]
    }
   ],
   "source": [
    "df1.columns = ['A',\"B\", \"C\",\"D\"]\n",
    "df2.columns = ['E','F','G','H']\n",
    "df3.columns = ['A','C',\"F\",'H']\n",
    "print(df1)"
   ]
  },
  {
   "cell_type": "code",
   "execution_count": 156,
   "id": "b8025915-e48f-4ae4-a299-c5b67a66ae3f",
   "metadata": {},
   "outputs": [
    {
     "name": "stdout",
     "output_type": "stream",
     "text": [
      "    E   F   G   H\n",
      "0  a4  b4  c4  d4\n",
      "1  a5  b5  c5  d5\n",
      "2  a6  b6  c6  d6\n",
      "3  a7  b7  c7  d7\n"
     ]
    }
   ],
   "source": [
    "print(df2)"
   ]
  },
  {
   "cell_type": "code",
   "execution_count": 157,
   "id": "d187055a-62e5-4a59-8e5b-fce918567610",
   "metadata": {},
   "outputs": [
    {
     "name": "stdout",
     "output_type": "stream",
     "text": [
      "     A    C    F    H\n",
      "0   a8   b8   c8   d8\n",
      "1   a9   b9   c9   d9\n",
      "2  a10  b10  c10  d10\n",
      "3  a11  b11  c11  d11\n"
     ]
    }
   ],
   "source": [
    "print(df3)"
   ]
  },
  {
   "cell_type": "code",
   "execution_count": 158,
   "id": "41580c87-da92-4a8a-8235-c4cd2181cdc1",
   "metadata": {},
   "outputs": [
    {
     "name": "stdout",
     "output_type": "stream",
     "text": [
      "     A    B    C    D    E    F    G    H\n",
      "0   a0   b0   c0   d0  NaN  NaN  NaN  NaN\n",
      "1   a1   b1   c1   d1  NaN  NaN  NaN  NaN\n",
      "2   a2   b2   c2   d2  NaN  NaN  NaN  NaN\n",
      "3   a3   b3   c3   d3  NaN  NaN  NaN  NaN\n",
      "0  NaN  NaN  NaN  NaN   a4   b4   c4   d4\n",
      "1  NaN  NaN  NaN  NaN   a5   b5   c5   d5\n",
      "2  NaN  NaN  NaN  NaN   a6   b6   c6   d6\n",
      "3  NaN  NaN  NaN  NaN   a7   b7   c7   d7\n",
      "0   a8  NaN   b8  NaN  NaN   c8  NaN   d8\n",
      "1   a9  NaN   b9  NaN  NaN   c9  NaN   d9\n",
      "2  a10  NaN  b10  NaN  NaN  c10  NaN  d10\n",
      "3  a11  NaN  b11  NaN  NaN  c11  NaN  d11\n"
     ]
    }
   ],
   "source": [
    "row_concat = pd.concat([df1,df2,df3])\n",
    "print(row_concat)"
   ]
  },
  {
   "cell_type": "code",
   "execution_count": 159,
   "id": "e9d897c0-6d2f-4afa-ba6f-a0d24ea78b75",
   "metadata": {},
   "outputs": [
    {
     "name": "stdout",
     "output_type": "stream",
     "text": [
      "Empty DataFrame\n",
      "Columns: []\n",
      "Index: [0, 1, 2, 3, 0, 1, 2, 3, 0, 1, 2, 3]\n"
     ]
    }
   ],
   "source": [
    "print(pd.concat([df1,df2,df3], join = \"inner\"))"
   ]
  },
  {
   "cell_type": "code",
   "execution_count": 161,
   "id": "86d2b3b1-cc65-4d0b-96ed-73575d8bf050",
   "metadata": {},
   "outputs": [
    {
     "name": "stdout",
     "output_type": "stream",
     "text": [
      "     A    C\n",
      "0   a0   c0\n",
      "1   a1   c1\n",
      "2   a2   c2\n",
      "3   a3   c3\n",
      "0   a8   b8\n",
      "1   a9   b9\n",
      "2  a10  b10\n",
      "3  a11  b11\n"
     ]
    }
   ],
   "source": [
    "print(pd.concat([df1,df3], join = \"inner\" , ignore_index = False))"
   ]
  },
  {
   "cell_type": "code",
   "execution_count": 162,
   "id": "f766f4d7-9a3c-4efe-ae35-d7b96f62d38e",
   "metadata": {},
   "outputs": [
    {
     "name": "stdout",
     "output_type": "stream",
     "text": [
      "    A   B   C   D\n",
      "0  a0  b0  c0  d0\n",
      "1  a1  b1  c1  d1\n",
      "2  a2  b2  c2  d2\n",
      "3  a3  b3  c3  d3\n"
     ]
    }
   ],
   "source": [
    "df1.index = [0,1,2,3]\n",
    "df2.index = [4,5,6,7]\n",
    "df3.index = [0,2,5,7]\n",
    "print(df1)\n"
   ]
  },
  {
   "cell_type": "code",
   "execution_count": 163,
   "id": "a7b3949a-f27e-4de5-8813-be1fae082a6b",
   "metadata": {},
   "outputs": [
    {
     "name": "stdout",
     "output_type": "stream",
     "text": [
      "    E   F   G   H\n",
      "4  a4  b4  c4  d4\n",
      "5  a5  b5  c5  d5\n",
      "6  a6  b6  c6  d6\n",
      "7  a7  b7  c7  d7\n"
     ]
    }
   ],
   "source": [
    "print(df2)"
   ]
  },
  {
   "cell_type": "code",
   "execution_count": 164,
   "id": "d8dcc310-ba63-4c50-a5ab-a12c51acc12a",
   "metadata": {},
   "outputs": [
    {
     "name": "stdout",
     "output_type": "stream",
     "text": [
      "     A    C    F    H\n",
      "0   a8   b8   c8   d8\n",
      "2   a9   b9   c9   d9\n",
      "5  a10  b10  c10  d10\n",
      "7  a11  b11  c11  d11\n"
     ]
    }
   ],
   "source": [
    "print(df3)"
   ]
  },
  {
   "cell_type": "code",
   "execution_count": 167,
   "id": "cd43c489-0b5d-4ff0-80ab-6b0dd0b41c13",
   "metadata": {},
   "outputs": [],
   "source": [
    "col_concat = pd.concat([df1,df2,df3], axis = \"columns\")"
   ]
  },
  {
   "cell_type": "code",
   "execution_count": 168,
   "id": "51212021-a9a8-4920-9d5d-2a7cff49c017",
   "metadata": {},
   "outputs": [
    {
     "name": "stdout",
     "output_type": "stream",
     "text": [
      "     A    B    C    D    E    F    G    H    A    C    F    H\n",
      "0   a0   b0   c0   d0  NaN  NaN  NaN  NaN   a8   b8   c8   d8\n",
      "1   a1   b1   c1   d1  NaN  NaN  NaN  NaN  NaN  NaN  NaN  NaN\n",
      "2   a2   b2   c2   d2  NaN  NaN  NaN  NaN   a9   b9   c9   d9\n",
      "3   a3   b3   c3   d3  NaN  NaN  NaN  NaN  NaN  NaN  NaN  NaN\n",
      "4  NaN  NaN  NaN  NaN   a4   b4   c4   d4  NaN  NaN  NaN  NaN\n",
      "5  NaN  NaN  NaN  NaN   a5   b5   c5   d5  a10  b10  c10  d10\n",
      "6  NaN  NaN  NaN  NaN   a6   b6   c6   d6  NaN  NaN  NaN  NaN\n",
      "7  NaN  NaN  NaN  NaN   a7   b7   c7   d7  a11  b11  c11  d11\n"
     ]
    }
   ],
   "source": [
    "print(col_concat)"
   ]
  },
  {
   "cell_type": "code",
   "execution_count": 170,
   "id": "bcc7173d-823d-4162-8440-ef9304519b60",
   "metadata": {},
   "outputs": [
    {
     "name": "stdout",
     "output_type": "stream",
     "text": [
      "    A   B   C   D   A   C   F   H\n",
      "0  a0  b0  c0  d0  a8  b8  c8  d8\n",
      "2  a2  b2  c2  d2  a9  b9  c9  d9\n"
     ]
    }
   ],
   "source": [
    "print(pd.concat([df1,df3], axis = \"columns\", join = \"inner\"))"
   ]
  },
  {
   "cell_type": "code",
   "execution_count": 171,
   "id": "488b0e07-13b3-4ab8-9383-5c910052c02e",
   "metadata": {},
   "outputs": [],
   "source": [
    "#분할된 데이터 연결하기"
   ]
  },
  {
   "cell_type": "code",
   "execution_count": 173,
   "id": "355ddb23-a1b6-4165-ac88-1eb43acbb506",
   "metadata": {},
   "outputs": [
    {
     "name": "stdout",
     "output_type": "stream",
     "text": [
      "[WindowsPath('data/billboard-by_week/billboard-01.csv'), WindowsPath('data/billboard-by_week/billboard-02.csv'), WindowsPath('data/billboard-by_week/billboard-03.csv'), WindowsPath('data/billboard-by_week/billboard-04.csv'), WindowsPath('data/billboard-by_week/billboard-05.csv'), WindowsPath('data/billboard-by_week/billboard-06.csv'), WindowsPath('data/billboard-by_week/billboard-07.csv'), WindowsPath('data/billboard-by_week/billboard-08.csv'), WindowsPath('data/billboard-by_week/billboard-09.csv'), WindowsPath('data/billboard-by_week/billboard-10.csv'), WindowsPath('data/billboard-by_week/billboard-11.csv'), WindowsPath('data/billboard-by_week/billboard-12.csv'), WindowsPath('data/billboard-by_week/billboard-13.csv'), WindowsPath('data/billboard-by_week/billboard-14.csv'), WindowsPath('data/billboard-by_week/billboard-15.csv'), WindowsPath('data/billboard-by_week/billboard-16.csv'), WindowsPath('data/billboard-by_week/billboard-17.csv'), WindowsPath('data/billboard-by_week/billboard-18.csv'), WindowsPath('data/billboard-by_week/billboard-19.csv'), WindowsPath('data/billboard-by_week/billboard-20.csv'), WindowsPath('data/billboard-by_week/billboard-21.csv'), WindowsPath('data/billboard-by_week/billboard-22.csv'), WindowsPath('data/billboard-by_week/billboard-23.csv'), WindowsPath('data/billboard-by_week/billboard-24.csv'), WindowsPath('data/billboard-by_week/billboard-25.csv'), WindowsPath('data/billboard-by_week/billboard-26.csv'), WindowsPath('data/billboard-by_week/billboard-27.csv'), WindowsPath('data/billboard-by_week/billboard-28.csv'), WindowsPath('data/billboard-by_week/billboard-29.csv'), WindowsPath('data/billboard-by_week/billboard-30.csv'), WindowsPath('data/billboard-by_week/billboard-31.csv'), WindowsPath('data/billboard-by_week/billboard-32.csv'), WindowsPath('data/billboard-by_week/billboard-33.csv'), WindowsPath('data/billboard-by_week/billboard-34.csv'), WindowsPath('data/billboard-by_week/billboard-35.csv'), WindowsPath('data/billboard-by_week/billboard-36.csv'), WindowsPath('data/billboard-by_week/billboard-37.csv'), WindowsPath('data/billboard-by_week/billboard-38.csv'), WindowsPath('data/billboard-by_week/billboard-39.csv'), WindowsPath('data/billboard-by_week/billboard-40.csv'), WindowsPath('data/billboard-by_week/billboard-41.csv'), WindowsPath('data/billboard-by_week/billboard-42.csv'), WindowsPath('data/billboard-by_week/billboard-43.csv'), WindowsPath('data/billboard-by_week/billboard-44.csv'), WindowsPath('data/billboard-by_week/billboard-45.csv'), WindowsPath('data/billboard-by_week/billboard-46.csv'), WindowsPath('data/billboard-by_week/billboard-47.csv'), WindowsPath('data/billboard-by_week/billboard-48.csv'), WindowsPath('data/billboard-by_week/billboard-49.csv'), WindowsPath('data/billboard-by_week/billboard-50.csv'), WindowsPath('data/billboard-by_week/billboard-51.csv'), WindowsPath('data/billboard-by_week/billboard-52.csv'), WindowsPath('data/billboard-by_week/billboard-53.csv'), WindowsPath('data/billboard-by_week/billboard-54.csv'), WindowsPath('data/billboard-by_week/billboard-55.csv'), WindowsPath('data/billboard-by_week/billboard-56.csv'), WindowsPath('data/billboard-by_week/billboard-57.csv'), WindowsPath('data/billboard-by_week/billboard-58.csv'), WindowsPath('data/billboard-by_week/billboard-59.csv'), WindowsPath('data/billboard-by_week/billboard-60.csv'), WindowsPath('data/billboard-by_week/billboard-61.csv'), WindowsPath('data/billboard-by_week/billboard-62.csv'), WindowsPath('data/billboard-by_week/billboard-63.csv'), WindowsPath('data/billboard-by_week/billboard-64.csv'), WindowsPath('data/billboard-by_week/billboard-65.csv'), WindowsPath('data/billboard-by_week/billboard-66.csv'), WindowsPath('data/billboard-by_week/billboard-67.csv'), WindowsPath('data/billboard-by_week/billboard-68.csv'), WindowsPath('data/billboard-by_week/billboard-69.csv'), WindowsPath('data/billboard-by_week/billboard-70.csv'), WindowsPath('data/billboard-by_week/billboard-71.csv'), WindowsPath('data/billboard-by_week/billboard-72.csv'), WindowsPath('data/billboard-by_week/billboard-73.csv'), WindowsPath('data/billboard-by_week/billboard-74.csv'), WindowsPath('data/billboard-by_week/billboard-75.csv'), WindowsPath('data/billboard-by_week/billboard-76.csv')]\n"
     ]
    }
   ],
   "source": [
    "from pathlib import Path\n",
    "\n",
    "\n",
    "billboard_data_files = (Path(\".\").glob(\"./data/billboard-by_week/billboard-*.csv\"))\n",
    "\n",
    "billboard_data_files = sorted(list(billboard_data_files))\n",
    "print(billboard_data_files)"
   ]
  },
  {
   "cell_type": "code",
   "execution_count": 174,
   "id": "c9069e42-6cb5-4451-9007-f626a9b6f53f",
   "metadata": {},
   "outputs": [],
   "source": [
    "billboard_data_files = list(billboard_data_files)"
   ]
  },
  {
   "cell_type": "code",
   "execution_count": 176,
   "id": "4001ae0f-0441-4bf5-b644-8bc4d8b68d77",
   "metadata": {},
   "outputs": [
    {
     "name": "stdout",
     "output_type": "stream",
     "text": [
      "     year            artist                    track  time date.entered week  \\\n",
      "0    2000             2 Pac  Baby Don't Cry (Keep...  4:22   2000-02-26  wk1   \n",
      "1    2000           2Ge+her  The Hardest Part Of ...  3:15   2000-09-02  wk1   \n",
      "2    2000      3 Doors Down               Kryptonite  3:53   2000-04-08  wk1   \n",
      "3    2000      3 Doors Down                    Loser  4:24   2000-10-21  wk1   \n",
      "4    2000          504 Boyz            Wobble Wobble  3:35   2000-04-15  wk1   \n",
      "..    ...               ...                      ...   ...          ...  ...   \n",
      "312  2000       Yankee Grey     Another Nine Minutes  3:10   2000-04-29  wk1   \n",
      "313  2000  Yearwood, Trisha          Real Live Woman  3:55   2000-04-01  wk1   \n",
      "314  2000   Ying Yang Twins  Whistle While You Tw...  4:19   2000-03-18  wk1   \n",
      "315  2000     Zombie Nation            Kernkraft 400  3:30   2000-09-02  wk1   \n",
      "316  2000   matchbox twenty                     Bent  4:12   2000-04-29  wk1   \n",
      "\n",
      "     rating  \n",
      "0      87.0  \n",
      "1      91.0  \n",
      "2      81.0  \n",
      "3      76.0  \n",
      "4      57.0  \n",
      "..      ...  \n",
      "312    86.0  \n",
      "313    85.0  \n",
      "314    95.0  \n",
      "315    99.0  \n",
      "316    60.0  \n",
      "\n",
      "[317 rows x 7 columns]\n"
     ]
    }
   ],
   "source": [
    "billboard1 = pd.read_csv(billboard_data_files[0])\n",
    "billboard2 = pd.read_csv(billboard_data_files[1])\n",
    "billboard3 = pd.read_csv(billboard_data_files[2])\n",
    "print(billboard1)"
   ]
  },
  {
   "cell_type": "code",
   "execution_count": 177,
   "id": "275ce840-df85-4918-9eeb-1b0a97176bf7",
   "metadata": {},
   "outputs": [
    {
     "name": "stdout",
     "output_type": "stream",
     "text": [
      "(317, 7)\n",
      "(317, 7)\n",
      "(317, 7)\n"
     ]
    }
   ],
   "source": [
    "print(billboard1.shape)\n",
    "print(billboard2.shape)\n",
    "print(billboard3.shape)\n"
   ]
  },
  {
   "cell_type": "code",
   "execution_count": 178,
   "id": "31fe4c67-8445-4af3-ba3c-00dc895644dd",
   "metadata": {},
   "outputs": [
    {
     "name": "stdout",
     "output_type": "stream",
     "text": [
      "     year            artist                    track  time date.entered week  \\\n",
      "0    2000             2 Pac  Baby Don't Cry (Keep...  4:22   2000-02-26  wk1   \n",
      "1    2000           2Ge+her  The Hardest Part Of ...  3:15   2000-09-02  wk1   \n",
      "2    2000      3 Doors Down               Kryptonite  3:53   2000-04-08  wk1   \n",
      "3    2000      3 Doors Down                    Loser  4:24   2000-10-21  wk1   \n",
      "4    2000          504 Boyz            Wobble Wobble  3:35   2000-04-15  wk1   \n",
      "..    ...               ...                      ...   ...          ...  ...   \n",
      "312  2000       Yankee Grey     Another Nine Minutes  3:10   2000-04-29  wk3   \n",
      "313  2000  Yearwood, Trisha          Real Live Woman  3:55   2000-04-01  wk3   \n",
      "314  2000   Ying Yang Twins  Whistle While You Tw...  4:19   2000-03-18  wk3   \n",
      "315  2000     Zombie Nation            Kernkraft 400  3:30   2000-09-02  wk3   \n",
      "316  2000   matchbox twenty                     Bent  4:12   2000-04-29  wk3   \n",
      "\n",
      "     rating  \n",
      "0      87.0  \n",
      "1      91.0  \n",
      "2      81.0  \n",
      "3      76.0  \n",
      "4      57.0  \n",
      "..      ...  \n",
      "312    77.0  \n",
      "313    83.0  \n",
      "314    91.0  \n",
      "315     NaN  \n",
      "316    29.0  \n",
      "\n",
      "[951 rows x 7 columns]\n"
     ]
    }
   ],
   "source": [
    "billboard = pd.concat([billboard1,billboard2,billboard3])\n",
    "print(billboard)"
   ]
  },
  {
   "cell_type": "code",
   "execution_count": 179,
   "id": "4366d978-06e9-47ef-b33e-145872e35fd0",
   "metadata": {},
   "outputs": [],
   "source": [
    "assert(\n",
    "    billboard1.shape[0]\n",
    "    +billboard2.shape[0]\n",
    "    +billboard3.shape[0]\n",
    "    == billboard.shape[0]\n",
    ")"
   ]
  },
  {
   "cell_type": "code",
   "execution_count": 184,
   "id": "a1d7825e-3441-4ac4-b8f4-d51bfb2cccb7",
   "metadata": {},
   "outputs": [
    {
     "name": "stdout",
     "output_type": "stream",
     "text": [
      "data\\billboard-by_week\\billboard-01.csv\n",
      "data\\billboard-by_week\\billboard-02.csv\n",
      "data\\billboard-by_week\\billboard-03.csv\n",
      "data\\billboard-by_week\\billboard-04.csv\n",
      "data\\billboard-by_week\\billboard-05.csv\n",
      "data\\billboard-by_week\\billboard-06.csv\n",
      "data\\billboard-by_week\\billboard-07.csv\n",
      "data\\billboard-by_week\\billboard-08.csv\n",
      "data\\billboard-by_week\\billboard-09.csv\n",
      "data\\billboard-by_week\\billboard-10.csv\n",
      "data\\billboard-by_week\\billboard-11.csv\n",
      "data\\billboard-by_week\\billboard-12.csv\n",
      "data\\billboard-by_week\\billboard-13.csv\n",
      "data\\billboard-by_week\\billboard-14.csv\n",
      "data\\billboard-by_week\\billboard-15.csv\n",
      "data\\billboard-by_week\\billboard-16.csv\n",
      "data\\billboard-by_week\\billboard-17.csv\n",
      "data\\billboard-by_week\\billboard-18.csv\n",
      "data\\billboard-by_week\\billboard-19.csv\n",
      "data\\billboard-by_week\\billboard-20.csv\n",
      "data\\billboard-by_week\\billboard-21.csv\n",
      "data\\billboard-by_week\\billboard-22.csv\n",
      "data\\billboard-by_week\\billboard-23.csv\n",
      "data\\billboard-by_week\\billboard-24.csv\n",
      "data\\billboard-by_week\\billboard-25.csv\n",
      "data\\billboard-by_week\\billboard-26.csv\n",
      "data\\billboard-by_week\\billboard-27.csv\n",
      "data\\billboard-by_week\\billboard-28.csv\n",
      "data\\billboard-by_week\\billboard-29.csv\n",
      "data\\billboard-by_week\\billboard-30.csv\n",
      "data\\billboard-by_week\\billboard-31.csv\n",
      "data\\billboard-by_week\\billboard-32.csv\n",
      "data\\billboard-by_week\\billboard-33.csv\n",
      "data\\billboard-by_week\\billboard-34.csv\n",
      "data\\billboard-by_week\\billboard-35.csv\n",
      "data\\billboard-by_week\\billboard-36.csv\n",
      "data\\billboard-by_week\\billboard-37.csv\n",
      "data\\billboard-by_week\\billboard-38.csv\n",
      "data\\billboard-by_week\\billboard-39.csv\n",
      "data\\billboard-by_week\\billboard-40.csv\n",
      "data\\billboard-by_week\\billboard-41.csv\n",
      "data\\billboard-by_week\\billboard-42.csv\n",
      "data\\billboard-by_week\\billboard-43.csv\n",
      "data\\billboard-by_week\\billboard-44.csv\n",
      "data\\billboard-by_week\\billboard-45.csv\n",
      "data\\billboard-by_week\\billboard-46.csv\n",
      "data\\billboard-by_week\\billboard-47.csv\n",
      "data\\billboard-by_week\\billboard-48.csv\n",
      "data\\billboard-by_week\\billboard-49.csv\n",
      "data\\billboard-by_week\\billboard-50.csv\n",
      "data\\billboard-by_week\\billboard-51.csv\n",
      "data\\billboard-by_week\\billboard-52.csv\n",
      "data\\billboard-by_week\\billboard-53.csv\n",
      "data\\billboard-by_week\\billboard-54.csv\n",
      "data\\billboard-by_week\\billboard-55.csv\n",
      "data\\billboard-by_week\\billboard-56.csv\n",
      "data\\billboard-by_week\\billboard-57.csv\n",
      "data\\billboard-by_week\\billboard-58.csv\n",
      "data\\billboard-by_week\\billboard-59.csv\n",
      "data\\billboard-by_week\\billboard-60.csv\n",
      "data\\billboard-by_week\\billboard-61.csv\n",
      "data\\billboard-by_week\\billboard-62.csv\n",
      "data\\billboard-by_week\\billboard-63.csv\n",
      "data\\billboard-by_week\\billboard-64.csv\n",
      "data\\billboard-by_week\\billboard-65.csv\n",
      "data\\billboard-by_week\\billboard-66.csv\n",
      "data\\billboard-by_week\\billboard-67.csv\n",
      "data\\billboard-by_week\\billboard-68.csv\n",
      "data\\billboard-by_week\\billboard-69.csv\n",
      "data\\billboard-by_week\\billboard-70.csv\n",
      "data\\billboard-by_week\\billboard-71.csv\n",
      "data\\billboard-by_week\\billboard-72.csv\n",
      "data\\billboard-by_week\\billboard-73.csv\n",
      "data\\billboard-by_week\\billboard-74.csv\n",
      "data\\billboard-by_week\\billboard-75.csv\n",
      "data\\billboard-by_week\\billboard-76.csv\n",
      "76\n"
     ]
    }
   ],
   "source": [
    "from pathlib import Path\n",
    "\n",
    "billboard_data_files = (Path(\".\").glob(\"./data/billboard-by_week/billboard-*.csv\"))\n",
    "\n",
    "list_billboard_df = []\n",
    "for csv_filename in billboard_data_files:\n",
    "    print(csv_filename)\n",
    "\n",
    "    df = pd.read_csv(csv_filename)\n",
    "\n",
    "    list_billboard_df.append(df)\n",
    "\n",
    "print(len(list_billboard_df))"
   ]
  },
  {
   "cell_type": "code",
   "execution_count": 185,
   "id": "c8556972-c799-4850-974b-960cab765d01",
   "metadata": {},
   "outputs": [
    {
     "name": "stdout",
     "output_type": "stream",
     "text": [
      "<class 'pandas.core.frame.DataFrame'>\n"
     ]
    }
   ],
   "source": [
    "print(type(list_billboard_df[0]))"
   ]
  },
  {
   "cell_type": "code",
   "execution_count": 186,
   "id": "ad3e71e5-45dc-41c2-a945-7365799e6d44",
   "metadata": {},
   "outputs": [
    {
     "name": "stdout",
     "output_type": "stream",
     "text": [
      "     year            artist                    track  time date.entered week  \\\n",
      "0    2000             2 Pac  Baby Don't Cry (Keep...  4:22   2000-02-26  wk1   \n",
      "1    2000           2Ge+her  The Hardest Part Of ...  3:15   2000-09-02  wk1   \n",
      "2    2000      3 Doors Down               Kryptonite  3:53   2000-04-08  wk1   \n",
      "3    2000      3 Doors Down                    Loser  4:24   2000-10-21  wk1   \n",
      "4    2000          504 Boyz            Wobble Wobble  3:35   2000-04-15  wk1   \n",
      "..    ...               ...                      ...   ...          ...  ...   \n",
      "312  2000       Yankee Grey     Another Nine Minutes  3:10   2000-04-29  wk1   \n",
      "313  2000  Yearwood, Trisha          Real Live Woman  3:55   2000-04-01  wk1   \n",
      "314  2000   Ying Yang Twins  Whistle While You Tw...  4:19   2000-03-18  wk1   \n",
      "315  2000     Zombie Nation            Kernkraft 400  3:30   2000-09-02  wk1   \n",
      "316  2000   matchbox twenty                     Bent  4:12   2000-04-29  wk1   \n",
      "\n",
      "     rating  \n",
      "0      87.0  \n",
      "1      91.0  \n",
      "2      81.0  \n",
      "3      76.0  \n",
      "4      57.0  \n",
      "..      ...  \n",
      "312    86.0  \n",
      "313    85.0  \n",
      "314    95.0  \n",
      "315    99.0  \n",
      "316    60.0  \n",
      "\n",
      "[317 rows x 7 columns]\n"
     ]
    }
   ],
   "source": [
    "print(list_billboard_df[0])"
   ]
  },
  {
   "cell_type": "code",
   "execution_count": 188,
   "id": "db726ffe-7003-4778-929c-e4339f080c13",
   "metadata": {},
   "outputs": [
    {
     "name": "stdout",
     "output_type": "stream",
     "text": [
      "(24092, 7)\n"
     ]
    }
   ],
   "source": [
    "billboard_loop_concat = pd.concat(list_billboard_df)\n",
    "print(billboard_loop_concat.shape)"
   ]
  },
  {
   "cell_type": "code",
   "execution_count": 206,
   "id": "aaf4b801-65ab-4ed3-b23b-7c68edb682a1",
   "metadata": {},
   "outputs": [
    {
     "name": "stdout",
     "output_type": "stream",
     "text": [
      "[     year            artist                    track  time date.entered week  \\\n",
      "0    2000             2 Pac  Baby Don't Cry (Keep...  4:22   2000-02-26  wk1   \n",
      "1    2000           2Ge+her  The Hardest Part Of ...  3:15   2000-09-02  wk1   \n",
      "2    2000      3 Doors Down               Kryptonite  3:53   2000-04-08  wk1   \n",
      "3    2000      3 Doors Down                    Loser  4:24   2000-10-21  wk1   \n",
      "4    2000          504 Boyz            Wobble Wobble  3:35   2000-04-15  wk1   \n",
      "..    ...               ...                      ...   ...          ...  ...   \n",
      "312  2000       Yankee Grey     Another Nine Minutes  3:10   2000-04-29  wk1   \n",
      "313  2000  Yearwood, Trisha          Real Live Woman  3:55   2000-04-01  wk1   \n",
      "314  2000   Ying Yang Twins  Whistle While You Tw...  4:19   2000-03-18  wk1   \n",
      "315  2000     Zombie Nation            Kernkraft 400  3:30   2000-09-02  wk1   \n",
      "316  2000   matchbox twenty                     Bent  4:12   2000-04-29  wk1   \n",
      "\n",
      "     rating  \n",
      "0      87.0  \n",
      "1      91.0  \n",
      "2      81.0  \n",
      "3      76.0  \n",
      "4      57.0  \n",
      "..      ...  \n",
      "312    86.0  \n",
      "313    85.0  \n",
      "314    95.0  \n",
      "315    99.0  \n",
      "316    60.0  \n",
      "\n",
      "[317 rows x 7 columns],      year            artist                    track  time date.entered week  \\\n",
      "0    2000             2 Pac  Baby Don't Cry (Keep...  4:22   2000-02-26  wk2   \n",
      "1    2000           2Ge+her  The Hardest Part Of ...  3:15   2000-09-02  wk2   \n",
      "2    2000      3 Doors Down               Kryptonite  3:53   2000-04-08  wk2   \n",
      "3    2000      3 Doors Down                    Loser  4:24   2000-10-21  wk2   \n",
      "4    2000          504 Boyz            Wobble Wobble  3:35   2000-04-15  wk2   \n",
      "..    ...               ...                      ...   ...          ...  ...   \n",
      "312  2000       Yankee Grey     Another Nine Minutes  3:10   2000-04-29  wk2   \n",
      "313  2000  Yearwood, Trisha          Real Live Woman  3:55   2000-04-01  wk2   \n",
      "314  2000   Ying Yang Twins  Whistle While You Tw...  4:19   2000-03-18  wk2   \n",
      "315  2000     Zombie Nation            Kernkraft 400  3:30   2000-09-02  wk2   \n",
      "316  2000   matchbox twenty                     Bent  4:12   2000-04-29  wk2   \n",
      "\n",
      "     rating  \n",
      "0      82.0  \n",
      "1      87.0  \n",
      "2      70.0  \n",
      "3      76.0  \n",
      "4      34.0  \n",
      "..      ...  \n",
      "312    83.0  \n",
      "313    83.0  \n",
      "314    94.0  \n",
      "315    99.0  \n",
      "316    37.0  \n",
      "\n",
      "[317 rows x 7 columns],      year            artist                    track  time date.entered week  \\\n",
      "0    2000             2 Pac  Baby Don't Cry (Keep...  4:22   2000-02-26  wk3   \n",
      "1    2000           2Ge+her  The Hardest Part Of ...  3:15   2000-09-02  wk3   \n",
      "2    2000      3 Doors Down               Kryptonite  3:53   2000-04-08  wk3   \n",
      "3    2000      3 Doors Down                    Loser  4:24   2000-10-21  wk3   \n",
      "4    2000          504 Boyz            Wobble Wobble  3:35   2000-04-15  wk3   \n",
      "..    ...               ...                      ...   ...          ...  ...   \n",
      "312  2000       Yankee Grey     Another Nine Minutes  3:10   2000-04-29  wk3   \n",
      "313  2000  Yearwood, Trisha          Real Live Woman  3:55   2000-04-01  wk3   \n",
      "314  2000   Ying Yang Twins  Whistle While You Tw...  4:19   2000-03-18  wk3   \n",
      "315  2000     Zombie Nation            Kernkraft 400  3:30   2000-09-02  wk3   \n",
      "316  2000   matchbox twenty                     Bent  4:12   2000-04-29  wk3   \n",
      "\n",
      "     rating  \n",
      "0      72.0  \n",
      "1      92.0  \n",
      "2      68.0  \n",
      "3      72.0  \n",
      "4      25.0  \n",
      "..      ...  \n",
      "312    77.0  \n",
      "313    83.0  \n",
      "314    91.0  \n",
      "315     NaN  \n",
      "316    29.0  \n",
      "\n",
      "[317 rows x 7 columns],      year            artist                    track  time date.entered week  \\\n",
      "0    2000             2 Pac  Baby Don't Cry (Keep...  4:22   2000-02-26  wk4   \n",
      "1    2000           2Ge+her  The Hardest Part Of ...  3:15   2000-09-02  wk4   \n",
      "2    2000      3 Doors Down               Kryptonite  3:53   2000-04-08  wk4   \n",
      "3    2000      3 Doors Down                    Loser  4:24   2000-10-21  wk4   \n",
      "4    2000          504 Boyz            Wobble Wobble  3:35   2000-04-15  wk4   \n",
      "..    ...               ...                      ...   ...          ...  ...   \n",
      "312  2000       Yankee Grey     Another Nine Minutes  3:10   2000-04-29  wk4   \n",
      "313  2000  Yearwood, Trisha          Real Live Woman  3:55   2000-04-01  wk4   \n",
      "314  2000   Ying Yang Twins  Whistle While You Tw...  4:19   2000-03-18  wk4   \n",
      "315  2000     Zombie Nation            Kernkraft 400  3:30   2000-09-02  wk4   \n",
      "316  2000   matchbox twenty                     Bent  4:12   2000-04-29  wk4   \n",
      "\n",
      "     rating  \n",
      "0      77.0  \n",
      "1       NaN  \n",
      "2      67.0  \n",
      "3      69.0  \n",
      "4      17.0  \n",
      "..      ...  \n",
      "312    74.0  \n",
      "313    82.0  \n",
      "314    85.0  \n",
      "315     NaN  \n",
      "316    24.0  \n",
      "\n",
      "[317 rows x 7 columns],      year            artist                    track  time date.entered week  \\\n",
      "0    2000             2 Pac  Baby Don't Cry (Keep...  4:22   2000-02-26  wk5   \n",
      "1    2000           2Ge+her  The Hardest Part Of ...  3:15   2000-09-02  wk5   \n",
      "2    2000      3 Doors Down               Kryptonite  3:53   2000-04-08  wk5   \n",
      "3    2000      3 Doors Down                    Loser  4:24   2000-10-21  wk5   \n",
      "4    2000          504 Boyz            Wobble Wobble  3:35   2000-04-15  wk5   \n",
      "..    ...               ...                      ...   ...          ...  ...   \n",
      "312  2000       Yankee Grey     Another Nine Minutes  3:10   2000-04-29  wk5   \n",
      "313  2000  Yearwood, Trisha          Real Live Woman  3:55   2000-04-01  wk5   \n",
      "314  2000   Ying Yang Twins  Whistle While You Tw...  4:19   2000-03-18  wk5   \n",
      "315  2000     Zombie Nation            Kernkraft 400  3:30   2000-09-02  wk5   \n",
      "316  2000   matchbox twenty                     Bent  4:12   2000-04-29  wk5   \n",
      "\n",
      "     rating  \n",
      "0      87.0  \n",
      "1       NaN  \n",
      "2      66.0  \n",
      "3      67.0  \n",
      "4      17.0  \n",
      "..      ...  \n",
      "312    83.0  \n",
      "313    81.0  \n",
      "314    84.0  \n",
      "315     NaN  \n",
      "316    22.0  \n",
      "\n",
      "[317 rows x 7 columns],      year            artist                    track  time date.entered week  \\\n",
      "0    2000             2 Pac  Baby Don't Cry (Keep...  4:22   2000-02-26  wk6   \n",
      "1    2000           2Ge+her  The Hardest Part Of ...  3:15   2000-09-02  wk6   \n",
      "2    2000      3 Doors Down               Kryptonite  3:53   2000-04-08  wk6   \n",
      "3    2000      3 Doors Down                    Loser  4:24   2000-10-21  wk6   \n",
      "4    2000          504 Boyz            Wobble Wobble  3:35   2000-04-15  wk6   \n",
      "..    ...               ...                      ...   ...          ...  ...   \n",
      "312  2000       Yankee Grey     Another Nine Minutes  3:10   2000-04-29  wk6   \n",
      "313  2000  Yearwood, Trisha          Real Live Woman  3:55   2000-04-01  wk6   \n",
      "314  2000   Ying Yang Twins  Whistle While You Tw...  4:19   2000-03-18  wk6   \n",
      "315  2000     Zombie Nation            Kernkraft 400  3:30   2000-09-02  wk6   \n",
      "316  2000   matchbox twenty                     Bent  4:12   2000-04-29  wk6   \n",
      "\n",
      "     rating  \n",
      "0      94.0  \n",
      "1       NaN  \n",
      "2      57.0  \n",
      "3      65.0  \n",
      "4      31.0  \n",
      "..      ...  \n",
      "312    79.0  \n",
      "313    91.0  \n",
      "314    78.0  \n",
      "315     NaN  \n",
      "316    21.0  \n",
      "\n",
      "[317 rows x 7 columns],      year            artist                    track  time date.entered week  \\\n",
      "0    2000             2 Pac  Baby Don't Cry (Keep...  4:22   2000-02-26  wk7   \n",
      "1    2000           2Ge+her  The Hardest Part Of ...  3:15   2000-09-02  wk7   \n",
      "2    2000      3 Doors Down               Kryptonite  3:53   2000-04-08  wk7   \n",
      "3    2000      3 Doors Down                    Loser  4:24   2000-10-21  wk7   \n",
      "4    2000          504 Boyz            Wobble Wobble  3:35   2000-04-15  wk7   \n",
      "..    ...               ...                      ...   ...          ...  ...   \n",
      "312  2000       Yankee Grey     Another Nine Minutes  3:10   2000-04-29  wk7   \n",
      "313  2000  Yearwood, Trisha          Real Live Woman  3:55   2000-04-01  wk7   \n",
      "314  2000   Ying Yang Twins  Whistle While You Tw...  4:19   2000-03-18  wk7   \n",
      "315  2000     Zombie Nation            Kernkraft 400  3:30   2000-09-02  wk7   \n",
      "316  2000   matchbox twenty                     Bent  4:12   2000-04-29  wk7   \n",
      "\n",
      "     rating  \n",
      "0      99.0  \n",
      "1       NaN  \n",
      "2      54.0  \n",
      "3      55.0  \n",
      "4      36.0  \n",
      "..      ...  \n",
      "312    88.0  \n",
      "313     NaN  \n",
      "314    74.0  \n",
      "315     NaN  \n",
      "316    18.0  \n",
      "\n",
      "[317 rows x 7 columns],      year            artist                    track  time date.entered week  \\\n",
      "0    2000             2 Pac  Baby Don't Cry (Keep...  4:22   2000-02-26  wk8   \n",
      "1    2000           2Ge+her  The Hardest Part Of ...  3:15   2000-09-02  wk8   \n",
      "2    2000      3 Doors Down               Kryptonite  3:53   2000-04-08  wk8   \n",
      "3    2000      3 Doors Down                    Loser  4:24   2000-10-21  wk8   \n",
      "4    2000          504 Boyz            Wobble Wobble  3:35   2000-04-15  wk8   \n",
      "..    ...               ...                      ...   ...          ...  ...   \n",
      "312  2000       Yankee Grey     Another Nine Minutes  3:10   2000-04-29  wk8   \n",
      "313  2000  Yearwood, Trisha          Real Live Woman  3:55   2000-04-01  wk8   \n",
      "314  2000   Ying Yang Twins  Whistle While You Tw...  4:19   2000-03-18  wk8   \n",
      "315  2000     Zombie Nation            Kernkraft 400  3:30   2000-09-02  wk8   \n",
      "316  2000   matchbox twenty                     Bent  4:12   2000-04-29  wk8   \n",
      "\n",
      "     rating  \n",
      "0       NaN  \n",
      "1       NaN  \n",
      "2      53.0  \n",
      "3      59.0  \n",
      "4      49.0  \n",
      "..      ...  \n",
      "312    95.0  \n",
      "313     NaN  \n",
      "314    78.0  \n",
      "315     NaN  \n",
      "316    16.0  \n",
      "\n",
      "[317 rows x 7 columns],      year            artist                    track  time date.entered week  \\\n",
      "0    2000             2 Pac  Baby Don't Cry (Keep...  4:22   2000-02-26  wk9   \n",
      "1    2000           2Ge+her  The Hardest Part Of ...  3:15   2000-09-02  wk9   \n",
      "2    2000      3 Doors Down               Kryptonite  3:53   2000-04-08  wk9   \n",
      "3    2000      3 Doors Down                    Loser  4:24   2000-10-21  wk9   \n",
      "4    2000          504 Boyz            Wobble Wobble  3:35   2000-04-15  wk9   \n",
      "..    ...               ...                      ...   ...          ...  ...   \n",
      "312  2000       Yankee Grey     Another Nine Minutes  3:10   2000-04-29  wk9   \n",
      "313  2000  Yearwood, Trisha          Real Live Woman  3:55   2000-04-01  wk9   \n",
      "314  2000   Ying Yang Twins  Whistle While You Tw...  4:19   2000-03-18  wk9   \n",
      "315  2000     Zombie Nation            Kernkraft 400  3:30   2000-09-02  wk9   \n",
      "316  2000   matchbox twenty                     Bent  4:12   2000-04-29  wk9   \n",
      "\n",
      "     rating  \n",
      "0       NaN  \n",
      "1       NaN  \n",
      "2      51.0  \n",
      "3      62.0  \n",
      "4      53.0  \n",
      "..      ...  \n",
      "312     NaN  \n",
      "313     NaN  \n",
      "314    85.0  \n",
      "315     NaN  \n",
      "316    13.0  \n",
      "\n",
      "[317 rows x 7 columns],      year            artist                    track  time date.entered  week  \\\n",
      "0    2000             2 Pac  Baby Don't Cry (Keep...  4:22   2000-02-26  wk10   \n",
      "1    2000           2Ge+her  The Hardest Part Of ...  3:15   2000-09-02  wk10   \n",
      "2    2000      3 Doors Down               Kryptonite  3:53   2000-04-08  wk10   \n",
      "3    2000      3 Doors Down                    Loser  4:24   2000-10-21  wk10   \n",
      "4    2000          504 Boyz            Wobble Wobble  3:35   2000-04-15  wk10   \n",
      "..    ...               ...                      ...   ...          ...   ...   \n",
      "312  2000       Yankee Grey     Another Nine Minutes  3:10   2000-04-29  wk10   \n",
      "313  2000  Yearwood, Trisha          Real Live Woman  3:55   2000-04-01  wk10   \n",
      "314  2000   Ying Yang Twins  Whistle While You Tw...  4:19   2000-03-18  wk10   \n",
      "315  2000     Zombie Nation            Kernkraft 400  3:30   2000-09-02  wk10   \n",
      "316  2000   matchbox twenty                     Bent  4:12   2000-04-29  wk10   \n",
      "\n",
      "     rating  \n",
      "0       NaN  \n",
      "1       NaN  \n",
      "2      51.0  \n",
      "3      61.0  \n",
      "4      57.0  \n",
      "..      ...  \n",
      "312     NaN  \n",
      "313     NaN  \n",
      "314    89.0  \n",
      "315     NaN  \n",
      "316    12.0  \n",
      "\n",
      "[317 rows x 7 columns],      year            artist                    track  time date.entered  week  \\\n",
      "0    2000             2 Pac  Baby Don't Cry (Keep...  4:22   2000-02-26  wk11   \n",
      "1    2000           2Ge+her  The Hardest Part Of ...  3:15   2000-09-02  wk11   \n",
      "2    2000      3 Doors Down               Kryptonite  3:53   2000-04-08  wk11   \n",
      "3    2000      3 Doors Down                    Loser  4:24   2000-10-21  wk11   \n",
      "4    2000          504 Boyz            Wobble Wobble  3:35   2000-04-15  wk11   \n",
      "..    ...               ...                      ...   ...          ...   ...   \n",
      "312  2000       Yankee Grey     Another Nine Minutes  3:10   2000-04-29  wk11   \n",
      "313  2000  Yearwood, Trisha          Real Live Woman  3:55   2000-04-01  wk11   \n",
      "314  2000   Ying Yang Twins  Whistle While You Tw...  4:19   2000-03-18  wk11   \n",
      "315  2000     Zombie Nation            Kernkraft 400  3:30   2000-09-02  wk11   \n",
      "316  2000   matchbox twenty                     Bent  4:12   2000-04-29  wk11   \n",
      "\n",
      "     rating  \n",
      "0       NaN  \n",
      "1       NaN  \n",
      "2      51.0  \n",
      "3      61.0  \n",
      "4      64.0  \n",
      "..      ...  \n",
      "312     NaN  \n",
      "313     NaN  \n",
      "314    97.0  \n",
      "315     NaN  \n",
      "316     8.0  \n",
      "\n",
      "[317 rows x 7 columns],      year            artist                    track  time date.entered  week  \\\n",
      "0    2000             2 Pac  Baby Don't Cry (Keep...  4:22   2000-02-26  wk12   \n",
      "1    2000           2Ge+her  The Hardest Part Of ...  3:15   2000-09-02  wk12   \n",
      "2    2000      3 Doors Down               Kryptonite  3:53   2000-04-08  wk12   \n",
      "3    2000      3 Doors Down                    Loser  4:24   2000-10-21  wk12   \n",
      "4    2000          504 Boyz            Wobble Wobble  3:35   2000-04-15  wk12   \n",
      "..    ...               ...                      ...   ...          ...   ...   \n",
      "312  2000       Yankee Grey     Another Nine Minutes  3:10   2000-04-29  wk12   \n",
      "313  2000  Yearwood, Trisha          Real Live Woman  3:55   2000-04-01  wk12   \n",
      "314  2000   Ying Yang Twins  Whistle While You Tw...  4:19   2000-03-18  wk12   \n",
      "315  2000     Zombie Nation            Kernkraft 400  3:30   2000-09-02  wk12   \n",
      "316  2000   matchbox twenty                     Bent  4:12   2000-04-29  wk12   \n",
      "\n",
      "     rating  \n",
      "0       NaN  \n",
      "1       NaN  \n",
      "2      51.0  \n",
      "3      59.0  \n",
      "4      70.0  \n",
      "..      ...  \n",
      "312     NaN  \n",
      "313     NaN  \n",
      "314    96.0  \n",
      "315     NaN  \n",
      "316     6.0  \n",
      "\n",
      "[317 rows x 7 columns],      year            artist                    track  time date.entered  week  \\\n",
      "0    2000             2 Pac  Baby Don't Cry (Keep...  4:22   2000-02-26  wk13   \n",
      "1    2000           2Ge+her  The Hardest Part Of ...  3:15   2000-09-02  wk13   \n",
      "2    2000      3 Doors Down               Kryptonite  3:53   2000-04-08  wk13   \n",
      "3    2000      3 Doors Down                    Loser  4:24   2000-10-21  wk13   \n",
      "4    2000          504 Boyz            Wobble Wobble  3:35   2000-04-15  wk13   \n",
      "..    ...               ...                      ...   ...          ...   ...   \n",
      "312  2000       Yankee Grey     Another Nine Minutes  3:10   2000-04-29  wk13   \n",
      "313  2000  Yearwood, Trisha          Real Live Woman  3:55   2000-04-01  wk13   \n",
      "314  2000   Ying Yang Twins  Whistle While You Tw...  4:19   2000-03-18  wk13   \n",
      "315  2000     Zombie Nation            Kernkraft 400  3:30   2000-09-02  wk13   \n",
      "316  2000   matchbox twenty                     Bent  4:12   2000-04-29  wk13   \n",
      "\n",
      "     rating  \n",
      "0       NaN  \n",
      "1       NaN  \n",
      "2      47.0  \n",
      "3      61.0  \n",
      "4      75.0  \n",
      "..      ...  \n",
      "312     NaN  \n",
      "313     NaN  \n",
      "314    99.0  \n",
      "315     NaN  \n",
      "316     1.0  \n",
      "\n",
      "[317 rows x 7 columns],      year            artist                    track  time date.entered  week  \\\n",
      "0    2000             2 Pac  Baby Don't Cry (Keep...  4:22   2000-02-26  wk14   \n",
      "1    2000           2Ge+her  The Hardest Part Of ...  3:15   2000-09-02  wk14   \n",
      "2    2000      3 Doors Down               Kryptonite  3:53   2000-04-08  wk14   \n",
      "3    2000      3 Doors Down                    Loser  4:24   2000-10-21  wk14   \n",
      "4    2000          504 Boyz            Wobble Wobble  3:35   2000-04-15  wk14   \n",
      "..    ...               ...                      ...   ...          ...   ...   \n",
      "312  2000       Yankee Grey     Another Nine Minutes  3:10   2000-04-29  wk14   \n",
      "313  2000  Yearwood, Trisha          Real Live Woman  3:55   2000-04-01  wk14   \n",
      "314  2000   Ying Yang Twins  Whistle While You Tw...  4:19   2000-03-18  wk14   \n",
      "315  2000     Zombie Nation            Kernkraft 400  3:30   2000-09-02  wk14   \n",
      "316  2000   matchbox twenty                     Bent  4:12   2000-04-29  wk14   \n",
      "\n",
      "     rating  \n",
      "0       NaN  \n",
      "1       NaN  \n",
      "2      44.0  \n",
      "3      66.0  \n",
      "4      76.0  \n",
      "..      ...  \n",
      "312     NaN  \n",
      "313     NaN  \n",
      "314    99.0  \n",
      "315     NaN  \n",
      "316     2.0  \n",
      "\n",
      "[317 rows x 7 columns],      year            artist                    track  time date.entered  week  \\\n",
      "0    2000             2 Pac  Baby Don't Cry (Keep...  4:22   2000-02-26  wk15   \n",
      "1    2000           2Ge+her  The Hardest Part Of ...  3:15   2000-09-02  wk15   \n",
      "2    2000      3 Doors Down               Kryptonite  3:53   2000-04-08  wk15   \n",
      "3    2000      3 Doors Down                    Loser  4:24   2000-10-21  wk15   \n",
      "4    2000          504 Boyz            Wobble Wobble  3:35   2000-04-15  wk15   \n",
      "..    ...               ...                      ...   ...          ...   ...   \n",
      "312  2000       Yankee Grey     Another Nine Minutes  3:10   2000-04-29  wk15   \n",
      "313  2000  Yearwood, Trisha          Real Live Woman  3:55   2000-04-01  wk15   \n",
      "314  2000   Ying Yang Twins  Whistle While You Tw...  4:19   2000-03-18  wk15   \n",
      "315  2000     Zombie Nation            Kernkraft 400  3:30   2000-09-02  wk15   \n",
      "316  2000   matchbox twenty                     Bent  4:12   2000-04-29  wk15   \n",
      "\n",
      "     rating  \n",
      "0       NaN  \n",
      "1       NaN  \n",
      "2      38.0  \n",
      "3      72.0  \n",
      "4      78.0  \n",
      "..      ...  \n",
      "312     NaN  \n",
      "313     NaN  \n",
      "314     NaN  \n",
      "315     NaN  \n",
      "316     3.0  \n",
      "\n",
      "[317 rows x 7 columns],      year            artist                    track  time date.entered  week  \\\n",
      "0    2000             2 Pac  Baby Don't Cry (Keep...  4:22   2000-02-26  wk16   \n",
      "1    2000           2Ge+her  The Hardest Part Of ...  3:15   2000-09-02  wk16   \n",
      "2    2000      3 Doors Down               Kryptonite  3:53   2000-04-08  wk16   \n",
      "3    2000      3 Doors Down                    Loser  4:24   2000-10-21  wk16   \n",
      "4    2000          504 Boyz            Wobble Wobble  3:35   2000-04-15  wk16   \n",
      "..    ...               ...                      ...   ...          ...   ...   \n",
      "312  2000       Yankee Grey     Another Nine Minutes  3:10   2000-04-29  wk16   \n",
      "313  2000  Yearwood, Trisha          Real Live Woman  3:55   2000-04-01  wk16   \n",
      "314  2000   Ying Yang Twins  Whistle While You Tw...  4:19   2000-03-18  wk16   \n",
      "315  2000     Zombie Nation            Kernkraft 400  3:30   2000-09-02  wk16   \n",
      "316  2000   matchbox twenty                     Bent  4:12   2000-04-29  wk16   \n",
      "\n",
      "     rating  \n",
      "0       NaN  \n",
      "1       NaN  \n",
      "2      28.0  \n",
      "3      76.0  \n",
      "4      85.0  \n",
      "..      ...  \n",
      "312     NaN  \n",
      "313     NaN  \n",
      "314     NaN  \n",
      "315     NaN  \n",
      "316     2.0  \n",
      "\n",
      "[317 rows x 7 columns],      year            artist                    track  time date.entered  week  \\\n",
      "0    2000             2 Pac  Baby Don't Cry (Keep...  4:22   2000-02-26  wk17   \n",
      "1    2000           2Ge+her  The Hardest Part Of ...  3:15   2000-09-02  wk17   \n",
      "2    2000      3 Doors Down               Kryptonite  3:53   2000-04-08  wk17   \n",
      "3    2000      3 Doors Down                    Loser  4:24   2000-10-21  wk17   \n",
      "4    2000          504 Boyz            Wobble Wobble  3:35   2000-04-15  wk17   \n",
      "..    ...               ...                      ...   ...          ...   ...   \n",
      "312  2000       Yankee Grey     Another Nine Minutes  3:10   2000-04-29  wk17   \n",
      "313  2000  Yearwood, Trisha          Real Live Woman  3:55   2000-04-01  wk17   \n",
      "314  2000   Ying Yang Twins  Whistle While You Tw...  4:19   2000-03-18  wk17   \n",
      "315  2000     Zombie Nation            Kernkraft 400  3:30   2000-09-02  wk17   \n",
      "316  2000   matchbox twenty                     Bent  4:12   2000-04-29  wk17   \n",
      "\n",
      "     rating  \n",
      "0       NaN  \n",
      "1       NaN  \n",
      "2      22.0  \n",
      "3      75.0  \n",
      "4      92.0  \n",
      "..      ...  \n",
      "312     NaN  \n",
      "313     NaN  \n",
      "314     NaN  \n",
      "315     NaN  \n",
      "316     2.0  \n",
      "\n",
      "[317 rows x 7 columns],      year            artist                    track  time date.entered  week  \\\n",
      "0    2000             2 Pac  Baby Don't Cry (Keep...  4:22   2000-02-26  wk18   \n",
      "1    2000           2Ge+her  The Hardest Part Of ...  3:15   2000-09-02  wk18   \n",
      "2    2000      3 Doors Down               Kryptonite  3:53   2000-04-08  wk18   \n",
      "3    2000      3 Doors Down                    Loser  4:24   2000-10-21  wk18   \n",
      "4    2000          504 Boyz            Wobble Wobble  3:35   2000-04-15  wk18   \n",
      "..    ...               ...                      ...   ...          ...   ...   \n",
      "312  2000       Yankee Grey     Another Nine Minutes  3:10   2000-04-29  wk18   \n",
      "313  2000  Yearwood, Trisha          Real Live Woman  3:55   2000-04-01  wk18   \n",
      "314  2000   Ying Yang Twins  Whistle While You Tw...  4:19   2000-03-18  wk18   \n",
      "315  2000     Zombie Nation            Kernkraft 400  3:30   2000-09-02  wk18   \n",
      "316  2000   matchbox twenty                     Bent  4:12   2000-04-29  wk18   \n",
      "\n",
      "     rating  \n",
      "0       NaN  \n",
      "1       NaN  \n",
      "2      18.0  \n",
      "3      67.0  \n",
      "4      96.0  \n",
      "..      ...  \n",
      "312     NaN  \n",
      "313     NaN  \n",
      "314     NaN  \n",
      "315     NaN  \n",
      "316     3.0  \n",
      "\n",
      "[317 rows x 7 columns],      year            artist                    track  time date.entered  week  \\\n",
      "0    2000             2 Pac  Baby Don't Cry (Keep...  4:22   2000-02-26  wk19   \n",
      "1    2000           2Ge+her  The Hardest Part Of ...  3:15   2000-09-02  wk19   \n",
      "2    2000      3 Doors Down               Kryptonite  3:53   2000-04-08  wk19   \n",
      "3    2000      3 Doors Down                    Loser  4:24   2000-10-21  wk19   \n",
      "4    2000          504 Boyz            Wobble Wobble  3:35   2000-04-15  wk19   \n",
      "..    ...               ...                      ...   ...          ...   ...   \n",
      "312  2000       Yankee Grey     Another Nine Minutes  3:10   2000-04-29  wk19   \n",
      "313  2000  Yearwood, Trisha          Real Live Woman  3:55   2000-04-01  wk19   \n",
      "314  2000   Ying Yang Twins  Whistle While You Tw...  4:19   2000-03-18  wk19   \n",
      "315  2000     Zombie Nation            Kernkraft 400  3:30   2000-09-02  wk19   \n",
      "316  2000   matchbox twenty                     Bent  4:12   2000-04-29  wk19   \n",
      "\n",
      "     rating  \n",
      "0       NaN  \n",
      "1       NaN  \n",
      "2      18.0  \n",
      "3      73.0  \n",
      "4       NaN  \n",
      "..      ...  \n",
      "312     NaN  \n",
      "313     NaN  \n",
      "314     NaN  \n",
      "315     NaN  \n",
      "316     4.0  \n",
      "\n",
      "[317 rows x 7 columns],      year            artist                    track  time date.entered  week  \\\n",
      "0    2000             2 Pac  Baby Don't Cry (Keep...  4:22   2000-02-26  wk20   \n",
      "1    2000           2Ge+her  The Hardest Part Of ...  3:15   2000-09-02  wk20   \n",
      "2    2000      3 Doors Down               Kryptonite  3:53   2000-04-08  wk20   \n",
      "3    2000      3 Doors Down                    Loser  4:24   2000-10-21  wk20   \n",
      "4    2000          504 Boyz            Wobble Wobble  3:35   2000-04-15  wk20   \n",
      "..    ...               ...                      ...   ...          ...   ...   \n",
      "312  2000       Yankee Grey     Another Nine Minutes  3:10   2000-04-29  wk20   \n",
      "313  2000  Yearwood, Trisha          Real Live Woman  3:55   2000-04-01  wk20   \n",
      "314  2000   Ying Yang Twins  Whistle While You Tw...  4:19   2000-03-18  wk20   \n",
      "315  2000     Zombie Nation            Kernkraft 400  3:30   2000-09-02  wk20   \n",
      "316  2000   matchbox twenty                     Bent  4:12   2000-04-29  wk20   \n",
      "\n",
      "     rating  \n",
      "0       NaN  \n",
      "1       NaN  \n",
      "2      14.0  \n",
      "3      70.0  \n",
      "4       NaN  \n",
      "..      ...  \n",
      "312     NaN  \n",
      "313     NaN  \n",
      "314     NaN  \n",
      "315     NaN  \n",
      "316     5.0  \n",
      "\n",
      "[317 rows x 7 columns],      year            artist                    track  time date.entered  week  \\\n",
      "0    2000             2 Pac  Baby Don't Cry (Keep...  4:22   2000-02-26  wk21   \n",
      "1    2000           2Ge+her  The Hardest Part Of ...  3:15   2000-09-02  wk21   \n",
      "2    2000      3 Doors Down               Kryptonite  3:53   2000-04-08  wk21   \n",
      "3    2000      3 Doors Down                    Loser  4:24   2000-10-21  wk21   \n",
      "4    2000          504 Boyz            Wobble Wobble  3:35   2000-04-15  wk21   \n",
      "..    ...               ...                      ...   ...          ...   ...   \n",
      "312  2000       Yankee Grey     Another Nine Minutes  3:10   2000-04-29  wk21   \n",
      "313  2000  Yearwood, Trisha          Real Live Woman  3:55   2000-04-01  wk21   \n",
      "314  2000   Ying Yang Twins  Whistle While You Tw...  4:19   2000-03-18  wk21   \n",
      "315  2000     Zombie Nation            Kernkraft 400  3:30   2000-09-02  wk21   \n",
      "316  2000   matchbox twenty                     Bent  4:12   2000-04-29  wk21   \n",
      "\n",
      "     rating  \n",
      "0       NaN  \n",
      "1       NaN  \n",
      "2      12.0  \n",
      "3       NaN  \n",
      "4       NaN  \n",
      "..      ...  \n",
      "312     NaN  \n",
      "313     NaN  \n",
      "314     NaN  \n",
      "315     NaN  \n",
      "316     4.0  \n",
      "\n",
      "[317 rows x 7 columns],      year            artist                    track  time date.entered  week  \\\n",
      "0    2000             2 Pac  Baby Don't Cry (Keep...  4:22   2000-02-26  wk22   \n",
      "1    2000           2Ge+her  The Hardest Part Of ...  3:15   2000-09-02  wk22   \n",
      "2    2000      3 Doors Down               Kryptonite  3:53   2000-04-08  wk22   \n",
      "3    2000      3 Doors Down                    Loser  4:24   2000-10-21  wk22   \n",
      "4    2000          504 Boyz            Wobble Wobble  3:35   2000-04-15  wk22   \n",
      "..    ...               ...                      ...   ...          ...   ...   \n",
      "312  2000       Yankee Grey     Another Nine Minutes  3:10   2000-04-29  wk22   \n",
      "313  2000  Yearwood, Trisha          Real Live Woman  3:55   2000-04-01  wk22   \n",
      "314  2000   Ying Yang Twins  Whistle While You Tw...  4:19   2000-03-18  wk22   \n",
      "315  2000     Zombie Nation            Kernkraft 400  3:30   2000-09-02  wk22   \n",
      "316  2000   matchbox twenty                     Bent  4:12   2000-04-29  wk22   \n",
      "\n",
      "     rating  \n",
      "0       NaN  \n",
      "1       NaN  \n",
      "2       7.0  \n",
      "3       NaN  \n",
      "4       NaN  \n",
      "..      ...  \n",
      "312     NaN  \n",
      "313     NaN  \n",
      "314     NaN  \n",
      "315     NaN  \n",
      "316     4.0  \n",
      "\n",
      "[317 rows x 7 columns],      year            artist                    track  time date.entered  week  \\\n",
      "0    2000             2 Pac  Baby Don't Cry (Keep...  4:22   2000-02-26  wk23   \n",
      "1    2000           2Ge+her  The Hardest Part Of ...  3:15   2000-09-02  wk23   \n",
      "2    2000      3 Doors Down               Kryptonite  3:53   2000-04-08  wk23   \n",
      "3    2000      3 Doors Down                    Loser  4:24   2000-10-21  wk23   \n",
      "4    2000          504 Boyz            Wobble Wobble  3:35   2000-04-15  wk23   \n",
      "..    ...               ...                      ...   ...          ...   ...   \n",
      "312  2000       Yankee Grey     Another Nine Minutes  3:10   2000-04-29  wk23   \n",
      "313  2000  Yearwood, Trisha          Real Live Woman  3:55   2000-04-01  wk23   \n",
      "314  2000   Ying Yang Twins  Whistle While You Tw...  4:19   2000-03-18  wk23   \n",
      "315  2000     Zombie Nation            Kernkraft 400  3:30   2000-09-02  wk23   \n",
      "316  2000   matchbox twenty                     Bent  4:12   2000-04-29  wk23   \n",
      "\n",
      "     rating  \n",
      "0       NaN  \n",
      "1       NaN  \n",
      "2       6.0  \n",
      "3       NaN  \n",
      "4       NaN  \n",
      "..      ...  \n",
      "312     NaN  \n",
      "313     NaN  \n",
      "314     NaN  \n",
      "315     NaN  \n",
      "316     6.0  \n",
      "\n",
      "[317 rows x 7 columns],      year            artist                    track  time date.entered  week  \\\n",
      "0    2000             2 Pac  Baby Don't Cry (Keep...  4:22   2000-02-26  wk24   \n",
      "1    2000           2Ge+her  The Hardest Part Of ...  3:15   2000-09-02  wk24   \n",
      "2    2000      3 Doors Down               Kryptonite  3:53   2000-04-08  wk24   \n",
      "3    2000      3 Doors Down                    Loser  4:24   2000-10-21  wk24   \n",
      "4    2000          504 Boyz            Wobble Wobble  3:35   2000-04-15  wk24   \n",
      "..    ...               ...                      ...   ...          ...   ...   \n",
      "312  2000       Yankee Grey     Another Nine Minutes  3:10   2000-04-29  wk24   \n",
      "313  2000  Yearwood, Trisha          Real Live Woman  3:55   2000-04-01  wk24   \n",
      "314  2000   Ying Yang Twins  Whistle While You Tw...  4:19   2000-03-18  wk24   \n",
      "315  2000     Zombie Nation            Kernkraft 400  3:30   2000-09-02  wk24   \n",
      "316  2000   matchbox twenty                     Bent  4:12   2000-04-29  wk24   \n",
      "\n",
      "     rating  \n",
      "0       NaN  \n",
      "1       NaN  \n",
      "2       6.0  \n",
      "3       NaN  \n",
      "4       NaN  \n",
      "..      ...  \n",
      "312     NaN  \n",
      "313     NaN  \n",
      "314     NaN  \n",
      "315     NaN  \n",
      "316     9.0  \n",
      "\n",
      "[317 rows x 7 columns],      year            artist                    track  time date.entered  week  \\\n",
      "0    2000             2 Pac  Baby Don't Cry (Keep...  4:22   2000-02-26  wk25   \n",
      "1    2000           2Ge+her  The Hardest Part Of ...  3:15   2000-09-02  wk25   \n",
      "2    2000      3 Doors Down               Kryptonite  3:53   2000-04-08  wk25   \n",
      "3    2000      3 Doors Down                    Loser  4:24   2000-10-21  wk25   \n",
      "4    2000          504 Boyz            Wobble Wobble  3:35   2000-04-15  wk25   \n",
      "..    ...               ...                      ...   ...          ...   ...   \n",
      "312  2000       Yankee Grey     Another Nine Minutes  3:10   2000-04-29  wk25   \n",
      "313  2000  Yearwood, Trisha          Real Live Woman  3:55   2000-04-01  wk25   \n",
      "314  2000   Ying Yang Twins  Whistle While You Tw...  4:19   2000-03-18  wk25   \n",
      "315  2000     Zombie Nation            Kernkraft 400  3:30   2000-09-02  wk25   \n",
      "316  2000   matchbox twenty                     Bent  4:12   2000-04-29  wk25   \n",
      "\n",
      "     rating  \n",
      "0       NaN  \n",
      "1       NaN  \n",
      "2       6.0  \n",
      "3       NaN  \n",
      "4       NaN  \n",
      "..      ...  \n",
      "312     NaN  \n",
      "313     NaN  \n",
      "314     NaN  \n",
      "315     NaN  \n",
      "316    12.0  \n",
      "\n",
      "[317 rows x 7 columns],      year            artist                    track  time date.entered  week  \\\n",
      "0    2000             2 Pac  Baby Don't Cry (Keep...  4:22   2000-02-26  wk26   \n",
      "1    2000           2Ge+her  The Hardest Part Of ...  3:15   2000-09-02  wk26   \n",
      "2    2000      3 Doors Down               Kryptonite  3:53   2000-04-08  wk26   \n",
      "3    2000      3 Doors Down                    Loser  4:24   2000-10-21  wk26   \n",
      "4    2000          504 Boyz            Wobble Wobble  3:35   2000-04-15  wk26   \n",
      "..    ...               ...                      ...   ...          ...   ...   \n",
      "312  2000       Yankee Grey     Another Nine Minutes  3:10   2000-04-29  wk26   \n",
      "313  2000  Yearwood, Trisha          Real Live Woman  3:55   2000-04-01  wk26   \n",
      "314  2000   Ying Yang Twins  Whistle While You Tw...  4:19   2000-03-18  wk26   \n",
      "315  2000     Zombie Nation            Kernkraft 400  3:30   2000-09-02  wk26   \n",
      "316  2000   matchbox twenty                     Bent  4:12   2000-04-29  wk26   \n",
      "\n",
      "     rating  \n",
      "0       NaN  \n",
      "1       NaN  \n",
      "2       5.0  \n",
      "3       NaN  \n",
      "4       NaN  \n",
      "..      ...  \n",
      "312     NaN  \n",
      "313     NaN  \n",
      "314     NaN  \n",
      "315     NaN  \n",
      "316    13.0  \n",
      "\n",
      "[317 rows x 7 columns],      year            artist                    track  time date.entered  week  \\\n",
      "0    2000             2 Pac  Baby Don't Cry (Keep...  4:22   2000-02-26  wk27   \n",
      "1    2000           2Ge+her  The Hardest Part Of ...  3:15   2000-09-02  wk27   \n",
      "2    2000      3 Doors Down               Kryptonite  3:53   2000-04-08  wk27   \n",
      "3    2000      3 Doors Down                    Loser  4:24   2000-10-21  wk27   \n",
      "4    2000          504 Boyz            Wobble Wobble  3:35   2000-04-15  wk27   \n",
      "..    ...               ...                      ...   ...          ...   ...   \n",
      "312  2000       Yankee Grey     Another Nine Minutes  3:10   2000-04-29  wk27   \n",
      "313  2000  Yearwood, Trisha          Real Live Woman  3:55   2000-04-01  wk27   \n",
      "314  2000   Ying Yang Twins  Whistle While You Tw...  4:19   2000-03-18  wk27   \n",
      "315  2000     Zombie Nation            Kernkraft 400  3:30   2000-09-02  wk27   \n",
      "316  2000   matchbox twenty                     Bent  4:12   2000-04-29  wk27   \n",
      "\n",
      "     rating  \n",
      "0       NaN  \n",
      "1       NaN  \n",
      "2       5.0  \n",
      "3       NaN  \n",
      "4       NaN  \n",
      "..      ...  \n",
      "312     NaN  \n",
      "313     NaN  \n",
      "314     NaN  \n",
      "315     NaN  \n",
      "316    19.0  \n",
      "\n",
      "[317 rows x 7 columns],      year            artist                    track  time date.entered  week  \\\n",
      "0    2000             2 Pac  Baby Don't Cry (Keep...  4:22   2000-02-26  wk28   \n",
      "1    2000           2Ge+her  The Hardest Part Of ...  3:15   2000-09-02  wk28   \n",
      "2    2000      3 Doors Down               Kryptonite  3:53   2000-04-08  wk28   \n",
      "3    2000      3 Doors Down                    Loser  4:24   2000-10-21  wk28   \n",
      "4    2000          504 Boyz            Wobble Wobble  3:35   2000-04-15  wk28   \n",
      "..    ...               ...                      ...   ...          ...   ...   \n",
      "312  2000       Yankee Grey     Another Nine Minutes  3:10   2000-04-29  wk28   \n",
      "313  2000  Yearwood, Trisha          Real Live Woman  3:55   2000-04-01  wk28   \n",
      "314  2000   Ying Yang Twins  Whistle While You Tw...  4:19   2000-03-18  wk28   \n",
      "315  2000     Zombie Nation            Kernkraft 400  3:30   2000-09-02  wk28   \n",
      "316  2000   matchbox twenty                     Bent  4:12   2000-04-29  wk28   \n",
      "\n",
      "     rating  \n",
      "0       NaN  \n",
      "1       NaN  \n",
      "2       4.0  \n",
      "3       NaN  \n",
      "4       NaN  \n",
      "..      ...  \n",
      "312     NaN  \n",
      "313     NaN  \n",
      "314     NaN  \n",
      "315     NaN  \n",
      "316    20.0  \n",
      "\n",
      "[317 rows x 7 columns],      year            artist                    track  time date.entered  week  \\\n",
      "0    2000             2 Pac  Baby Don't Cry (Keep...  4:22   2000-02-26  wk29   \n",
      "1    2000           2Ge+her  The Hardest Part Of ...  3:15   2000-09-02  wk29   \n",
      "2    2000      3 Doors Down               Kryptonite  3:53   2000-04-08  wk29   \n",
      "3    2000      3 Doors Down                    Loser  4:24   2000-10-21  wk29   \n",
      "4    2000          504 Boyz            Wobble Wobble  3:35   2000-04-15  wk29   \n",
      "..    ...               ...                      ...   ...          ...   ...   \n",
      "312  2000       Yankee Grey     Another Nine Minutes  3:10   2000-04-29  wk29   \n",
      "313  2000  Yearwood, Trisha          Real Live Woman  3:55   2000-04-01  wk29   \n",
      "314  2000   Ying Yang Twins  Whistle While You Tw...  4:19   2000-03-18  wk29   \n",
      "315  2000     Zombie Nation            Kernkraft 400  3:30   2000-09-02  wk29   \n",
      "316  2000   matchbox twenty                     Bent  4:12   2000-04-29  wk29   \n",
      "\n",
      "     rating  \n",
      "0       NaN  \n",
      "1       NaN  \n",
      "2       4.0  \n",
      "3       NaN  \n",
      "4       NaN  \n",
      "..      ...  \n",
      "312     NaN  \n",
      "313     NaN  \n",
      "314     NaN  \n",
      "315     NaN  \n",
      "316    20.0  \n",
      "\n",
      "[317 rows x 7 columns],      year            artist                    track  time date.entered  week  \\\n",
      "0    2000             2 Pac  Baby Don't Cry (Keep...  4:22   2000-02-26  wk30   \n",
      "1    2000           2Ge+her  The Hardest Part Of ...  3:15   2000-09-02  wk30   \n",
      "2    2000      3 Doors Down               Kryptonite  3:53   2000-04-08  wk30   \n",
      "3    2000      3 Doors Down                    Loser  4:24   2000-10-21  wk30   \n",
      "4    2000          504 Boyz            Wobble Wobble  3:35   2000-04-15  wk30   \n",
      "..    ...               ...                      ...   ...          ...   ...   \n",
      "312  2000       Yankee Grey     Another Nine Minutes  3:10   2000-04-29  wk30   \n",
      "313  2000  Yearwood, Trisha          Real Live Woman  3:55   2000-04-01  wk30   \n",
      "314  2000   Ying Yang Twins  Whistle While You Tw...  4:19   2000-03-18  wk30   \n",
      "315  2000     Zombie Nation            Kernkraft 400  3:30   2000-09-02  wk30   \n",
      "316  2000   matchbox twenty                     Bent  4:12   2000-04-29  wk30   \n",
      "\n",
      "     rating  \n",
      "0       NaN  \n",
      "1       NaN  \n",
      "2       4.0  \n",
      "3       NaN  \n",
      "4       NaN  \n",
      "..      ...  \n",
      "312     NaN  \n",
      "313     NaN  \n",
      "314     NaN  \n",
      "315     NaN  \n",
      "316    24.0  \n",
      "\n",
      "[317 rows x 7 columns],      year            artist                    track  time date.entered  week  \\\n",
      "0    2000             2 Pac  Baby Don't Cry (Keep...  4:22   2000-02-26  wk31   \n",
      "1    2000           2Ge+her  The Hardest Part Of ...  3:15   2000-09-02  wk31   \n",
      "2    2000      3 Doors Down               Kryptonite  3:53   2000-04-08  wk31   \n",
      "3    2000      3 Doors Down                    Loser  4:24   2000-10-21  wk31   \n",
      "4    2000          504 Boyz            Wobble Wobble  3:35   2000-04-15  wk31   \n",
      "..    ...               ...                      ...   ...          ...   ...   \n",
      "312  2000       Yankee Grey     Another Nine Minutes  3:10   2000-04-29  wk31   \n",
      "313  2000  Yearwood, Trisha          Real Live Woman  3:55   2000-04-01  wk31   \n",
      "314  2000   Ying Yang Twins  Whistle While You Tw...  4:19   2000-03-18  wk31   \n",
      "315  2000     Zombie Nation            Kernkraft 400  3:30   2000-09-02  wk31   \n",
      "316  2000   matchbox twenty                     Bent  4:12   2000-04-29  wk31   \n",
      "\n",
      "     rating  \n",
      "0       NaN  \n",
      "1       NaN  \n",
      "2       4.0  \n",
      "3       NaN  \n",
      "4       NaN  \n",
      "..      ...  \n",
      "312     NaN  \n",
      "313     NaN  \n",
      "314     NaN  \n",
      "315     NaN  \n",
      "316    29.0  \n",
      "\n",
      "[317 rows x 7 columns],      year            artist                    track  time date.entered  week  \\\n",
      "0    2000             2 Pac  Baby Don't Cry (Keep...  4:22   2000-02-26  wk32   \n",
      "1    2000           2Ge+her  The Hardest Part Of ...  3:15   2000-09-02  wk32   \n",
      "2    2000      3 Doors Down               Kryptonite  3:53   2000-04-08  wk32   \n",
      "3    2000      3 Doors Down                    Loser  4:24   2000-10-21  wk32   \n",
      "4    2000          504 Boyz            Wobble Wobble  3:35   2000-04-15  wk32   \n",
      "..    ...               ...                      ...   ...          ...   ...   \n",
      "312  2000       Yankee Grey     Another Nine Minutes  3:10   2000-04-29  wk32   \n",
      "313  2000  Yearwood, Trisha          Real Live Woman  3:55   2000-04-01  wk32   \n",
      "314  2000   Ying Yang Twins  Whistle While You Tw...  4:19   2000-03-18  wk32   \n",
      "315  2000     Zombie Nation            Kernkraft 400  3:30   2000-09-02  wk32   \n",
      "316  2000   matchbox twenty                     Bent  4:12   2000-04-29  wk32   \n",
      "\n",
      "     rating  \n",
      "0       NaN  \n",
      "1       NaN  \n",
      "2       3.0  \n",
      "3       NaN  \n",
      "4       NaN  \n",
      "..      ...  \n",
      "312     NaN  \n",
      "313     NaN  \n",
      "314     NaN  \n",
      "315     NaN  \n",
      "316    28.0  \n",
      "\n",
      "[317 rows x 7 columns],      year            artist                    track  time date.entered  week  \\\n",
      "0    2000             2 Pac  Baby Don't Cry (Keep...  4:22   2000-02-26  wk33   \n",
      "1    2000           2Ge+her  The Hardest Part Of ...  3:15   2000-09-02  wk33   \n",
      "2    2000      3 Doors Down               Kryptonite  3:53   2000-04-08  wk33   \n",
      "3    2000      3 Doors Down                    Loser  4:24   2000-10-21  wk33   \n",
      "4    2000          504 Boyz            Wobble Wobble  3:35   2000-04-15  wk33   \n",
      "..    ...               ...                      ...   ...          ...   ...   \n",
      "312  2000       Yankee Grey     Another Nine Minutes  3:10   2000-04-29  wk33   \n",
      "313  2000  Yearwood, Trisha          Real Live Woman  3:55   2000-04-01  wk33   \n",
      "314  2000   Ying Yang Twins  Whistle While You Tw...  4:19   2000-03-18  wk33   \n",
      "315  2000     Zombie Nation            Kernkraft 400  3:30   2000-09-02  wk33   \n",
      "316  2000   matchbox twenty                     Bent  4:12   2000-04-29  wk33   \n",
      "\n",
      "     rating  \n",
      "0       NaN  \n",
      "1       NaN  \n",
      "2       3.0  \n",
      "3       NaN  \n",
      "4       NaN  \n",
      "..      ...  \n",
      "312     NaN  \n",
      "313     NaN  \n",
      "314     NaN  \n",
      "315     NaN  \n",
      "316    27.0  \n",
      "\n",
      "[317 rows x 7 columns],      year            artist                    track  time date.entered  week  \\\n",
      "0    2000             2 Pac  Baby Don't Cry (Keep...  4:22   2000-02-26  wk34   \n",
      "1    2000           2Ge+her  The Hardest Part Of ...  3:15   2000-09-02  wk34   \n",
      "2    2000      3 Doors Down               Kryptonite  3:53   2000-04-08  wk34   \n",
      "3    2000      3 Doors Down                    Loser  4:24   2000-10-21  wk34   \n",
      "4    2000          504 Boyz            Wobble Wobble  3:35   2000-04-15  wk34   \n",
      "..    ...               ...                      ...   ...          ...   ...   \n",
      "312  2000       Yankee Grey     Another Nine Minutes  3:10   2000-04-29  wk34   \n",
      "313  2000  Yearwood, Trisha          Real Live Woman  3:55   2000-04-01  wk34   \n",
      "314  2000   Ying Yang Twins  Whistle While You Tw...  4:19   2000-03-18  wk34   \n",
      "315  2000     Zombie Nation            Kernkraft 400  3:30   2000-09-02  wk34   \n",
      "316  2000   matchbox twenty                     Bent  4:12   2000-04-29  wk34   \n",
      "\n",
      "     rating  \n",
      "0       NaN  \n",
      "1       NaN  \n",
      "2       3.0  \n",
      "3       NaN  \n",
      "4       NaN  \n",
      "..      ...  \n",
      "312     NaN  \n",
      "313     NaN  \n",
      "314     NaN  \n",
      "315     NaN  \n",
      "316    30.0  \n",
      "\n",
      "[317 rows x 7 columns],      year            artist                    track  time date.entered  week  \\\n",
      "0    2000             2 Pac  Baby Don't Cry (Keep...  4:22   2000-02-26  wk35   \n",
      "1    2000           2Ge+her  The Hardest Part Of ...  3:15   2000-09-02  wk35   \n",
      "2    2000      3 Doors Down               Kryptonite  3:53   2000-04-08  wk35   \n",
      "3    2000      3 Doors Down                    Loser  4:24   2000-10-21  wk35   \n",
      "4    2000          504 Boyz            Wobble Wobble  3:35   2000-04-15  wk35   \n",
      "..    ...               ...                      ...   ...          ...   ...   \n",
      "312  2000       Yankee Grey     Another Nine Minutes  3:10   2000-04-29  wk35   \n",
      "313  2000  Yearwood, Trisha          Real Live Woman  3:55   2000-04-01  wk35   \n",
      "314  2000   Ying Yang Twins  Whistle While You Tw...  4:19   2000-03-18  wk35   \n",
      "315  2000     Zombie Nation            Kernkraft 400  3:30   2000-09-02  wk35   \n",
      "316  2000   matchbox twenty                     Bent  4:12   2000-04-29  wk35   \n",
      "\n",
      "     rating  \n",
      "0       NaN  \n",
      "1       NaN  \n",
      "2       4.0  \n",
      "3       NaN  \n",
      "4       NaN  \n",
      "..      ...  \n",
      "312     NaN  \n",
      "313     NaN  \n",
      "314     NaN  \n",
      "315     NaN  \n",
      "316    33.0  \n",
      "\n",
      "[317 rows x 7 columns],      year            artist                    track  time date.entered  week  \\\n",
      "0    2000             2 Pac  Baby Don't Cry (Keep...  4:22   2000-02-26  wk36   \n",
      "1    2000           2Ge+her  The Hardest Part Of ...  3:15   2000-09-02  wk36   \n",
      "2    2000      3 Doors Down               Kryptonite  3:53   2000-04-08  wk36   \n",
      "3    2000      3 Doors Down                    Loser  4:24   2000-10-21  wk36   \n",
      "4    2000          504 Boyz            Wobble Wobble  3:35   2000-04-15  wk36   \n",
      "..    ...               ...                      ...   ...          ...   ...   \n",
      "312  2000       Yankee Grey     Another Nine Minutes  3:10   2000-04-29  wk36   \n",
      "313  2000  Yearwood, Trisha          Real Live Woman  3:55   2000-04-01  wk36   \n",
      "314  2000   Ying Yang Twins  Whistle While You Tw...  4:19   2000-03-18  wk36   \n",
      "315  2000     Zombie Nation            Kernkraft 400  3:30   2000-09-02  wk36   \n",
      "316  2000   matchbox twenty                     Bent  4:12   2000-04-29  wk36   \n",
      "\n",
      "     rating  \n",
      "0       NaN  \n",
      "1       NaN  \n",
      "2       5.0  \n",
      "3       NaN  \n",
      "4       NaN  \n",
      "..      ...  \n",
      "312     NaN  \n",
      "313     NaN  \n",
      "314     NaN  \n",
      "315     NaN  \n",
      "316    37.0  \n",
      "\n",
      "[317 rows x 7 columns],      year            artist                    track  time date.entered  week  \\\n",
      "0    2000             2 Pac  Baby Don't Cry (Keep...  4:22   2000-02-26  wk37   \n",
      "1    2000           2Ge+her  The Hardest Part Of ...  3:15   2000-09-02  wk37   \n",
      "2    2000      3 Doors Down               Kryptonite  3:53   2000-04-08  wk37   \n",
      "3    2000      3 Doors Down                    Loser  4:24   2000-10-21  wk37   \n",
      "4    2000          504 Boyz            Wobble Wobble  3:35   2000-04-15  wk37   \n",
      "..    ...               ...                      ...   ...          ...   ...   \n",
      "312  2000       Yankee Grey     Another Nine Minutes  3:10   2000-04-29  wk37   \n",
      "313  2000  Yearwood, Trisha          Real Live Woman  3:55   2000-04-01  wk37   \n",
      "314  2000   Ying Yang Twins  Whistle While You Tw...  4:19   2000-03-18  wk37   \n",
      "315  2000     Zombie Nation            Kernkraft 400  3:30   2000-09-02  wk37   \n",
      "316  2000   matchbox twenty                     Bent  4:12   2000-04-29  wk37   \n",
      "\n",
      "     rating  \n",
      "0       NaN  \n",
      "1       NaN  \n",
      "2       5.0  \n",
      "3       NaN  \n",
      "4       NaN  \n",
      "..      ...  \n",
      "312     NaN  \n",
      "313     NaN  \n",
      "314     NaN  \n",
      "315     NaN  \n",
      "316    38.0  \n",
      "\n",
      "[317 rows x 7 columns],      year            artist                    track  time date.entered  week  \\\n",
      "0    2000             2 Pac  Baby Don't Cry (Keep...  4:22   2000-02-26  wk38   \n",
      "1    2000           2Ge+her  The Hardest Part Of ...  3:15   2000-09-02  wk38   \n",
      "2    2000      3 Doors Down               Kryptonite  3:53   2000-04-08  wk38   \n",
      "3    2000      3 Doors Down                    Loser  4:24   2000-10-21  wk38   \n",
      "4    2000          504 Boyz            Wobble Wobble  3:35   2000-04-15  wk38   \n",
      "..    ...               ...                      ...   ...          ...   ...   \n",
      "312  2000       Yankee Grey     Another Nine Minutes  3:10   2000-04-29  wk38   \n",
      "313  2000  Yearwood, Trisha          Real Live Woman  3:55   2000-04-01  wk38   \n",
      "314  2000   Ying Yang Twins  Whistle While You Tw...  4:19   2000-03-18  wk38   \n",
      "315  2000     Zombie Nation            Kernkraft 400  3:30   2000-09-02  wk38   \n",
      "316  2000   matchbox twenty                     Bent  4:12   2000-04-29  wk38   \n",
      "\n",
      "     rating  \n",
      "0       NaN  \n",
      "1       NaN  \n",
      "2       9.0  \n",
      "3       NaN  \n",
      "4       NaN  \n",
      "..      ...  \n",
      "312     NaN  \n",
      "313     NaN  \n",
      "314     NaN  \n",
      "315     NaN  \n",
      "316    38.0  \n",
      "\n",
      "[317 rows x 7 columns],      year            artist                    track  time date.entered  week  \\\n",
      "0    2000             2 Pac  Baby Don't Cry (Keep...  4:22   2000-02-26  wk39   \n",
      "1    2000           2Ge+her  The Hardest Part Of ...  3:15   2000-09-02  wk39   \n",
      "2    2000      3 Doors Down               Kryptonite  3:53   2000-04-08  wk39   \n",
      "3    2000      3 Doors Down                    Loser  4:24   2000-10-21  wk39   \n",
      "4    2000          504 Boyz            Wobble Wobble  3:35   2000-04-15  wk39   \n",
      "..    ...               ...                      ...   ...          ...   ...   \n",
      "312  2000       Yankee Grey     Another Nine Minutes  3:10   2000-04-29  wk39   \n",
      "313  2000  Yearwood, Trisha          Real Live Woman  3:55   2000-04-01  wk39   \n",
      "314  2000   Ying Yang Twins  Whistle While You Tw...  4:19   2000-03-18  wk39   \n",
      "315  2000     Zombie Nation            Kernkraft 400  3:30   2000-09-02  wk39   \n",
      "316  2000   matchbox twenty                     Bent  4:12   2000-04-29  wk39   \n",
      "\n",
      "     rating  \n",
      "0       NaN  \n",
      "1       NaN  \n",
      "2       9.0  \n",
      "3       NaN  \n",
      "4       NaN  \n",
      "..      ...  \n",
      "312     NaN  \n",
      "313     NaN  \n",
      "314     NaN  \n",
      "315     NaN  \n",
      "316    48.0  \n",
      "\n",
      "[317 rows x 7 columns],      year            artist                    track  time date.entered  week  \\\n",
      "0    2000             2 Pac  Baby Don't Cry (Keep...  4:22   2000-02-26  wk40   \n",
      "1    2000           2Ge+her  The Hardest Part Of ...  3:15   2000-09-02  wk40   \n",
      "2    2000      3 Doors Down               Kryptonite  3:53   2000-04-08  wk40   \n",
      "3    2000      3 Doors Down                    Loser  4:24   2000-10-21  wk40   \n",
      "4    2000          504 Boyz            Wobble Wobble  3:35   2000-04-15  wk40   \n",
      "..    ...               ...                      ...   ...          ...   ...   \n",
      "312  2000       Yankee Grey     Another Nine Minutes  3:10   2000-04-29  wk40   \n",
      "313  2000  Yearwood, Trisha          Real Live Woman  3:55   2000-04-01  wk40   \n",
      "314  2000   Ying Yang Twins  Whistle While You Tw...  4:19   2000-03-18  wk40   \n",
      "315  2000     Zombie Nation            Kernkraft 400  3:30   2000-09-02  wk40   \n",
      "316  2000   matchbox twenty                     Bent  4:12   2000-04-29  wk40   \n",
      "\n",
      "     rating  \n",
      "0       NaN  \n",
      "1       NaN  \n",
      "2      15.0  \n",
      "3       NaN  \n",
      "4       NaN  \n",
      "..      ...  \n",
      "312     NaN  \n",
      "313     NaN  \n",
      "314     NaN  \n",
      "315     NaN  \n",
      "316     NaN  \n",
      "\n",
      "[317 rows x 7 columns],      year            artist                    track  time date.entered  week  \\\n",
      "0    2000             2 Pac  Baby Don't Cry (Keep...  4:22   2000-02-26  wk41   \n",
      "1    2000           2Ge+her  The Hardest Part Of ...  3:15   2000-09-02  wk41   \n",
      "2    2000      3 Doors Down               Kryptonite  3:53   2000-04-08  wk41   \n",
      "3    2000      3 Doors Down                    Loser  4:24   2000-10-21  wk41   \n",
      "4    2000          504 Boyz            Wobble Wobble  3:35   2000-04-15  wk41   \n",
      "..    ...               ...                      ...   ...          ...   ...   \n",
      "312  2000       Yankee Grey     Another Nine Minutes  3:10   2000-04-29  wk41   \n",
      "313  2000  Yearwood, Trisha          Real Live Woman  3:55   2000-04-01  wk41   \n",
      "314  2000   Ying Yang Twins  Whistle While You Tw...  4:19   2000-03-18  wk41   \n",
      "315  2000     Zombie Nation            Kernkraft 400  3:30   2000-09-02  wk41   \n",
      "316  2000   matchbox twenty                     Bent  4:12   2000-04-29  wk41   \n",
      "\n",
      "     rating  \n",
      "0       NaN  \n",
      "1       NaN  \n",
      "2      14.0  \n",
      "3       NaN  \n",
      "4       NaN  \n",
      "..      ...  \n",
      "312     NaN  \n",
      "313     NaN  \n",
      "314     NaN  \n",
      "315     NaN  \n",
      "316     NaN  \n",
      "\n",
      "[317 rows x 7 columns],      year            artist                    track  time date.entered  week  \\\n",
      "0    2000             2 Pac  Baby Don't Cry (Keep...  4:22   2000-02-26  wk42   \n",
      "1    2000           2Ge+her  The Hardest Part Of ...  3:15   2000-09-02  wk42   \n",
      "2    2000      3 Doors Down               Kryptonite  3:53   2000-04-08  wk42   \n",
      "3    2000      3 Doors Down                    Loser  4:24   2000-10-21  wk42   \n",
      "4    2000          504 Boyz            Wobble Wobble  3:35   2000-04-15  wk42   \n",
      "..    ...               ...                      ...   ...          ...   ...   \n",
      "312  2000       Yankee Grey     Another Nine Minutes  3:10   2000-04-29  wk42   \n",
      "313  2000  Yearwood, Trisha          Real Live Woman  3:55   2000-04-01  wk42   \n",
      "314  2000   Ying Yang Twins  Whistle While You Tw...  4:19   2000-03-18  wk42   \n",
      "315  2000     Zombie Nation            Kernkraft 400  3:30   2000-09-02  wk42   \n",
      "316  2000   matchbox twenty                     Bent  4:12   2000-04-29  wk42   \n",
      "\n",
      "     rating  \n",
      "0       NaN  \n",
      "1       NaN  \n",
      "2      13.0  \n",
      "3       NaN  \n",
      "4       NaN  \n",
      "..      ...  \n",
      "312     NaN  \n",
      "313     NaN  \n",
      "314     NaN  \n",
      "315     NaN  \n",
      "316     NaN  \n",
      "\n",
      "[317 rows x 7 columns],      year            artist                    track  time date.entered  week  \\\n",
      "0    2000             2 Pac  Baby Don't Cry (Keep...  4:22   2000-02-26  wk43   \n",
      "1    2000           2Ge+her  The Hardest Part Of ...  3:15   2000-09-02  wk43   \n",
      "2    2000      3 Doors Down               Kryptonite  3:53   2000-04-08  wk43   \n",
      "3    2000      3 Doors Down                    Loser  4:24   2000-10-21  wk43   \n",
      "4    2000          504 Boyz            Wobble Wobble  3:35   2000-04-15  wk43   \n",
      "..    ...               ...                      ...   ...          ...   ...   \n",
      "312  2000       Yankee Grey     Another Nine Minutes  3:10   2000-04-29  wk43   \n",
      "313  2000  Yearwood, Trisha          Real Live Woman  3:55   2000-04-01  wk43   \n",
      "314  2000   Ying Yang Twins  Whistle While You Tw...  4:19   2000-03-18  wk43   \n",
      "315  2000     Zombie Nation            Kernkraft 400  3:30   2000-09-02  wk43   \n",
      "316  2000   matchbox twenty                     Bent  4:12   2000-04-29  wk43   \n",
      "\n",
      "     rating  \n",
      "0       NaN  \n",
      "1       NaN  \n",
      "2      14.0  \n",
      "3       NaN  \n",
      "4       NaN  \n",
      "..      ...  \n",
      "312     NaN  \n",
      "313     NaN  \n",
      "314     NaN  \n",
      "315     NaN  \n",
      "316     NaN  \n",
      "\n",
      "[317 rows x 7 columns],      year            artist                    track  time date.entered  week  \\\n",
      "0    2000             2 Pac  Baby Don't Cry (Keep...  4:22   2000-02-26  wk44   \n",
      "1    2000           2Ge+her  The Hardest Part Of ...  3:15   2000-09-02  wk44   \n",
      "2    2000      3 Doors Down               Kryptonite  3:53   2000-04-08  wk44   \n",
      "3    2000      3 Doors Down                    Loser  4:24   2000-10-21  wk44   \n",
      "4    2000          504 Boyz            Wobble Wobble  3:35   2000-04-15  wk44   \n",
      "..    ...               ...                      ...   ...          ...   ...   \n",
      "312  2000       Yankee Grey     Another Nine Minutes  3:10   2000-04-29  wk44   \n",
      "313  2000  Yearwood, Trisha          Real Live Woman  3:55   2000-04-01  wk44   \n",
      "314  2000   Ying Yang Twins  Whistle While You Tw...  4:19   2000-03-18  wk44   \n",
      "315  2000     Zombie Nation            Kernkraft 400  3:30   2000-09-02  wk44   \n",
      "316  2000   matchbox twenty                     Bent  4:12   2000-04-29  wk44   \n",
      "\n",
      "     rating  \n",
      "0       NaN  \n",
      "1       NaN  \n",
      "2      16.0  \n",
      "3       NaN  \n",
      "4       NaN  \n",
      "..      ...  \n",
      "312     NaN  \n",
      "313     NaN  \n",
      "314     NaN  \n",
      "315     NaN  \n",
      "316     NaN  \n",
      "\n",
      "[317 rows x 7 columns],      year            artist                    track  time date.entered  week  \\\n",
      "0    2000             2 Pac  Baby Don't Cry (Keep...  4:22   2000-02-26  wk45   \n",
      "1    2000           2Ge+her  The Hardest Part Of ...  3:15   2000-09-02  wk45   \n",
      "2    2000      3 Doors Down               Kryptonite  3:53   2000-04-08  wk45   \n",
      "3    2000      3 Doors Down                    Loser  4:24   2000-10-21  wk45   \n",
      "4    2000          504 Boyz            Wobble Wobble  3:35   2000-04-15  wk45   \n",
      "..    ...               ...                      ...   ...          ...   ...   \n",
      "312  2000       Yankee Grey     Another Nine Minutes  3:10   2000-04-29  wk45   \n",
      "313  2000  Yearwood, Trisha          Real Live Woman  3:55   2000-04-01  wk45   \n",
      "314  2000   Ying Yang Twins  Whistle While You Tw...  4:19   2000-03-18  wk45   \n",
      "315  2000     Zombie Nation            Kernkraft 400  3:30   2000-09-02  wk45   \n",
      "316  2000   matchbox twenty                     Bent  4:12   2000-04-29  wk45   \n",
      "\n",
      "     rating  \n",
      "0       NaN  \n",
      "1       NaN  \n",
      "2      17.0  \n",
      "3       NaN  \n",
      "4       NaN  \n",
      "..      ...  \n",
      "312     NaN  \n",
      "313     NaN  \n",
      "314     NaN  \n",
      "315     NaN  \n",
      "316     NaN  \n",
      "\n",
      "[317 rows x 7 columns],      year            artist                    track  time date.entered  week  \\\n",
      "0    2000             2 Pac  Baby Don't Cry (Keep...  4:22   2000-02-26  wk46   \n",
      "1    2000           2Ge+her  The Hardest Part Of ...  3:15   2000-09-02  wk46   \n",
      "2    2000      3 Doors Down               Kryptonite  3:53   2000-04-08  wk46   \n",
      "3    2000      3 Doors Down                    Loser  4:24   2000-10-21  wk46   \n",
      "4    2000          504 Boyz            Wobble Wobble  3:35   2000-04-15  wk46   \n",
      "..    ...               ...                      ...   ...          ...   ...   \n",
      "312  2000       Yankee Grey     Another Nine Minutes  3:10   2000-04-29  wk46   \n",
      "313  2000  Yearwood, Trisha          Real Live Woman  3:55   2000-04-01  wk46   \n",
      "314  2000   Ying Yang Twins  Whistle While You Tw...  4:19   2000-03-18  wk46   \n",
      "315  2000     Zombie Nation            Kernkraft 400  3:30   2000-09-02  wk46   \n",
      "316  2000   matchbox twenty                     Bent  4:12   2000-04-29  wk46   \n",
      "\n",
      "     rating  \n",
      "0       NaN  \n",
      "1       NaN  \n",
      "2      21.0  \n",
      "3       NaN  \n",
      "4       NaN  \n",
      "..      ...  \n",
      "312     NaN  \n",
      "313     NaN  \n",
      "314     NaN  \n",
      "315     NaN  \n",
      "316     NaN  \n",
      "\n",
      "[317 rows x 7 columns],      year            artist                    track  time date.entered  week  \\\n",
      "0    2000             2 Pac  Baby Don't Cry (Keep...  4:22   2000-02-26  wk47   \n",
      "1    2000           2Ge+her  The Hardest Part Of ...  3:15   2000-09-02  wk47   \n",
      "2    2000      3 Doors Down               Kryptonite  3:53   2000-04-08  wk47   \n",
      "3    2000      3 Doors Down                    Loser  4:24   2000-10-21  wk47   \n",
      "4    2000          504 Boyz            Wobble Wobble  3:35   2000-04-15  wk47   \n",
      "..    ...               ...                      ...   ...          ...   ...   \n",
      "312  2000       Yankee Grey     Another Nine Minutes  3:10   2000-04-29  wk47   \n",
      "313  2000  Yearwood, Trisha          Real Live Woman  3:55   2000-04-01  wk47   \n",
      "314  2000   Ying Yang Twins  Whistle While You Tw...  4:19   2000-03-18  wk47   \n",
      "315  2000     Zombie Nation            Kernkraft 400  3:30   2000-09-02  wk47   \n",
      "316  2000   matchbox twenty                     Bent  4:12   2000-04-29  wk47   \n",
      "\n",
      "     rating  \n",
      "0       NaN  \n",
      "1       NaN  \n",
      "2      22.0  \n",
      "3       NaN  \n",
      "4       NaN  \n",
      "..      ...  \n",
      "312     NaN  \n",
      "313     NaN  \n",
      "314     NaN  \n",
      "315     NaN  \n",
      "316     NaN  \n",
      "\n",
      "[317 rows x 7 columns],      year            artist                    track  time date.entered  week  \\\n",
      "0    2000             2 Pac  Baby Don't Cry (Keep...  4:22   2000-02-26  wk48   \n",
      "1    2000           2Ge+her  The Hardest Part Of ...  3:15   2000-09-02  wk48   \n",
      "2    2000      3 Doors Down               Kryptonite  3:53   2000-04-08  wk48   \n",
      "3    2000      3 Doors Down                    Loser  4:24   2000-10-21  wk48   \n",
      "4    2000          504 Boyz            Wobble Wobble  3:35   2000-04-15  wk48   \n",
      "..    ...               ...                      ...   ...          ...   ...   \n",
      "312  2000       Yankee Grey     Another Nine Minutes  3:10   2000-04-29  wk48   \n",
      "313  2000  Yearwood, Trisha          Real Live Woman  3:55   2000-04-01  wk48   \n",
      "314  2000   Ying Yang Twins  Whistle While You Tw...  4:19   2000-03-18  wk48   \n",
      "315  2000     Zombie Nation            Kernkraft 400  3:30   2000-09-02  wk48   \n",
      "316  2000   matchbox twenty                     Bent  4:12   2000-04-29  wk48   \n",
      "\n",
      "     rating  \n",
      "0       NaN  \n",
      "1       NaN  \n",
      "2      24.0  \n",
      "3       NaN  \n",
      "4       NaN  \n",
      "..      ...  \n",
      "312     NaN  \n",
      "313     NaN  \n",
      "314     NaN  \n",
      "315     NaN  \n",
      "316     NaN  \n",
      "\n",
      "[317 rows x 7 columns],      year            artist                    track  time date.entered  week  \\\n",
      "0    2000             2 Pac  Baby Don't Cry (Keep...  4:22   2000-02-26  wk49   \n",
      "1    2000           2Ge+her  The Hardest Part Of ...  3:15   2000-09-02  wk49   \n",
      "2    2000      3 Doors Down               Kryptonite  3:53   2000-04-08  wk49   \n",
      "3    2000      3 Doors Down                    Loser  4:24   2000-10-21  wk49   \n",
      "4    2000          504 Boyz            Wobble Wobble  3:35   2000-04-15  wk49   \n",
      "..    ...               ...                      ...   ...          ...   ...   \n",
      "312  2000       Yankee Grey     Another Nine Minutes  3:10   2000-04-29  wk49   \n",
      "313  2000  Yearwood, Trisha          Real Live Woman  3:55   2000-04-01  wk49   \n",
      "314  2000   Ying Yang Twins  Whistle While You Tw...  4:19   2000-03-18  wk49   \n",
      "315  2000     Zombie Nation            Kernkraft 400  3:30   2000-09-02  wk49   \n",
      "316  2000   matchbox twenty                     Bent  4:12   2000-04-29  wk49   \n",
      "\n",
      "     rating  \n",
      "0       NaN  \n",
      "1       NaN  \n",
      "2      28.0  \n",
      "3       NaN  \n",
      "4       NaN  \n",
      "..      ...  \n",
      "312     NaN  \n",
      "313     NaN  \n",
      "314     NaN  \n",
      "315     NaN  \n",
      "316     NaN  \n",
      "\n",
      "[317 rows x 7 columns],      year            artist                    track  time date.entered  week  \\\n",
      "0    2000             2 Pac  Baby Don't Cry (Keep...  4:22   2000-02-26  wk50   \n",
      "1    2000           2Ge+her  The Hardest Part Of ...  3:15   2000-09-02  wk50   \n",
      "2    2000      3 Doors Down               Kryptonite  3:53   2000-04-08  wk50   \n",
      "3    2000      3 Doors Down                    Loser  4:24   2000-10-21  wk50   \n",
      "4    2000          504 Boyz            Wobble Wobble  3:35   2000-04-15  wk50   \n",
      "..    ...               ...                      ...   ...          ...   ...   \n",
      "312  2000       Yankee Grey     Another Nine Minutes  3:10   2000-04-29  wk50   \n",
      "313  2000  Yearwood, Trisha          Real Live Woman  3:55   2000-04-01  wk50   \n",
      "314  2000   Ying Yang Twins  Whistle While You Tw...  4:19   2000-03-18  wk50   \n",
      "315  2000     Zombie Nation            Kernkraft 400  3:30   2000-09-02  wk50   \n",
      "316  2000   matchbox twenty                     Bent  4:12   2000-04-29  wk50   \n",
      "\n",
      "     rating  \n",
      "0       NaN  \n",
      "1       NaN  \n",
      "2      33.0  \n",
      "3       NaN  \n",
      "4       NaN  \n",
      "..      ...  \n",
      "312     NaN  \n",
      "313     NaN  \n",
      "314     NaN  \n",
      "315     NaN  \n",
      "316     NaN  \n",
      "\n",
      "[317 rows x 7 columns],      year            artist                    track  time date.entered  week  \\\n",
      "0    2000             2 Pac  Baby Don't Cry (Keep...  4:22   2000-02-26  wk51   \n",
      "1    2000           2Ge+her  The Hardest Part Of ...  3:15   2000-09-02  wk51   \n",
      "2    2000      3 Doors Down               Kryptonite  3:53   2000-04-08  wk51   \n",
      "3    2000      3 Doors Down                    Loser  4:24   2000-10-21  wk51   \n",
      "4    2000          504 Boyz            Wobble Wobble  3:35   2000-04-15  wk51   \n",
      "..    ...               ...                      ...   ...          ...   ...   \n",
      "312  2000       Yankee Grey     Another Nine Minutes  3:10   2000-04-29  wk51   \n",
      "313  2000  Yearwood, Trisha          Real Live Woman  3:55   2000-04-01  wk51   \n",
      "314  2000   Ying Yang Twins  Whistle While You Tw...  4:19   2000-03-18  wk51   \n",
      "315  2000     Zombie Nation            Kernkraft 400  3:30   2000-09-02  wk51   \n",
      "316  2000   matchbox twenty                     Bent  4:12   2000-04-29  wk51   \n",
      "\n",
      "     rating  \n",
      "0       NaN  \n",
      "1       NaN  \n",
      "2      42.0  \n",
      "3       NaN  \n",
      "4       NaN  \n",
      "..      ...  \n",
      "312     NaN  \n",
      "313     NaN  \n",
      "314     NaN  \n",
      "315     NaN  \n",
      "316     NaN  \n",
      "\n",
      "[317 rows x 7 columns],      year            artist                    track  time date.entered  week  \\\n",
      "0    2000             2 Pac  Baby Don't Cry (Keep...  4:22   2000-02-26  wk52   \n",
      "1    2000           2Ge+her  The Hardest Part Of ...  3:15   2000-09-02  wk52   \n",
      "2    2000      3 Doors Down               Kryptonite  3:53   2000-04-08  wk52   \n",
      "3    2000      3 Doors Down                    Loser  4:24   2000-10-21  wk52   \n",
      "4    2000          504 Boyz            Wobble Wobble  3:35   2000-04-15  wk52   \n",
      "..    ...               ...                      ...   ...          ...   ...   \n",
      "312  2000       Yankee Grey     Another Nine Minutes  3:10   2000-04-29  wk52   \n",
      "313  2000  Yearwood, Trisha          Real Live Woman  3:55   2000-04-01  wk52   \n",
      "314  2000   Ying Yang Twins  Whistle While You Tw...  4:19   2000-03-18  wk52   \n",
      "315  2000     Zombie Nation            Kernkraft 400  3:30   2000-09-02  wk52   \n",
      "316  2000   matchbox twenty                     Bent  4:12   2000-04-29  wk52   \n",
      "\n",
      "     rating  \n",
      "0       NaN  \n",
      "1       NaN  \n",
      "2      42.0  \n",
      "3       NaN  \n",
      "4       NaN  \n",
      "..      ...  \n",
      "312     NaN  \n",
      "313     NaN  \n",
      "314     NaN  \n",
      "315     NaN  \n",
      "316     NaN  \n",
      "\n",
      "[317 rows x 7 columns],      year            artist                    track  time date.entered  week  \\\n",
      "0    2000             2 Pac  Baby Don't Cry (Keep...  4:22   2000-02-26  wk53   \n",
      "1    2000           2Ge+her  The Hardest Part Of ...  3:15   2000-09-02  wk53   \n",
      "2    2000      3 Doors Down               Kryptonite  3:53   2000-04-08  wk53   \n",
      "3    2000      3 Doors Down                    Loser  4:24   2000-10-21  wk53   \n",
      "4    2000          504 Boyz            Wobble Wobble  3:35   2000-04-15  wk53   \n",
      "..    ...               ...                      ...   ...          ...   ...   \n",
      "312  2000       Yankee Grey     Another Nine Minutes  3:10   2000-04-29  wk53   \n",
      "313  2000  Yearwood, Trisha          Real Live Woman  3:55   2000-04-01  wk53   \n",
      "314  2000   Ying Yang Twins  Whistle While You Tw...  4:19   2000-03-18  wk53   \n",
      "315  2000     Zombie Nation            Kernkraft 400  3:30   2000-09-02  wk53   \n",
      "316  2000   matchbox twenty                     Bent  4:12   2000-04-29  wk53   \n",
      "\n",
      "     rating  \n",
      "0       NaN  \n",
      "1       NaN  \n",
      "2      49.0  \n",
      "3       NaN  \n",
      "4       NaN  \n",
      "..      ...  \n",
      "312     NaN  \n",
      "313     NaN  \n",
      "314     NaN  \n",
      "315     NaN  \n",
      "316     NaN  \n",
      "\n",
      "[317 rows x 7 columns],      year            artist                    track  time date.entered  week  \\\n",
      "0    2000             2 Pac  Baby Don't Cry (Keep...  4:22   2000-02-26  wk54   \n",
      "1    2000           2Ge+her  The Hardest Part Of ...  3:15   2000-09-02  wk54   \n",
      "2    2000      3 Doors Down               Kryptonite  3:53   2000-04-08  wk54   \n",
      "3    2000      3 Doors Down                    Loser  4:24   2000-10-21  wk54   \n",
      "4    2000          504 Boyz            Wobble Wobble  3:35   2000-04-15  wk54   \n",
      "..    ...               ...                      ...   ...          ...   ...   \n",
      "312  2000       Yankee Grey     Another Nine Minutes  3:10   2000-04-29  wk54   \n",
      "313  2000  Yearwood, Trisha          Real Live Woman  3:55   2000-04-01  wk54   \n",
      "314  2000   Ying Yang Twins  Whistle While You Tw...  4:19   2000-03-18  wk54   \n",
      "315  2000     Zombie Nation            Kernkraft 400  3:30   2000-09-02  wk54   \n",
      "316  2000   matchbox twenty                     Bent  4:12   2000-04-29  wk54   \n",
      "\n",
      "     rating  \n",
      "0       NaN  \n",
      "1       NaN  \n",
      "2       NaN  \n",
      "3       NaN  \n",
      "4       NaN  \n",
      "..      ...  \n",
      "312     NaN  \n",
      "313     NaN  \n",
      "314     NaN  \n",
      "315     NaN  \n",
      "316     NaN  \n",
      "\n",
      "[317 rows x 7 columns],      year            artist                    track  time date.entered  week  \\\n",
      "0    2000             2 Pac  Baby Don't Cry (Keep...  4:22   2000-02-26  wk55   \n",
      "1    2000           2Ge+her  The Hardest Part Of ...  3:15   2000-09-02  wk55   \n",
      "2    2000      3 Doors Down               Kryptonite  3:53   2000-04-08  wk55   \n",
      "3    2000      3 Doors Down                    Loser  4:24   2000-10-21  wk55   \n",
      "4    2000          504 Boyz            Wobble Wobble  3:35   2000-04-15  wk55   \n",
      "..    ...               ...                      ...   ...          ...   ...   \n",
      "312  2000       Yankee Grey     Another Nine Minutes  3:10   2000-04-29  wk55   \n",
      "313  2000  Yearwood, Trisha          Real Live Woman  3:55   2000-04-01  wk55   \n",
      "314  2000   Ying Yang Twins  Whistle While You Tw...  4:19   2000-03-18  wk55   \n",
      "315  2000     Zombie Nation            Kernkraft 400  3:30   2000-09-02  wk55   \n",
      "316  2000   matchbox twenty                     Bent  4:12   2000-04-29  wk55   \n",
      "\n",
      "     rating  \n",
      "0       NaN  \n",
      "1       NaN  \n",
      "2       NaN  \n",
      "3       NaN  \n",
      "4       NaN  \n",
      "..      ...  \n",
      "312     NaN  \n",
      "313     NaN  \n",
      "314     NaN  \n",
      "315     NaN  \n",
      "316     NaN  \n",
      "\n",
      "[317 rows x 7 columns],      year            artist                    track  time date.entered  week  \\\n",
      "0    2000             2 Pac  Baby Don't Cry (Keep...  4:22   2000-02-26  wk56   \n",
      "1    2000           2Ge+her  The Hardest Part Of ...  3:15   2000-09-02  wk56   \n",
      "2    2000      3 Doors Down               Kryptonite  3:53   2000-04-08  wk56   \n",
      "3    2000      3 Doors Down                    Loser  4:24   2000-10-21  wk56   \n",
      "4    2000          504 Boyz            Wobble Wobble  3:35   2000-04-15  wk56   \n",
      "..    ...               ...                      ...   ...          ...   ...   \n",
      "312  2000       Yankee Grey     Another Nine Minutes  3:10   2000-04-29  wk56   \n",
      "313  2000  Yearwood, Trisha          Real Live Woman  3:55   2000-04-01  wk56   \n",
      "314  2000   Ying Yang Twins  Whistle While You Tw...  4:19   2000-03-18  wk56   \n",
      "315  2000     Zombie Nation            Kernkraft 400  3:30   2000-09-02  wk56   \n",
      "316  2000   matchbox twenty                     Bent  4:12   2000-04-29  wk56   \n",
      "\n",
      "     rating  \n",
      "0       NaN  \n",
      "1       NaN  \n",
      "2       NaN  \n",
      "3       NaN  \n",
      "4       NaN  \n",
      "..      ...  \n",
      "312     NaN  \n",
      "313     NaN  \n",
      "314     NaN  \n",
      "315     NaN  \n",
      "316     NaN  \n",
      "\n",
      "[317 rows x 7 columns],      year            artist                    track  time date.entered  week  \\\n",
      "0    2000             2 Pac  Baby Don't Cry (Keep...  4:22   2000-02-26  wk57   \n",
      "1    2000           2Ge+her  The Hardest Part Of ...  3:15   2000-09-02  wk57   \n",
      "2    2000      3 Doors Down               Kryptonite  3:53   2000-04-08  wk57   \n",
      "3    2000      3 Doors Down                    Loser  4:24   2000-10-21  wk57   \n",
      "4    2000          504 Boyz            Wobble Wobble  3:35   2000-04-15  wk57   \n",
      "..    ...               ...                      ...   ...          ...   ...   \n",
      "312  2000       Yankee Grey     Another Nine Minutes  3:10   2000-04-29  wk57   \n",
      "313  2000  Yearwood, Trisha          Real Live Woman  3:55   2000-04-01  wk57   \n",
      "314  2000   Ying Yang Twins  Whistle While You Tw...  4:19   2000-03-18  wk57   \n",
      "315  2000     Zombie Nation            Kernkraft 400  3:30   2000-09-02  wk57   \n",
      "316  2000   matchbox twenty                     Bent  4:12   2000-04-29  wk57   \n",
      "\n",
      "     rating  \n",
      "0       NaN  \n",
      "1       NaN  \n",
      "2       NaN  \n",
      "3       NaN  \n",
      "4       NaN  \n",
      "..      ...  \n",
      "312     NaN  \n",
      "313     NaN  \n",
      "314     NaN  \n",
      "315     NaN  \n",
      "316     NaN  \n",
      "\n",
      "[317 rows x 7 columns],      year            artist                    track  time date.entered  week  \\\n",
      "0    2000             2 Pac  Baby Don't Cry (Keep...  4:22   2000-02-26  wk58   \n",
      "1    2000           2Ge+her  The Hardest Part Of ...  3:15   2000-09-02  wk58   \n",
      "2    2000      3 Doors Down               Kryptonite  3:53   2000-04-08  wk58   \n",
      "3    2000      3 Doors Down                    Loser  4:24   2000-10-21  wk58   \n",
      "4    2000          504 Boyz            Wobble Wobble  3:35   2000-04-15  wk58   \n",
      "..    ...               ...                      ...   ...          ...   ...   \n",
      "312  2000       Yankee Grey     Another Nine Minutes  3:10   2000-04-29  wk58   \n",
      "313  2000  Yearwood, Trisha          Real Live Woman  3:55   2000-04-01  wk58   \n",
      "314  2000   Ying Yang Twins  Whistle While You Tw...  4:19   2000-03-18  wk58   \n",
      "315  2000     Zombie Nation            Kernkraft 400  3:30   2000-09-02  wk58   \n",
      "316  2000   matchbox twenty                     Bent  4:12   2000-04-29  wk58   \n",
      "\n",
      "     rating  \n",
      "0       NaN  \n",
      "1       NaN  \n",
      "2       NaN  \n",
      "3       NaN  \n",
      "4       NaN  \n",
      "..      ...  \n",
      "312     NaN  \n",
      "313     NaN  \n",
      "314     NaN  \n",
      "315     NaN  \n",
      "316     NaN  \n",
      "\n",
      "[317 rows x 7 columns],      year            artist                    track  time date.entered  week  \\\n",
      "0    2000             2 Pac  Baby Don't Cry (Keep...  4:22   2000-02-26  wk59   \n",
      "1    2000           2Ge+her  The Hardest Part Of ...  3:15   2000-09-02  wk59   \n",
      "2    2000      3 Doors Down               Kryptonite  3:53   2000-04-08  wk59   \n",
      "3    2000      3 Doors Down                    Loser  4:24   2000-10-21  wk59   \n",
      "4    2000          504 Boyz            Wobble Wobble  3:35   2000-04-15  wk59   \n",
      "..    ...               ...                      ...   ...          ...   ...   \n",
      "312  2000       Yankee Grey     Another Nine Minutes  3:10   2000-04-29  wk59   \n",
      "313  2000  Yearwood, Trisha          Real Live Woman  3:55   2000-04-01  wk59   \n",
      "314  2000   Ying Yang Twins  Whistle While You Tw...  4:19   2000-03-18  wk59   \n",
      "315  2000     Zombie Nation            Kernkraft 400  3:30   2000-09-02  wk59   \n",
      "316  2000   matchbox twenty                     Bent  4:12   2000-04-29  wk59   \n",
      "\n",
      "     rating  \n",
      "0       NaN  \n",
      "1       NaN  \n",
      "2       NaN  \n",
      "3       NaN  \n",
      "4       NaN  \n",
      "..      ...  \n",
      "312     NaN  \n",
      "313     NaN  \n",
      "314     NaN  \n",
      "315     NaN  \n",
      "316     NaN  \n",
      "\n",
      "[317 rows x 7 columns],      year            artist                    track  time date.entered  week  \\\n",
      "0    2000             2 Pac  Baby Don't Cry (Keep...  4:22   2000-02-26  wk60   \n",
      "1    2000           2Ge+her  The Hardest Part Of ...  3:15   2000-09-02  wk60   \n",
      "2    2000      3 Doors Down               Kryptonite  3:53   2000-04-08  wk60   \n",
      "3    2000      3 Doors Down                    Loser  4:24   2000-10-21  wk60   \n",
      "4    2000          504 Boyz            Wobble Wobble  3:35   2000-04-15  wk60   \n",
      "..    ...               ...                      ...   ...          ...   ...   \n",
      "312  2000       Yankee Grey     Another Nine Minutes  3:10   2000-04-29  wk60   \n",
      "313  2000  Yearwood, Trisha          Real Live Woman  3:55   2000-04-01  wk60   \n",
      "314  2000   Ying Yang Twins  Whistle While You Tw...  4:19   2000-03-18  wk60   \n",
      "315  2000     Zombie Nation            Kernkraft 400  3:30   2000-09-02  wk60   \n",
      "316  2000   matchbox twenty                     Bent  4:12   2000-04-29  wk60   \n",
      "\n",
      "     rating  \n",
      "0       NaN  \n",
      "1       NaN  \n",
      "2       NaN  \n",
      "3       NaN  \n",
      "4       NaN  \n",
      "..      ...  \n",
      "312     NaN  \n",
      "313     NaN  \n",
      "314     NaN  \n",
      "315     NaN  \n",
      "316     NaN  \n",
      "\n",
      "[317 rows x 7 columns],      year            artist                    track  time date.entered  week  \\\n",
      "0    2000             2 Pac  Baby Don't Cry (Keep...  4:22   2000-02-26  wk61   \n",
      "1    2000           2Ge+her  The Hardest Part Of ...  3:15   2000-09-02  wk61   \n",
      "2    2000      3 Doors Down               Kryptonite  3:53   2000-04-08  wk61   \n",
      "3    2000      3 Doors Down                    Loser  4:24   2000-10-21  wk61   \n",
      "4    2000          504 Boyz            Wobble Wobble  3:35   2000-04-15  wk61   \n",
      "..    ...               ...                      ...   ...          ...   ...   \n",
      "312  2000       Yankee Grey     Another Nine Minutes  3:10   2000-04-29  wk61   \n",
      "313  2000  Yearwood, Trisha          Real Live Woman  3:55   2000-04-01  wk61   \n",
      "314  2000   Ying Yang Twins  Whistle While You Tw...  4:19   2000-03-18  wk61   \n",
      "315  2000     Zombie Nation            Kernkraft 400  3:30   2000-09-02  wk61   \n",
      "316  2000   matchbox twenty                     Bent  4:12   2000-04-29  wk61   \n",
      "\n",
      "     rating  \n",
      "0       NaN  \n",
      "1       NaN  \n",
      "2       NaN  \n",
      "3       NaN  \n",
      "4       NaN  \n",
      "..      ...  \n",
      "312     NaN  \n",
      "313     NaN  \n",
      "314     NaN  \n",
      "315     NaN  \n",
      "316     NaN  \n",
      "\n",
      "[317 rows x 7 columns],      year            artist                    track  time date.entered  week  \\\n",
      "0    2000             2 Pac  Baby Don't Cry (Keep...  4:22   2000-02-26  wk62   \n",
      "1    2000           2Ge+her  The Hardest Part Of ...  3:15   2000-09-02  wk62   \n",
      "2    2000      3 Doors Down               Kryptonite  3:53   2000-04-08  wk62   \n",
      "3    2000      3 Doors Down                    Loser  4:24   2000-10-21  wk62   \n",
      "4    2000          504 Boyz            Wobble Wobble  3:35   2000-04-15  wk62   \n",
      "..    ...               ...                      ...   ...          ...   ...   \n",
      "312  2000       Yankee Grey     Another Nine Minutes  3:10   2000-04-29  wk62   \n",
      "313  2000  Yearwood, Trisha          Real Live Woman  3:55   2000-04-01  wk62   \n",
      "314  2000   Ying Yang Twins  Whistle While You Tw...  4:19   2000-03-18  wk62   \n",
      "315  2000     Zombie Nation            Kernkraft 400  3:30   2000-09-02  wk62   \n",
      "316  2000   matchbox twenty                     Bent  4:12   2000-04-29  wk62   \n",
      "\n",
      "     rating  \n",
      "0       NaN  \n",
      "1       NaN  \n",
      "2       NaN  \n",
      "3       NaN  \n",
      "4       NaN  \n",
      "..      ...  \n",
      "312     NaN  \n",
      "313     NaN  \n",
      "314     NaN  \n",
      "315     NaN  \n",
      "316     NaN  \n",
      "\n",
      "[317 rows x 7 columns],      year            artist                    track  time date.entered  week  \\\n",
      "0    2000             2 Pac  Baby Don't Cry (Keep...  4:22   2000-02-26  wk63   \n",
      "1    2000           2Ge+her  The Hardest Part Of ...  3:15   2000-09-02  wk63   \n",
      "2    2000      3 Doors Down               Kryptonite  3:53   2000-04-08  wk63   \n",
      "3    2000      3 Doors Down                    Loser  4:24   2000-10-21  wk63   \n",
      "4    2000          504 Boyz            Wobble Wobble  3:35   2000-04-15  wk63   \n",
      "..    ...               ...                      ...   ...          ...   ...   \n",
      "312  2000       Yankee Grey     Another Nine Minutes  3:10   2000-04-29  wk63   \n",
      "313  2000  Yearwood, Trisha          Real Live Woman  3:55   2000-04-01  wk63   \n",
      "314  2000   Ying Yang Twins  Whistle While You Tw...  4:19   2000-03-18  wk63   \n",
      "315  2000     Zombie Nation            Kernkraft 400  3:30   2000-09-02  wk63   \n",
      "316  2000   matchbox twenty                     Bent  4:12   2000-04-29  wk63   \n",
      "\n",
      "     rating  \n",
      "0       NaN  \n",
      "1       NaN  \n",
      "2       NaN  \n",
      "3       NaN  \n",
      "4       NaN  \n",
      "..      ...  \n",
      "312     NaN  \n",
      "313     NaN  \n",
      "314     NaN  \n",
      "315     NaN  \n",
      "316     NaN  \n",
      "\n",
      "[317 rows x 7 columns],      year            artist                    track  time date.entered  week  \\\n",
      "0    2000             2 Pac  Baby Don't Cry (Keep...  4:22   2000-02-26  wk64   \n",
      "1    2000           2Ge+her  The Hardest Part Of ...  3:15   2000-09-02  wk64   \n",
      "2    2000      3 Doors Down               Kryptonite  3:53   2000-04-08  wk64   \n",
      "3    2000      3 Doors Down                    Loser  4:24   2000-10-21  wk64   \n",
      "4    2000          504 Boyz            Wobble Wobble  3:35   2000-04-15  wk64   \n",
      "..    ...               ...                      ...   ...          ...   ...   \n",
      "312  2000       Yankee Grey     Another Nine Minutes  3:10   2000-04-29  wk64   \n",
      "313  2000  Yearwood, Trisha          Real Live Woman  3:55   2000-04-01  wk64   \n",
      "314  2000   Ying Yang Twins  Whistle While You Tw...  4:19   2000-03-18  wk64   \n",
      "315  2000     Zombie Nation            Kernkraft 400  3:30   2000-09-02  wk64   \n",
      "316  2000   matchbox twenty                     Bent  4:12   2000-04-29  wk64   \n",
      "\n",
      "     rating  \n",
      "0       NaN  \n",
      "1       NaN  \n",
      "2       NaN  \n",
      "3       NaN  \n",
      "4       NaN  \n",
      "..      ...  \n",
      "312     NaN  \n",
      "313     NaN  \n",
      "314     NaN  \n",
      "315     NaN  \n",
      "316     NaN  \n",
      "\n",
      "[317 rows x 7 columns],      year            artist                    track  time date.entered  week  \\\n",
      "0    2000             2 Pac  Baby Don't Cry (Keep...  4:22   2000-02-26  wk65   \n",
      "1    2000           2Ge+her  The Hardest Part Of ...  3:15   2000-09-02  wk65   \n",
      "2    2000      3 Doors Down               Kryptonite  3:53   2000-04-08  wk65   \n",
      "3    2000      3 Doors Down                    Loser  4:24   2000-10-21  wk65   \n",
      "4    2000          504 Boyz            Wobble Wobble  3:35   2000-04-15  wk65   \n",
      "..    ...               ...                      ...   ...          ...   ...   \n",
      "312  2000       Yankee Grey     Another Nine Minutes  3:10   2000-04-29  wk65   \n",
      "313  2000  Yearwood, Trisha          Real Live Woman  3:55   2000-04-01  wk65   \n",
      "314  2000   Ying Yang Twins  Whistle While You Tw...  4:19   2000-03-18  wk65   \n",
      "315  2000     Zombie Nation            Kernkraft 400  3:30   2000-09-02  wk65   \n",
      "316  2000   matchbox twenty                     Bent  4:12   2000-04-29  wk65   \n",
      "\n",
      "     rating  \n",
      "0       NaN  \n",
      "1       NaN  \n",
      "2       NaN  \n",
      "3       NaN  \n",
      "4       NaN  \n",
      "..      ...  \n",
      "312     NaN  \n",
      "313     NaN  \n",
      "314     NaN  \n",
      "315     NaN  \n",
      "316     NaN  \n",
      "\n",
      "[317 rows x 7 columns],      year            artist                    track  time date.entered  week  \\\n",
      "0    2000             2 Pac  Baby Don't Cry (Keep...  4:22   2000-02-26  wk66   \n",
      "1    2000           2Ge+her  The Hardest Part Of ...  3:15   2000-09-02  wk66   \n",
      "2    2000      3 Doors Down               Kryptonite  3:53   2000-04-08  wk66   \n",
      "3    2000      3 Doors Down                    Loser  4:24   2000-10-21  wk66   \n",
      "4    2000          504 Boyz            Wobble Wobble  3:35   2000-04-15  wk66   \n",
      "..    ...               ...                      ...   ...          ...   ...   \n",
      "312  2000       Yankee Grey     Another Nine Minutes  3:10   2000-04-29  wk66   \n",
      "313  2000  Yearwood, Trisha          Real Live Woman  3:55   2000-04-01  wk66   \n",
      "314  2000   Ying Yang Twins  Whistle While You Tw...  4:19   2000-03-18  wk66   \n",
      "315  2000     Zombie Nation            Kernkraft 400  3:30   2000-09-02  wk66   \n",
      "316  2000   matchbox twenty                     Bent  4:12   2000-04-29  wk66   \n",
      "\n",
      "     rating  \n",
      "0       NaN  \n",
      "1       NaN  \n",
      "2       NaN  \n",
      "3       NaN  \n",
      "4       NaN  \n",
      "..      ...  \n",
      "312     NaN  \n",
      "313     NaN  \n",
      "314     NaN  \n",
      "315     NaN  \n",
      "316     NaN  \n",
      "\n",
      "[317 rows x 7 columns],      year            artist                    track  time date.entered  week  \\\n",
      "0    2000             2 Pac  Baby Don't Cry (Keep...  4:22   2000-02-26  wk67   \n",
      "1    2000           2Ge+her  The Hardest Part Of ...  3:15   2000-09-02  wk67   \n",
      "2    2000      3 Doors Down               Kryptonite  3:53   2000-04-08  wk67   \n",
      "3    2000      3 Doors Down                    Loser  4:24   2000-10-21  wk67   \n",
      "4    2000          504 Boyz            Wobble Wobble  3:35   2000-04-15  wk67   \n",
      "..    ...               ...                      ...   ...          ...   ...   \n",
      "312  2000       Yankee Grey     Another Nine Minutes  3:10   2000-04-29  wk67   \n",
      "313  2000  Yearwood, Trisha          Real Live Woman  3:55   2000-04-01  wk67   \n",
      "314  2000   Ying Yang Twins  Whistle While You Tw...  4:19   2000-03-18  wk67   \n",
      "315  2000     Zombie Nation            Kernkraft 400  3:30   2000-09-02  wk67   \n",
      "316  2000   matchbox twenty                     Bent  4:12   2000-04-29  wk67   \n",
      "\n",
      "     rating  \n",
      "0       NaN  \n",
      "1       NaN  \n",
      "2       NaN  \n",
      "3       NaN  \n",
      "4       NaN  \n",
      "..      ...  \n",
      "312     NaN  \n",
      "313     NaN  \n",
      "314     NaN  \n",
      "315     NaN  \n",
      "316     NaN  \n",
      "\n",
      "[317 rows x 7 columns],      year            artist                    track  time date.entered  week  \\\n",
      "0    2000             2 Pac  Baby Don't Cry (Keep...  4:22   2000-02-26  wk68   \n",
      "1    2000           2Ge+her  The Hardest Part Of ...  3:15   2000-09-02  wk68   \n",
      "2    2000      3 Doors Down               Kryptonite  3:53   2000-04-08  wk68   \n",
      "3    2000      3 Doors Down                    Loser  4:24   2000-10-21  wk68   \n",
      "4    2000          504 Boyz            Wobble Wobble  3:35   2000-04-15  wk68   \n",
      "..    ...               ...                      ...   ...          ...   ...   \n",
      "312  2000       Yankee Grey     Another Nine Minutes  3:10   2000-04-29  wk68   \n",
      "313  2000  Yearwood, Trisha          Real Live Woman  3:55   2000-04-01  wk68   \n",
      "314  2000   Ying Yang Twins  Whistle While You Tw...  4:19   2000-03-18  wk68   \n",
      "315  2000     Zombie Nation            Kernkraft 400  3:30   2000-09-02  wk68   \n",
      "316  2000   matchbox twenty                     Bent  4:12   2000-04-29  wk68   \n",
      "\n",
      "     rating  \n",
      "0       NaN  \n",
      "1       NaN  \n",
      "2       NaN  \n",
      "3       NaN  \n",
      "4       NaN  \n",
      "..      ...  \n",
      "312     NaN  \n",
      "313     NaN  \n",
      "314     NaN  \n",
      "315     NaN  \n",
      "316     NaN  \n",
      "\n",
      "[317 rows x 7 columns],      year            artist                    track  time date.entered  week  \\\n",
      "0    2000             2 Pac  Baby Don't Cry (Keep...  4:22   2000-02-26  wk69   \n",
      "1    2000           2Ge+her  The Hardest Part Of ...  3:15   2000-09-02  wk69   \n",
      "2    2000      3 Doors Down               Kryptonite  3:53   2000-04-08  wk69   \n",
      "3    2000      3 Doors Down                    Loser  4:24   2000-10-21  wk69   \n",
      "4    2000          504 Boyz            Wobble Wobble  3:35   2000-04-15  wk69   \n",
      "..    ...               ...                      ...   ...          ...   ...   \n",
      "312  2000       Yankee Grey     Another Nine Minutes  3:10   2000-04-29  wk69   \n",
      "313  2000  Yearwood, Trisha          Real Live Woman  3:55   2000-04-01  wk69   \n",
      "314  2000   Ying Yang Twins  Whistle While You Tw...  4:19   2000-03-18  wk69   \n",
      "315  2000     Zombie Nation            Kernkraft 400  3:30   2000-09-02  wk69   \n",
      "316  2000   matchbox twenty                     Bent  4:12   2000-04-29  wk69   \n",
      "\n",
      "     rating  \n",
      "0       NaN  \n",
      "1       NaN  \n",
      "2       NaN  \n",
      "3       NaN  \n",
      "4       NaN  \n",
      "..      ...  \n",
      "312     NaN  \n",
      "313     NaN  \n",
      "314     NaN  \n",
      "315     NaN  \n",
      "316     NaN  \n",
      "\n",
      "[317 rows x 7 columns],      year            artist                    track  time date.entered  week  \\\n",
      "0    2000             2 Pac  Baby Don't Cry (Keep...  4:22   2000-02-26  wk70   \n",
      "1    2000           2Ge+her  The Hardest Part Of ...  3:15   2000-09-02  wk70   \n",
      "2    2000      3 Doors Down               Kryptonite  3:53   2000-04-08  wk70   \n",
      "3    2000      3 Doors Down                    Loser  4:24   2000-10-21  wk70   \n",
      "4    2000          504 Boyz            Wobble Wobble  3:35   2000-04-15  wk70   \n",
      "..    ...               ...                      ...   ...          ...   ...   \n",
      "312  2000       Yankee Grey     Another Nine Minutes  3:10   2000-04-29  wk70   \n",
      "313  2000  Yearwood, Trisha          Real Live Woman  3:55   2000-04-01  wk70   \n",
      "314  2000   Ying Yang Twins  Whistle While You Tw...  4:19   2000-03-18  wk70   \n",
      "315  2000     Zombie Nation            Kernkraft 400  3:30   2000-09-02  wk70   \n",
      "316  2000   matchbox twenty                     Bent  4:12   2000-04-29  wk70   \n",
      "\n",
      "     rating  \n",
      "0       NaN  \n",
      "1       NaN  \n",
      "2       NaN  \n",
      "3       NaN  \n",
      "4       NaN  \n",
      "..      ...  \n",
      "312     NaN  \n",
      "313     NaN  \n",
      "314     NaN  \n",
      "315     NaN  \n",
      "316     NaN  \n",
      "\n",
      "[317 rows x 7 columns],      year            artist                    track  time date.entered  week  \\\n",
      "0    2000             2 Pac  Baby Don't Cry (Keep...  4:22   2000-02-26  wk71   \n",
      "1    2000           2Ge+her  The Hardest Part Of ...  3:15   2000-09-02  wk71   \n",
      "2    2000      3 Doors Down               Kryptonite  3:53   2000-04-08  wk71   \n",
      "3    2000      3 Doors Down                    Loser  4:24   2000-10-21  wk71   \n",
      "4    2000          504 Boyz            Wobble Wobble  3:35   2000-04-15  wk71   \n",
      "..    ...               ...                      ...   ...          ...   ...   \n",
      "312  2000       Yankee Grey     Another Nine Minutes  3:10   2000-04-29  wk71   \n",
      "313  2000  Yearwood, Trisha          Real Live Woman  3:55   2000-04-01  wk71   \n",
      "314  2000   Ying Yang Twins  Whistle While You Tw...  4:19   2000-03-18  wk71   \n",
      "315  2000     Zombie Nation            Kernkraft 400  3:30   2000-09-02  wk71   \n",
      "316  2000   matchbox twenty                     Bent  4:12   2000-04-29  wk71   \n",
      "\n",
      "     rating  \n",
      "0       NaN  \n",
      "1       NaN  \n",
      "2       NaN  \n",
      "3       NaN  \n",
      "4       NaN  \n",
      "..      ...  \n",
      "312     NaN  \n",
      "313     NaN  \n",
      "314     NaN  \n",
      "315     NaN  \n",
      "316     NaN  \n",
      "\n",
      "[317 rows x 7 columns],      year            artist                    track  time date.entered  week  \\\n",
      "0    2000             2 Pac  Baby Don't Cry (Keep...  4:22   2000-02-26  wk72   \n",
      "1    2000           2Ge+her  The Hardest Part Of ...  3:15   2000-09-02  wk72   \n",
      "2    2000      3 Doors Down               Kryptonite  3:53   2000-04-08  wk72   \n",
      "3    2000      3 Doors Down                    Loser  4:24   2000-10-21  wk72   \n",
      "4    2000          504 Boyz            Wobble Wobble  3:35   2000-04-15  wk72   \n",
      "..    ...               ...                      ...   ...          ...   ...   \n",
      "312  2000       Yankee Grey     Another Nine Minutes  3:10   2000-04-29  wk72   \n",
      "313  2000  Yearwood, Trisha          Real Live Woman  3:55   2000-04-01  wk72   \n",
      "314  2000   Ying Yang Twins  Whistle While You Tw...  4:19   2000-03-18  wk72   \n",
      "315  2000     Zombie Nation            Kernkraft 400  3:30   2000-09-02  wk72   \n",
      "316  2000   matchbox twenty                     Bent  4:12   2000-04-29  wk72   \n",
      "\n",
      "     rating  \n",
      "0       NaN  \n",
      "1       NaN  \n",
      "2       NaN  \n",
      "3       NaN  \n",
      "4       NaN  \n",
      "..      ...  \n",
      "312     NaN  \n",
      "313     NaN  \n",
      "314     NaN  \n",
      "315     NaN  \n",
      "316     NaN  \n",
      "\n",
      "[317 rows x 7 columns],      year            artist                    track  time date.entered  week  \\\n",
      "0    2000             2 Pac  Baby Don't Cry (Keep...  4:22   2000-02-26  wk73   \n",
      "1    2000           2Ge+her  The Hardest Part Of ...  3:15   2000-09-02  wk73   \n",
      "2    2000      3 Doors Down               Kryptonite  3:53   2000-04-08  wk73   \n",
      "3    2000      3 Doors Down                    Loser  4:24   2000-10-21  wk73   \n",
      "4    2000          504 Boyz            Wobble Wobble  3:35   2000-04-15  wk73   \n",
      "..    ...               ...                      ...   ...          ...   ...   \n",
      "312  2000       Yankee Grey     Another Nine Minutes  3:10   2000-04-29  wk73   \n",
      "313  2000  Yearwood, Trisha          Real Live Woman  3:55   2000-04-01  wk73   \n",
      "314  2000   Ying Yang Twins  Whistle While You Tw...  4:19   2000-03-18  wk73   \n",
      "315  2000     Zombie Nation            Kernkraft 400  3:30   2000-09-02  wk73   \n",
      "316  2000   matchbox twenty                     Bent  4:12   2000-04-29  wk73   \n",
      "\n",
      "     rating  \n",
      "0       NaN  \n",
      "1       NaN  \n",
      "2       NaN  \n",
      "3       NaN  \n",
      "4       NaN  \n",
      "..      ...  \n",
      "312     NaN  \n",
      "313     NaN  \n",
      "314     NaN  \n",
      "315     NaN  \n",
      "316     NaN  \n",
      "\n",
      "[317 rows x 7 columns],      year            artist                    track  time date.entered  week  \\\n",
      "0    2000             2 Pac  Baby Don't Cry (Keep...  4:22   2000-02-26  wk74   \n",
      "1    2000           2Ge+her  The Hardest Part Of ...  3:15   2000-09-02  wk74   \n",
      "2    2000      3 Doors Down               Kryptonite  3:53   2000-04-08  wk74   \n",
      "3    2000      3 Doors Down                    Loser  4:24   2000-10-21  wk74   \n",
      "4    2000          504 Boyz            Wobble Wobble  3:35   2000-04-15  wk74   \n",
      "..    ...               ...                      ...   ...          ...   ...   \n",
      "312  2000       Yankee Grey     Another Nine Minutes  3:10   2000-04-29  wk74   \n",
      "313  2000  Yearwood, Trisha          Real Live Woman  3:55   2000-04-01  wk74   \n",
      "314  2000   Ying Yang Twins  Whistle While You Tw...  4:19   2000-03-18  wk74   \n",
      "315  2000     Zombie Nation            Kernkraft 400  3:30   2000-09-02  wk74   \n",
      "316  2000   matchbox twenty                     Bent  4:12   2000-04-29  wk74   \n",
      "\n",
      "     rating  \n",
      "0       NaN  \n",
      "1       NaN  \n",
      "2       NaN  \n",
      "3       NaN  \n",
      "4       NaN  \n",
      "..      ...  \n",
      "312     NaN  \n",
      "313     NaN  \n",
      "314     NaN  \n",
      "315     NaN  \n",
      "316     NaN  \n",
      "\n",
      "[317 rows x 7 columns],      year            artist                    track  time date.entered  week  \\\n",
      "0    2000             2 Pac  Baby Don't Cry (Keep...  4:22   2000-02-26  wk75   \n",
      "1    2000           2Ge+her  The Hardest Part Of ...  3:15   2000-09-02  wk75   \n",
      "2    2000      3 Doors Down               Kryptonite  3:53   2000-04-08  wk75   \n",
      "3    2000      3 Doors Down                    Loser  4:24   2000-10-21  wk75   \n",
      "4    2000          504 Boyz            Wobble Wobble  3:35   2000-04-15  wk75   \n",
      "..    ...               ...                      ...   ...          ...   ...   \n",
      "312  2000       Yankee Grey     Another Nine Minutes  3:10   2000-04-29  wk75   \n",
      "313  2000  Yearwood, Trisha          Real Live Woman  3:55   2000-04-01  wk75   \n",
      "314  2000   Ying Yang Twins  Whistle While You Tw...  4:19   2000-03-18  wk75   \n",
      "315  2000     Zombie Nation            Kernkraft 400  3:30   2000-09-02  wk75   \n",
      "316  2000   matchbox twenty                     Bent  4:12   2000-04-29  wk75   \n",
      "\n",
      "     rating  \n",
      "0       NaN  \n",
      "1       NaN  \n",
      "2       NaN  \n",
      "3       NaN  \n",
      "4       NaN  \n",
      "..      ...  \n",
      "312     NaN  \n",
      "313     NaN  \n",
      "314     NaN  \n",
      "315     NaN  \n",
      "316     NaN  \n",
      "\n",
      "[317 rows x 7 columns],      year            artist                    track  time date.entered  week  \\\n",
      "0    2000             2 Pac  Baby Don't Cry (Keep...  4:22   2000-02-26  wk76   \n",
      "1    2000           2Ge+her  The Hardest Part Of ...  3:15   2000-09-02  wk76   \n",
      "2    2000      3 Doors Down               Kryptonite  3:53   2000-04-08  wk76   \n",
      "3    2000      3 Doors Down                    Loser  4:24   2000-10-21  wk76   \n",
      "4    2000          504 Boyz            Wobble Wobble  3:35   2000-04-15  wk76   \n",
      "..    ...               ...                      ...   ...          ...   ...   \n",
      "312  2000       Yankee Grey     Another Nine Minutes  3:10   2000-04-29  wk76   \n",
      "313  2000  Yearwood, Trisha          Real Live Woman  3:55   2000-04-01  wk76   \n",
      "314  2000   Ying Yang Twins  Whistle While You Tw...  4:19   2000-03-18  wk76   \n",
      "315  2000     Zombie Nation            Kernkraft 400  3:30   2000-09-02  wk76   \n",
      "316  2000   matchbox twenty                     Bent  4:12   2000-04-29  wk76   \n",
      "\n",
      "     rating  \n",
      "0       NaN  \n",
      "1       NaN  \n",
      "2       NaN  \n",
      "3       NaN  \n",
      "4       NaN  \n",
      "..      ...  \n",
      "312     NaN  \n",
      "313     NaN  \n",
      "314     NaN  \n",
      "315     NaN  \n",
      "316     NaN  \n",
      "\n",
      "[317 rows x 7 columns]]\n"
     ]
    }
   ],
   "source": [
    "import pandas as pd\n",
    "from pathlib import Path\n",
    "\n",
    "# 파일 경로 수정\n",
    "billboard_data_files = Path(\"C:/Users/MINJUN/Documents/GitHub/Python-Study/data/billboard-by_week\").glob(\"billboard-*.csv\")\n",
    "\n",
    "list_billboard_df = []\n",
    "for csv_filename in billboard_data_files:\n",
    "    df = pd.read_csv(csv_filename)\n",
    "    list_billboard_df.append(df)\n",
    "\n",
    "print(list_billboard_df)\n"
   ]
  },
  {
   "cell_type": "code",
   "execution_count": 190,
   "id": "d13e92a8-b6ab-419e-afdc-4f5eb69388de",
   "metadata": {},
   "outputs": [
    {
     "name": "stdout",
     "output_type": "stream",
     "text": [
      "<class 'list'>\n"
     ]
    }
   ],
   "source": [
    "print(type(billboard_dfs))"
   ]
  },
  {
   "cell_type": "code",
   "execution_count": 191,
   "id": "9d61d155-4125-48a7-9a55-d03d8e403db7",
   "metadata": {},
   "outputs": [
    {
     "name": "stdout",
     "output_type": "stream",
     "text": [
      "76\n"
     ]
    }
   ],
   "source": [
    "print(len(billboard_dfs))"
   ]
  },
  {
   "cell_type": "code",
   "execution_count": 192,
   "id": "0ccd6f3b-5ec4-4fba-a746-4b91af75e2d6",
   "metadata": {},
   "outputs": [
    {
     "name": "stdout",
     "output_type": "stream",
     "text": [
      "     year            artist                    track  time date.entered  week  \\\n",
      "0    2000             2 Pac  Baby Don't Cry (Keep...  4:22   2000-02-26   wk1   \n",
      "1    2000           2Ge+her  The Hardest Part Of ...  3:15   2000-09-02   wk1   \n",
      "2    2000      3 Doors Down               Kryptonite  3:53   2000-04-08   wk1   \n",
      "3    2000      3 Doors Down                    Loser  4:24   2000-10-21   wk1   \n",
      "4    2000          504 Boyz            Wobble Wobble  3:35   2000-04-15   wk1   \n",
      "..    ...               ...                      ...   ...          ...   ...   \n",
      "312  2000       Yankee Grey     Another Nine Minutes  3:10   2000-04-29  wk76   \n",
      "313  2000  Yearwood, Trisha          Real Live Woman  3:55   2000-04-01  wk76   \n",
      "314  2000   Ying Yang Twins  Whistle While You Tw...  4:19   2000-03-18  wk76   \n",
      "315  2000     Zombie Nation            Kernkraft 400  3:30   2000-09-02  wk76   \n",
      "316  2000   matchbox twenty                     Bent  4:12   2000-04-29  wk76   \n",
      "\n",
      "     rating  \n",
      "0      87.0  \n",
      "1      91.0  \n",
      "2      81.0  \n",
      "3      76.0  \n",
      "4      57.0  \n",
      "..      ...  \n",
      "312     NaN  \n",
      "313     NaN  \n",
      "314     NaN  \n",
      "315     NaN  \n",
      "316     NaN  \n",
      "\n",
      "[24092 rows x 7 columns]\n"
     ]
    }
   ],
   "source": [
    "billboard_concat_comp = pd.concat(billboard_dfs)\n",
    "print(billboard_concat_comp)"
   ]
  },
  {
   "cell_type": "code",
   "execution_count": 193,
   "id": "35ac8f62-40b7-4522-9f59-b0174c47ef90",
   "metadata": {},
   "outputs": [],
   "source": [
    "#여러 데이터셋 병합히기"
   ]
  },
  {
   "cell_type": "code",
   "execution_count": 217,
   "id": "218e99f1-fcff-416a-aac7-8dbf34ad8220",
   "metadata": {},
   "outputs": [
    {
     "name": "stdout",
     "output_type": "stream",
     "text": [
      "      ident   personal    family\n",
      "0      dyer    William      Dyer\n",
      "1        pb      Frank   Pabodie\n",
      "2      lake   Anderson      Lake\n",
      "3       roe  Valentina   Roerich\n",
      "4  danforth      Frank  Danforth\n"
     ]
    }
   ],
   "source": [
    "person = pd.read_csv(\"./data/survey_person.csv\")\n",
    "site = pd.read_csv(\"./data/survey_site.csv\")\n",
    "survey = pd.read_csv(\"./data/survey_survey.csv\")\n",
    "visited = pd.read_csv('./data/survey_visited.csv')\n",
    "\n",
    "print(person)"
   ]
  },
  {
   "cell_type": "code",
   "execution_count": 218,
   "id": "e738fb7c-04f4-42d6-b55c-a8db6fd871ae",
   "metadata": {},
   "outputs": [
    {
     "name": "stdout",
     "output_type": "stream",
     "text": [
      "    name    lat    long\n",
      "0   DR-1 -49.85 -128.57\n",
      "1   DR-3 -47.15 -126.72\n",
      "2  MSK-4 -48.87 -123.40\n"
     ]
    }
   ],
   "source": [
    "print(site)"
   ]
  },
  {
   "cell_type": "code",
   "execution_count": 219,
   "id": "f36c9a13-e171-40a3-a93e-7cc78963eb14",
   "metadata": {},
   "outputs": [
    {
     "name": "stdout",
     "output_type": "stream",
     "text": [
      "   ident   site       dated\n",
      "0    619   DR-1  1927-02-08\n",
      "1    622   DR-1  1927-02-10\n",
      "2    734   DR-3  1939-01-07\n",
      "3    735   DR-3  1930-01-12\n",
      "4    751   DR-3  1930-02-26\n",
      "5    752   DR-3         NaN\n",
      "6    837  MSK-4  1932-01-14\n",
      "7    844   DR-1  1932-03-22\n"
     ]
    }
   ],
   "source": [
    "print(visited)"
   ]
  },
  {
   "cell_type": "code",
   "execution_count": 220,
   "id": "e7ca0974-b88f-4c29-a52e-2f8bee22a59f",
   "metadata": {},
   "outputs": [
    {
     "name": "stdout",
     "output_type": "stream",
     "text": [
      "    taken person quant  reading\n",
      "0     619   dyer   rad     9.82\n",
      "1     619   dyer   sal     0.13\n",
      "2     622   dyer   rad     7.80\n",
      "3     622   dyer   sal     0.09\n",
      "4     734     pb   rad     8.41\n",
      "5     734   lake   sal     0.05\n",
      "6     734     pb  temp   -21.50\n",
      "7     735     pb   rad     7.22\n",
      "8     735    NaN   sal     0.06\n",
      "9     735    NaN  temp   -26.00\n",
      "10    751     pb   rad     4.35\n",
      "11    751     pb  temp   -18.50\n",
      "12    751   lake   sal     0.10\n",
      "13    752   lake   rad     2.19\n",
      "14    752   lake   sal     0.09\n",
      "15    752   lake  temp   -16.00\n",
      "16    752    roe   sal    41.60\n",
      "17    837   lake   rad     1.46\n",
      "18    837   lake   sal     0.21\n",
      "19    837    roe   sal    22.50\n",
      "20    844    roe   rad    11.25\n"
     ]
    }
   ],
   "source": [
    "print(survey)"
   ]
  },
  {
   "cell_type": "code",
   "execution_count": 221,
   "id": "426a0447-d9b9-4bb5-b6b0-68dc8fabaf5c",
   "metadata": {},
   "outputs": [
    {
     "name": "stdout",
     "output_type": "stream",
     "text": [
      "   ident   site       dated\n",
      "0    619   DR-1  1927-02-08\n",
      "2    734   DR-3  1939-01-07\n",
      "6    837  MSK-4  1932-01-14\n"
     ]
    }
   ],
   "source": [
    "visited_subset = visited.loc[[0,2,6], :]\n",
    "print(visited_subset)"
   ]
  },
  {
   "cell_type": "code",
   "execution_count": 222,
   "id": "3d035955-ada5-43ce-9b15-e9c5bda62228",
   "metadata": {},
   "outputs": [
    {
     "name": "stdout",
     "output_type": "stream",
     "text": [
      "site\n",
      "DR-1     1\n",
      "DR-3     1\n",
      "MSK-4    1\n",
      "Name: count, dtype: int64\n"
     ]
    }
   ],
   "source": [
    "print(visited_subset[\"site\"].value_counts())"
   ]
  },
  {
   "cell_type": "code",
   "execution_count": 224,
   "id": "27914aaa-c3e6-4244-8951-984d893a94b7",
   "metadata": {},
   "outputs": [
    {
     "name": "stdout",
     "output_type": "stream",
     "text": [
      "    name    lat    long  ident   site       dated\n",
      "0   DR-1 -49.85 -128.57    619   DR-1  1927-02-08\n",
      "1   DR-3 -47.15 -126.72    734   DR-3  1939-01-07\n",
      "2  MSK-4 -48.87 -123.40    837  MSK-4  1932-01-14\n"
     ]
    }
   ],
   "source": [
    "o2o_merge = site.merge(visited_subset, left_on = \"name\", right_on = \"site\")\n",
    "print(o2o_merge)"
   ]
  },
  {
   "cell_type": "code",
   "execution_count": 225,
   "id": "99993134-6b0b-4c4a-b19e-1d583c3a5ebb",
   "metadata": {},
   "outputs": [
    {
     "name": "stdout",
     "output_type": "stream",
     "text": [
      "site\n",
      "DR-3     4\n",
      "DR-1     3\n",
      "MSK-4    1\n",
      "Name: count, dtype: int64\n"
     ]
    }
   ],
   "source": [
    "print(visited[\"site\"].value_counts())"
   ]
  },
  {
   "cell_type": "code",
   "execution_count": 226,
   "id": "e8ae5c1a-b53d-4d09-a09b-876c7a403422",
   "metadata": {},
   "outputs": [
    {
     "name": "stdout",
     "output_type": "stream",
     "text": [
      "   ident   personal   family  taken person quant  reading\n",
      "0   dyer    William     Dyer    619   dyer   rad     9.82\n",
      "1   dyer    William     Dyer    619   dyer   sal     0.13\n",
      "2   dyer    William     Dyer    622   dyer   rad     7.80\n",
      "3   dyer    William     Dyer    622   dyer   sal     0.09\n",
      "4     pb      Frank  Pabodie    734     pb   rad     8.41\n",
      "5     pb      Frank  Pabodie    734     pb  temp   -21.50\n",
      "6     pb      Frank  Pabodie    735     pb   rad     7.22\n",
      "7     pb      Frank  Pabodie    751     pb   rad     4.35\n",
      "8     pb      Frank  Pabodie    751     pb  temp   -18.50\n",
      "9   lake   Anderson     Lake    734   lake   sal     0.05\n",
      "10  lake   Anderson     Lake    751   lake   sal     0.10\n",
      "11  lake   Anderson     Lake    752   lake   rad     2.19\n",
      "12  lake   Anderson     Lake    752   lake   sal     0.09\n",
      "13  lake   Anderson     Lake    752   lake  temp   -16.00\n",
      "14  lake   Anderson     Lake    837   lake   rad     1.46\n",
      "15  lake   Anderson     Lake    837   lake   sal     0.21\n",
      "16   roe  Valentina  Roerich    752    roe   sal    41.60\n",
      "17   roe  Valentina  Roerich    837    roe   sal    22.50\n",
      "18   roe  Valentina  Roerich    844    roe   rad    11.25\n"
     ]
    }
   ],
   "source": [
    "ps = person.merge(survey, left_on='ident', right_on='person')\n",
    "vs = visited.merge(survey, left_on='ident', right_on='taken')\n",
    "print(ps)\n"
   ]
  },
  {
   "cell_type": "code",
   "execution_count": 227,
   "id": "8b921a24-f624-481d-9417-1a58c81c6ef8",
   "metadata": {},
   "outputs": [
    {
     "name": "stdout",
     "output_type": "stream",
     "text": [
      "    ident   site       dated  taken person quant  reading\n",
      "0     619   DR-1  1927-02-08    619   dyer   rad     9.82\n",
      "1     619   DR-1  1927-02-08    619   dyer   sal     0.13\n",
      "2     622   DR-1  1927-02-10    622   dyer   rad     7.80\n",
      "3     622   DR-1  1927-02-10    622   dyer   sal     0.09\n",
      "4     734   DR-3  1939-01-07    734     pb   rad     8.41\n",
      "5     734   DR-3  1939-01-07    734   lake   sal     0.05\n",
      "6     734   DR-3  1939-01-07    734     pb  temp   -21.50\n",
      "7     735   DR-3  1930-01-12    735     pb   rad     7.22\n",
      "8     735   DR-3  1930-01-12    735    NaN   sal     0.06\n",
      "9     735   DR-3  1930-01-12    735    NaN  temp   -26.00\n",
      "10    751   DR-3  1930-02-26    751     pb   rad     4.35\n",
      "11    751   DR-3  1930-02-26    751     pb  temp   -18.50\n",
      "12    751   DR-3  1930-02-26    751   lake   sal     0.10\n",
      "13    752   DR-3         NaN    752   lake   rad     2.19\n",
      "14    752   DR-3         NaN    752   lake   sal     0.09\n",
      "15    752   DR-3         NaN    752   lake  temp   -16.00\n",
      "16    752   DR-3         NaN    752    roe   sal    41.60\n",
      "17    837  MSK-4  1932-01-14    837   lake   rad     1.46\n",
      "18    837  MSK-4  1932-01-14    837   lake   sal     0.21\n",
      "19    837  MSK-4  1932-01-14    837    roe   sal    22.50\n",
      "20    844   DR-1  1932-03-22    844    roe   rad    11.25\n"
     ]
    }
   ],
   "source": [
    "print(vs)"
   ]
  },
  {
   "cell_type": "code",
   "execution_count": 229,
   "id": "2927ede6-fa59-40ba-a191-73ab8a85a73b",
   "metadata": {},
   "outputs": [
    {
     "name": "stdout",
     "output_type": "stream",
     "text": [
      "quant\n",
      "rad     8\n",
      "sal     8\n",
      "temp    3\n",
      "Name: count, dtype: int64\n"
     ]
    }
   ],
   "source": [
    "print(ps[\"quant\"].value_counts())"
   ]
  },
  {
   "cell_type": "raw",
   "id": "18e385c4-7554-45d6-8c72-e7237387953a",
   "metadata": {},
   "source": []
  },
  {
   "cell_type": "code",
   "execution_count": 231,
   "id": "936ba76b-46d1-4e74-9870-078ac5d57ba7",
   "metadata": {},
   "outputs": [
    {
     "name": "stdout",
     "output_type": "stream",
     "text": [
      "quant\n",
      "sal     9\n",
      "rad     8\n",
      "temp    4\n",
      "Name: count, dtype: int64\n"
     ]
    }
   ],
   "source": [
    "print(vs['quant'].value_counts())"
   ]
  },
  {
   "cell_type": "code",
   "execution_count": 236,
   "id": "91c8def9-bd2c-4779-8b2a-c5b3d231ff8a",
   "metadata": {},
   "outputs": [],
   "source": [
    "ps_vs =ps.merge(\n",
    "    vs,\n",
    "    left_on = ['quant'],\n",
    "    right_on = ['quant']\n",
    ")"
   ]
  },
  {
   "cell_type": "code",
   "execution_count": 237,
   "id": "d3afce09-6684-4826-ab25-ea6af7a65453",
   "metadata": {},
   "outputs": [
    {
     "name": "stdout",
     "output_type": "stream",
     "text": [
      "    ident_x   personal   family  taken_x person_x quant  reading_x  ident_y  \\\n",
      "0      dyer    William     Dyer      619     dyer   rad       9.82      619   \n",
      "1      dyer    William     Dyer      619     dyer   rad       9.82      622   \n",
      "2      dyer    William     Dyer      619     dyer   rad       9.82      734   \n",
      "3      dyer    William     Dyer      619     dyer   rad       9.82      735   \n",
      "4      dyer    William     Dyer      619     dyer   rad       9.82      751   \n",
      "..      ...        ...      ...      ...      ...   ...        ...      ...   \n",
      "143     roe  Valentina  Roerich      844      roe   rad      11.25      735   \n",
      "144     roe  Valentina  Roerich      844      roe   rad      11.25      751   \n",
      "145     roe  Valentina  Roerich      844      roe   rad      11.25      752   \n",
      "146     roe  Valentina  Roerich      844      roe   rad      11.25      837   \n",
      "147     roe  Valentina  Roerich      844      roe   rad      11.25      844   \n",
      "\n",
      "      site       dated  taken_y person_y  reading_y  \n",
      "0     DR-1  1927-02-08      619     dyer       9.82  \n",
      "1     DR-1  1927-02-10      622     dyer       7.80  \n",
      "2     DR-3  1939-01-07      734       pb       8.41  \n",
      "3     DR-3  1930-01-12      735       pb       7.22  \n",
      "4     DR-3  1930-02-26      751       pb       4.35  \n",
      "..     ...         ...      ...      ...        ...  \n",
      "143   DR-3  1930-01-12      735       pb       7.22  \n",
      "144   DR-3  1930-02-26      751       pb       4.35  \n",
      "145   DR-3         NaN      752     lake       2.19  \n",
      "146  MSK-4  1932-01-14      837     lake       1.46  \n",
      "147   DR-1  1932-03-22      844      roe      11.25  \n",
      "\n",
      "[148 rows x 13 columns]\n"
     ]
    }
   ],
   "source": [
    "print(ps_vs.loc[0:])"
   ]
  },
  {
   "cell_type": "code",
   "execution_count": 238,
   "id": "9017c880-8d19-45d3-8f04-90aca941bce0",
   "metadata": {},
   "outputs": [
    {
     "name": "stdout",
     "output_type": "stream",
     "text": [
      "(19, 7)\n"
     ]
    }
   ],
   "source": [
    "print(ps.shape)"
   ]
  },
  {
   "cell_type": "code",
   "execution_count": 239,
   "id": "38947955-6bee-476a-b1f8-81c35485b6f9",
   "metadata": {},
   "outputs": [
    {
     "name": "stdout",
     "output_type": "stream",
     "text": [
      "(21, 7)\n"
     ]
    }
   ],
   "source": [
    "print(vs.shape)"
   ]
  },
  {
   "cell_type": "code",
   "execution_count": 240,
   "id": "2e237fa9-69cb-49be-a9a8-9e11612bae5e",
   "metadata": {},
   "outputs": [
    {
     "name": "stdout",
     "output_type": "stream",
     "text": [
      "(148, 13)\n"
     ]
    }
   ],
   "source": [
    "print(ps_vs.shape)"
   ]
  },
  {
   "cell_type": "code",
   "execution_count": 241,
   "id": "57379cee-c7ad-4db7-9939-a821e3bf212d",
   "metadata": {},
   "outputs": [],
   "source": [
    "assert vs.shape[0] == 21"
   ]
  },
  {
   "cell_type": "code",
   "execution_count": 244,
   "id": "f31812f2-bcff-4753-bfb4-0e981bb56f8d",
   "metadata": {},
   "outputs": [],
   "source": [
    "# assert ps_vs.shape[0] <= vs.shape[0] #AssertionError   "
   ]
  },
  {
   "cell_type": "code",
   "execution_count": 245,
   "id": "987e1f4f-d1e4-495c-9cc7-7a49f7ca80e4",
   "metadata": {},
   "outputs": [],
   "source": [
    "#데이터 정규화 하기"
   ]
  },
  {
   "cell_type": "code",
   "execution_count": 246,
   "id": "c634491e-08fe-43dc-90d7-ac95c29fdc16",
   "metadata": {},
   "outputs": [],
   "source": [
    "import pandas as pd"
   ]
  },
  {
   "cell_type": "code",
   "execution_count": 251,
   "id": "6ed93d07-3c95-44c8-a61d-57ff72b98cf7",
   "metadata": {},
   "outputs": [
    {
     "name": "stdout",
     "output_type": "stream",
     "text": [
      "       year            artist                    track  time date.entered  \\\n",
      "0      2000             2 Pac  Baby Don't Cry (Keep...  4:22   2000-02-26   \n",
      "1      2000           2Ge+her  The Hardest Part Of ...  3:15   2000-09-02   \n",
      "2      2000      3 Doors Down               Kryptonite  3:53   2000-04-08   \n",
      "3      2000      3 Doors Down                    Loser  4:24   2000-10-21   \n",
      "4      2000          504 Boyz            Wobble Wobble  3:35   2000-04-15   \n",
      "...     ...               ...                      ...   ...          ...   \n",
      "24087  2000       Yankee Grey     Another Nine Minutes  3:10   2000-04-29   \n",
      "24088  2000  Yearwood, Trisha          Real Live Woman  3:55   2000-04-01   \n",
      "24089  2000   Ying Yang Twins  Whistle While You Tw...  4:19   2000-03-18   \n",
      "24090  2000     Zombie Nation            Kernkraft 400  3:30   2000-09-02   \n",
      "24091  2000   matchbox twenty                     Bent  4:12   2000-04-29   \n",
      "\n",
      "       week  rating  \n",
      "0       wk1    87.0  \n",
      "1       wk1    91.0  \n",
      "2       wk1    81.0  \n",
      "3       wk1    76.0  \n",
      "4       wk1    57.0  \n",
      "...     ...     ...  \n",
      "24087  wk76     NaN  \n",
      "24088  wk76     NaN  \n",
      "24089  wk76     NaN  \n",
      "24090  wk76     NaN  \n",
      "24091  wk76     NaN  \n",
      "\n",
      "[24092 rows x 7 columns]\n"
     ]
    }
   ],
   "source": [
    "billboard = pd.read_csv(\"./data/billboard.csv\")\n",
    "\n",
    "billboard_long = billboard.melt(\n",
    "    id_vars=['year', 'artist', 'track', 'time', 'date.entered'],\n",
    "    var_name='week',\n",
    "    value_name='rating'\n",
    ")\n",
    "\n",
    "print(billboard_long)\n"
   ]
  },
  {
   "cell_type": "code",
   "execution_count": 252,
   "id": "06e1aa41-4ff9-47f9-b44d-706daeb7d5bc",
   "metadata": {},
   "outputs": [
    {
     "name": "stdout",
     "output_type": "stream",
     "text": [
      "       year        artist  track  time date.entered  week  rating\n",
      "3      2000  3 Doors Down  Loser  4:24   2000-10-21   wk1    76.0\n",
      "320    2000  3 Doors Down  Loser  4:24   2000-10-21   wk2    76.0\n",
      "637    2000  3 Doors Down  Loser  4:24   2000-10-21   wk3    72.0\n",
      "954    2000  3 Doors Down  Loser  4:24   2000-10-21   wk4    69.0\n",
      "1271   2000  3 Doors Down  Loser  4:24   2000-10-21   wk5    67.0\n",
      "...     ...           ...    ...   ...          ...   ...     ...\n",
      "22510  2000  3 Doors Down  Loser  4:24   2000-10-21  wk72     NaN\n",
      "22827  2000  3 Doors Down  Loser  4:24   2000-10-21  wk73     NaN\n",
      "23144  2000  3 Doors Down  Loser  4:24   2000-10-21  wk74     NaN\n",
      "23461  2000  3 Doors Down  Loser  4:24   2000-10-21  wk75     NaN\n",
      "23778  2000  3 Doors Down  Loser  4:24   2000-10-21  wk76     NaN\n",
      "\n",
      "[76 rows x 7 columns]\n"
     ]
    }
   ],
   "source": [
    "print(billboard_long.loc[billboard_long.track == \"Loser\"])"
   ]
  },
  {
   "cell_type": "code",
   "execution_count": 253,
   "id": "a7ce59e8-7095-447b-acae-4e661549c1e9",
   "metadata": {},
   "outputs": [
    {
     "name": "stdout",
     "output_type": "stream",
     "text": [
      "       year            artist                    track  time date.entered\n",
      "0      2000             2 Pac  Baby Don't Cry (Keep...  4:22   2000-02-26\n",
      "1      2000           2Ge+her  The Hardest Part Of ...  3:15   2000-09-02\n",
      "2      2000      3 Doors Down               Kryptonite  3:53   2000-04-08\n",
      "3      2000      3 Doors Down                    Loser  4:24   2000-10-21\n",
      "4      2000          504 Boyz            Wobble Wobble  3:35   2000-04-15\n",
      "...     ...               ...                      ...   ...          ...\n",
      "24087  2000       Yankee Grey     Another Nine Minutes  3:10   2000-04-29\n",
      "24088  2000  Yearwood, Trisha          Real Live Woman  3:55   2000-04-01\n",
      "24089  2000   Ying Yang Twins  Whistle While You Tw...  4:19   2000-03-18\n",
      "24090  2000     Zombie Nation            Kernkraft 400  3:30   2000-09-02\n",
      "24091  2000   matchbox twenty                     Bent  4:12   2000-04-29\n",
      "\n",
      "[24092 rows x 5 columns]\n"
     ]
    }
   ],
   "source": [
    "billboard_songs = billboard_long[\n",
    "    ['year','artist', 'track','time','date.entered']\n",
    "]\n",
    "print(billboard_songs)"
   ]
  },
  {
   "cell_type": "code",
   "execution_count": 254,
   "id": "245b16a9-cd5b-4c1b-b1f0-caef3d0d0234",
   "metadata": {},
   "outputs": [],
   "source": [
    "billboard_songs = billboard_songs.drop_duplicates()"
   ]
  },
  {
   "cell_type": "code",
   "execution_count": 255,
   "id": "28c366de-c70f-4458-ae1f-4613cedf4e77",
   "metadata": {},
   "outputs": [
    {
     "name": "stdout",
     "output_type": "stream",
     "text": [
      "     year            artist                    track  time date.entered\n",
      "0    2000             2 Pac  Baby Don't Cry (Keep...  4:22   2000-02-26\n",
      "1    2000           2Ge+her  The Hardest Part Of ...  3:15   2000-09-02\n",
      "2    2000      3 Doors Down               Kryptonite  3:53   2000-04-08\n",
      "3    2000      3 Doors Down                    Loser  4:24   2000-10-21\n",
      "4    2000          504 Boyz            Wobble Wobble  3:35   2000-04-15\n",
      "..    ...               ...                      ...   ...          ...\n",
      "312  2000       Yankee Grey     Another Nine Minutes  3:10   2000-04-29\n",
      "313  2000  Yearwood, Trisha          Real Live Woman  3:55   2000-04-01\n",
      "314  2000   Ying Yang Twins  Whistle While You Tw...  4:19   2000-03-18\n",
      "315  2000     Zombie Nation            Kernkraft 400  3:30   2000-09-02\n",
      "316  2000   matchbox twenty                     Bent  4:12   2000-04-29\n",
      "\n",
      "[317 rows x 5 columns]\n"
     ]
    }
   ],
   "source": [
    "print(billboard_songs)"
   ]
  },
  {
   "cell_type": "code",
   "execution_count": 259,
   "id": "cd06f91f-7ae3-412e-90f1-2c9690c58d17",
   "metadata": {},
   "outputs": [],
   "source": [
    "billboard_songs['id'] = billboard_songs.index + 1"
   ]
  },
  {
   "cell_type": "code",
   "execution_count": 264,
   "id": "92984f19-9f19-4e61-8fc4-b68850f14c36",
   "metadata": {},
   "outputs": [
    {
     "name": "stdout",
     "output_type": "stream",
     "text": [
      "(24092, 8)\n"
     ]
    }
   ],
   "source": [
    "billboard_ratings = billboard_long.merge(\n",
    "    billboard_songs, on =['year','artist','track','time','date.entered']\n",
    ")\n",
    "print(billboard_ratings.shape)"
   ]
  },
  {
   "cell_type": "raw",
   "id": "8c4eda25-0c11-434a-9218-0616ac0b23e6",
   "metadata": {},
   "source": []
  },
  {
   "cell_type": "code",
   "execution_count": 265,
   "id": "a5e4853e-bd1e-4b92-b6b1-7b75330e5a96",
   "metadata": {},
   "outputs": [
    {
     "name": "stdout",
     "output_type": "stream",
     "text": [
      "       year            artist                    track  time date.entered  \\\n",
      "0      2000             2 Pac  Baby Don't Cry (Keep...  4:22   2000-02-26   \n",
      "1      2000           2Ge+her  The Hardest Part Of ...  3:15   2000-09-02   \n",
      "2      2000      3 Doors Down               Kryptonite  3:53   2000-04-08   \n",
      "3      2000      3 Doors Down                    Loser  4:24   2000-10-21   \n",
      "4      2000          504 Boyz            Wobble Wobble  3:35   2000-04-15   \n",
      "...     ...               ...                      ...   ...          ...   \n",
      "24087  2000       Yankee Grey     Another Nine Minutes  3:10   2000-04-29   \n",
      "24088  2000  Yearwood, Trisha          Real Live Woman  3:55   2000-04-01   \n",
      "24089  2000   Ying Yang Twins  Whistle While You Tw...  4:19   2000-03-18   \n",
      "24090  2000     Zombie Nation            Kernkraft 400  3:30   2000-09-02   \n",
      "24091  2000   matchbox twenty                     Bent  4:12   2000-04-29   \n",
      "\n",
      "       week  rating   id  \n",
      "0       wk1    87.0    1  \n",
      "1       wk1    91.0    2  \n",
      "2       wk1    81.0    3  \n",
      "3       wk1    76.0    4  \n",
      "4       wk1    57.0    5  \n",
      "...     ...     ...  ...  \n",
      "24087  wk76     NaN  313  \n",
      "24088  wk76     NaN  314  \n",
      "24089  wk76     NaN  315  \n",
      "24090  wk76     NaN  316  \n",
      "24091  wk76     NaN  317  \n",
      "\n",
      "[24092 rows x 8 columns]\n"
     ]
    }
   ],
   "source": [
    "print(billboard_ratings)"
   ]
  },
  {
   "cell_type": "code",
   "execution_count": 266,
   "id": "867b6689-d1fd-4ee7-98bf-8ae7eb98e8a8",
   "metadata": {},
   "outputs": [
    {
     "name": "stdout",
     "output_type": "stream",
     "text": [
      "        id  week  rating\n",
      "0        1   wk1    87.0\n",
      "1        2   wk1    91.0\n",
      "2        3   wk1    81.0\n",
      "3        4   wk1    76.0\n",
      "4        5   wk1    57.0\n",
      "...    ...   ...     ...\n",
      "24087  313  wk76     NaN\n",
      "24088  314  wk76     NaN\n",
      "24089  315  wk76     NaN\n",
      "24090  316  wk76     NaN\n",
      "24091  317  wk76     NaN\n",
      "\n",
      "[24092 rows x 3 columns]\n"
     ]
    }
   ],
   "source": [
    "billboard_ratings = billboard_ratings[\n",
    "[\"id\",\"week\",'rating']\n",
    "]\n",
    "print(billboard_ratings)"
   ]
  },
  {
   "cell_type": "markdown",
   "id": "8114d8fc-606c-41e5-9a99-776f94385bbd",
   "metadata": {},
   "source": [
    "# 08 데이터집계하기"
   ]
  },
  {
   "cell_type": "code",
   "execution_count": 268,
   "id": "2e541cf7-fb76-48dd-804a-2458a477cb37",
   "metadata": {},
   "outputs": [],
   "source": [
    "df = pd.read_csv('./data/gapminder.tsv', sep = '\\t')"
   ]
  },
  {
   "cell_type": "code",
   "execution_count": 270,
   "id": "3ad8a9ab-69e6-48de-b711-ad2347283b6e",
   "metadata": {},
   "outputs": [
    {
     "name": "stdout",
     "output_type": "stream",
     "text": [
      "year\n",
      "1952    49.057620\n",
      "1957    51.507401\n",
      "1962    53.609249\n",
      "1967    55.678290\n",
      "1972    57.647386\n",
      "1977    59.570157\n",
      "1982    61.533197\n",
      "1987    63.212613\n",
      "1992    64.160338\n",
      "1997    65.014676\n",
      "2002    65.694923\n",
      "2007    67.007423\n",
      "Name: lifeExp, dtype: float64\n"
     ]
    }
   ],
   "source": [
    "avg_life_exp_year = df.groupby('year')['lifeExp'].mean()\n",
    "print(avg_life_exp_year)"
   ]
  },
  {
   "cell_type": "code",
   "execution_count": 273,
   "id": "14e7aba5-487c-41c2-9b9e-dc2e944a281b",
   "metadata": {},
   "outputs": [
    {
     "name": "stdout",
     "output_type": "stream",
     "text": [
      "[1952 1957 1962 1967 1972 1977 1982 1987 1992 1997 2002 2007]\n"
     ]
    }
   ],
   "source": [
    "years = df.year.unique()\n",
    "print(years)"
   ]
  },
  {
   "cell_type": "code",
   "execution_count": 275,
   "id": "9082848c-cef6-4561-a8c8-c03ba173329c",
   "metadata": {},
   "outputs": [
    {
     "name": "stdout",
     "output_type": "stream",
     "text": [
      "                 country continent  year  lifeExp       pop    gdpPercap\n",
      "0            Afghanistan      Asia  1952   28.801   8425333   779.445314\n",
      "12               Albania    Europe  1952   55.230   1282697  1601.056136\n",
      "24               Algeria    Africa  1952   43.077   9279525  2449.008185\n",
      "36                Angola    Africa  1952   30.015   4232095  3520.610273\n",
      "48             Argentina  Americas  1952   62.485  17876956  5911.315053\n",
      "...                  ...       ...   ...      ...       ...          ...\n",
      "1644             Vietnam      Asia  1952   40.412  26246839   605.066492\n",
      "1656  West Bank and Gaza      Asia  1952   43.160   1030585  1515.592329\n",
      "1668         Yemen, Rep.      Asia  1952   32.548   4963829   781.717576\n",
      "1680              Zambia    Africa  1952   42.038   2672000  1147.388831\n",
      "1692            Zimbabwe    Africa  1952   48.451   3080907   406.884115\n",
      "\n",
      "[142 rows x 6 columns]\n"
     ]
    }
   ],
   "source": [
    "y1952 = df.loc[df.year == 1952, :]\n",
    "print(y1952)"
   ]
  },
  {
   "cell_type": "code",
   "execution_count": 276,
   "id": "58d4daba-672a-4a95-aff5-041b91928ee6",
   "metadata": {},
   "outputs": [],
   "source": [
    "y1952_mean = y1952['lifeExp'].mean()"
   ]
  },
  {
   "cell_type": "code",
   "execution_count": 277,
   "id": "ed6ef03d-922b-49d2-b58f-0aa1ddf42cb7",
   "metadata": {},
   "outputs": [
    {
     "name": "stdout",
     "output_type": "stream",
     "text": [
      "49.057619718309866\n"
     ]
    }
   ],
   "source": [
    "print(y1952_mean)"
   ]
  },
  {
   "cell_type": "code",
   "execution_count": 279,
   "id": "a181a1ca-ad04-4900-8055-2710cb05ead2",
   "metadata": {},
   "outputs": [
    {
     "name": "stdout",
     "output_type": "stream",
     "text": [
      "           count       mean        std     min       25%      50%       75%  \\\n",
      "continent                                                                     \n",
      "Africa     624.0  48.865330   9.150210  23.599  42.37250  47.7920  54.41150   \n",
      "Americas   300.0  64.658737   9.345088  37.579  58.41000  67.0480  71.69950   \n",
      "Asia       396.0  60.064903  11.864532  28.801  51.42625  61.7915  69.50525   \n",
      "Europe     360.0  71.903686   5.433178  43.585  69.57000  72.2410  75.45050   \n",
      "Oceania     24.0  74.326208   3.795611  69.120  71.20500  73.6650  77.55250   \n",
      "\n",
      "              max  \n",
      "continent          \n",
      "Africa     76.442  \n",
      "Americas   80.653  \n",
      "Asia       82.603  \n",
      "Europe     81.757  \n",
      "Oceania    81.235  \n"
     ]
    }
   ],
   "source": [
    "continent_describe = df.groupby('continent')['lifeExp'].describe()\n",
    "print(continent_describe)"
   ]
  },
  {
   "cell_type": "code",
   "execution_count": 280,
   "id": "063cf7ca-208e-48bc-8b6e-f3eee8544a76",
   "metadata": {},
   "outputs": [
    {
     "name": "stdout",
     "output_type": "stream",
     "text": [
      "continent\n",
      "Africa      48.865330\n",
      "Americas    64.658737\n",
      "Asia        60.064903\n",
      "Europe      71.903686\n",
      "Oceania     74.326208\n",
      "Name: lifeExp, dtype: float64\n"
     ]
    },
    {
     "name": "stderr",
     "output_type": "stream",
     "text": [
      "C:\\Users\\MINJUN\\AppData\\Local\\Temp\\ipykernel_31148\\3068423495.py:1: FutureWarning: The provided callable <function mean at 0x000001CAAE29D940> is currently using SeriesGroupBy.mean. In a future version of pandas, the provided callable will be used directly. To keep current behavior pass the string \"mean\" instead.\n",
      "  cont_le_agg = df.groupby('continent')['lifeExp'].agg(np.mean)\n"
     ]
    }
   ],
   "source": [
    "cont_le_agg = df.groupby('continent')['lifeExp'].agg(np.mean)\n",
    "print(cont_le_agg)"
   ]
  },
  {
   "cell_type": "code",
   "execution_count": 283,
   "id": "ceb80a68-f62c-457e-a50c-0498aff32c76",
   "metadata": {},
   "outputs": [],
   "source": [
    "def my_mean(values):\n",
    "    n = len(values)\n",
    "    sum = 0\n",
    "    for value in values:\n",
    "        sum += value\n",
    "    return sum /n "
   ]
  },
  {
   "cell_type": "code",
   "execution_count": 284,
   "id": "1c1dcd87-42b0-4779-8e38-2eaa22822a9d",
   "metadata": {},
   "outputs": [],
   "source": [
    "agg_my_mean = df.groupby('year')['lifeExp'].agg(my_mean)"
   ]
  },
  {
   "cell_type": "code",
   "execution_count": 285,
   "id": "d002b311-97d0-4fac-99f0-91215672a746",
   "metadata": {},
   "outputs": [
    {
     "name": "stdout",
     "output_type": "stream",
     "text": [
      "year\n",
      "1952    49.057620\n",
      "1957    51.507401\n",
      "1962    53.609249\n",
      "1967    55.678290\n",
      "1972    57.647386\n",
      "1977    59.570157\n",
      "1982    61.533197\n",
      "1987    63.212613\n",
      "1992    64.160338\n",
      "1997    65.014676\n",
      "2002    65.694923\n",
      "2007    67.007423\n",
      "Name: lifeExp, dtype: float64\n"
     ]
    }
   ],
   "source": [
    "print(agg_my_mean)"
   ]
  },
  {
   "cell_type": "code",
   "execution_count": 289,
   "id": "63ca59f5-98a4-4331-9f2f-d9eab6b6f91b",
   "metadata": {},
   "outputs": [],
   "source": [
    "def my_mean_diff(values, diff_values):\n",
    "    n = len(values)\n",
    "    sum = 0\n",
    "    for value in values:\n",
    "        sum += values\n",
    "        mean = sum /n\n",
    "        return (mean - diff_values)"
   ]
  },
  {
   "cell_type": "code",
   "execution_count": 292,
   "id": "e217bffe-1281-40fd-9f55-e55ad611584b",
   "metadata": {},
   "outputs": [
    {
     "name": "stdout",
     "output_type": "stream",
     "text": [
      "59.474439366197174\n"
     ]
    }
   ],
   "source": [
    "global_mean = df['lifeExp'].mean()\n",
    "print(global_mean)"
   ]
  },
  {
   "cell_type": "code",
   "execution_count": 303,
   "id": "24b53859-f5ae-49db-ad60-489808f88d44",
   "metadata": {},
   "outputs": [],
   "source": [
    "# # agg_mean_diff = (\n",
    "#     df\n",
    "#     .groupby(\"year\")['lifeExp'].agg(my_mean_diff,diff_value=global_mean)\n",
    "# )"
   ]
  },
  {
   "cell_type": "code",
   "execution_count": 307,
   "id": "60182885-8755-4e98-87f5-808f0f0061ee",
   "metadata": {},
   "outputs": [
    {
     "name": "stdout",
     "output_type": "stream",
     "text": [
      "           lifeExp                      \n",
      "     count_nonzero       mean        std\n",
      "year                                    \n",
      "1952           142  49.057620  12.225956\n",
      "1957           142  51.507401  12.231286\n",
      "1962           142  53.609249  12.097245\n",
      "1967           142  55.678290  11.718858\n",
      "1972           142  57.647386  11.381953\n",
      "1977           142  59.570157  11.227229\n",
      "1982           142  61.533197  10.770618\n",
      "1987           142  63.212613  10.556285\n",
      "1992           142  64.160338  11.227380\n",
      "1997           142  65.014676  11.559439\n",
      "2002           142  65.694923  12.279823\n",
      "2007           142  67.007423  12.073021\n"
     ]
    },
    {
     "name": "stderr",
     "output_type": "stream",
     "text": [
      "C:\\Users\\MINJUN\\AppData\\Local\\Temp\\ipykernel_31148\\2854141056.py:3: FutureWarning: The provided callable <function mean at 0x000001CAAE29D940> is currently using SeriesGroupBy.mean. In a future version of pandas, the provided callable will be used directly. To keep current behavior pass the string \"mean\" instead.\n",
      "  gdf = df.groupby('year').agg({\n",
      "C:\\Users\\MINJUN\\AppData\\Local\\Temp\\ipykernel_31148\\2854141056.py:3: FutureWarning: The provided callable <function std at 0x000001CAAE29F880> is currently using SeriesGroupBy.std. In a future version of pandas, the provided callable will be used directly. To keep current behavior pass the string \"std\" instead.\n",
      "  gdf = df.groupby('year').agg({\n"
     ]
    }
   ],
   "source": [
    "import numpy as np\n",
    "\n",
    "gdf = df.groupby('year').agg({\n",
    "    'lifeExp': [np.count_nonzero, np.mean, np.std]\n",
    "})\n",
    "\n",
    "print(gdf)\n"
   ]
  },
  {
   "cell_type": "code",
   "execution_count": 309,
   "id": "d06b9291-83c6-48cd-acdd-3aebc5c6e140",
   "metadata": {},
   "outputs": [
    {
     "name": "stdout",
     "output_type": "stream",
     "text": [
      "           lifeExp                      \n",
      "     count_nonzero       mean        std\n",
      "year                                    \n",
      "1952           142  49.057620  12.225956\n",
      "1957           142  51.507401  12.231286\n",
      "1962           142  53.609249  12.097245\n",
      "1967           142  55.678290  11.718858\n",
      "1972           142  57.647386  11.381953\n",
      "1977           142  59.570157  11.227229\n",
      "1982           142  61.533197  10.770618\n",
      "1987           142  63.212613  10.556285\n",
      "1992           142  64.160338  11.227380\n",
      "1997           142  65.014676  11.559439\n",
      "2002           142  65.694923  12.279823\n",
      "2007           142  67.007423  12.073021\n"
     ]
    }
   ],
   "source": [
    "gdf_dict = df.groupby('year').agg({\n",
    "    'lifeExp': 'mean',\n",
    "    'pop': 'median',\n",
    "    'gdpPercap':'median'\n",
    "})\n",
    "\n",
    "print(gdf)\n"
   ]
  },
  {
   "cell_type": "code",
   "execution_count": 312,
   "id": "1c50b0fc-52f3-421b-8f37-a0b4f5139d04",
   "metadata": {},
   "outputs": [
    {
     "name": "stdout",
     "output_type": "stream",
     "text": [
      "    year  count        avg    std_dev\n",
      "0   1952    142  49.057620  12.225956\n",
      "1   1957    142  51.507401  12.231286\n",
      "2   1962    142  53.609249  12.097245\n",
      "3   1967    142  55.678290  11.718858\n",
      "4   1972    142  57.647386  11.381953\n",
      "5   1977    142  59.570157  11.227229\n",
      "6   1982    142  61.533197  10.770618\n",
      "7   1987    142  63.212613  10.556285\n",
      "8   1992    142  64.160338  11.227380\n",
      "9   1997    142  65.014676  11.559439\n",
      "10  2002    142  65.694923  12.279823\n",
      "11  2007    142  67.007423  12.073021\n"
     ]
    },
    {
     "name": "stderr",
     "output_type": "stream",
     "text": [
      "C:\\Users\\MINJUN\\AppData\\Local\\Temp\\ipykernel_31148\\400385510.py:5: FutureWarning: The provided callable <function mean at 0x000001CAAE29D940> is currently using SeriesGroupBy.mean. In a future version of pandas, the provided callable will be used directly. To keep current behavior pass the string \"mean\" instead.\n",
      "  .agg(\n",
      "C:\\Users\\MINJUN\\AppData\\Local\\Temp\\ipykernel_31148\\400385510.py:5: FutureWarning: The provided callable <function std at 0x000001CAAE29F880> is currently using SeriesGroupBy.std. In a future version of pandas, the provided callable will be used directly. To keep current behavior pass the string \"std\" instead.\n",
      "  .agg(\n"
     ]
    }
   ],
   "source": [
    "gdf = (\n",
    "    df\n",
    "    .groupby('year')\n",
    "    ['lifeExp']\n",
    "    .agg(\n",
    "        [\n",
    "            np.count_nonzero,\n",
    "            np.mean,\n",
    "            np.std,\n",
    "        ]\n",
    "    ).rename(\n",
    "        columns = {\n",
    "            'count_nonzero' : 'count',\n",
    "            'mean':'avg',\n",
    "            'std': 'std_dev'\n",
    "        }\n",
    "    )\n",
    "    .reset_index()\n",
    ")\n",
    "\n",
    "print(gdf)"
   ]
  },
  {
   "cell_type": "markdown",
   "id": "026f4dc7-e9fd-496f-bb66-1fffa51dc7ce",
   "metadata": {},
   "source": [
    "# 데이터 변환하기"
   ]
  },
  {
   "cell_type": "code",
   "execution_count": 313,
   "id": "40fce612-27d5-44e4-8a7a-916aa4a4485f",
   "metadata": {},
   "outputs": [],
   "source": [
    "def my_zscore(x):\n",
    "    return ((x-x.mean()) / x.std())"
   ]
  },
  {
   "cell_type": "code",
   "execution_count": 314,
   "id": "ff4cc378-2635-4f1d-a24b-6104028653ae",
   "metadata": {},
   "outputs": [
    {
     "name": "stdout",
     "output_type": "stream",
     "text": [
      "0      -1.656854\n",
      "1      -1.731249\n",
      "2      -1.786543\n",
      "3      -1.848157\n",
      "4      -1.894173\n",
      "          ...   \n",
      "1699   -0.081621\n",
      "1700   -0.336974\n",
      "1701   -1.574962\n",
      "1702   -2.093346\n",
      "1703   -1.948180\n",
      "Name: lifeExp, Length: 1704, dtype: float64\n"
     ]
    }
   ],
   "source": [
    "transform_2 = df.groupby('year')['lifeExp'].transform(my_zscore)\n",
    "print(transform_2)"
   ]
  },
  {
   "cell_type": "code",
   "execution_count": 316,
   "id": "029a0b15-d77b-4682-9911-5778f4fe1669",
   "metadata": {},
   "outputs": [
    {
     "name": "stdout",
     "output_type": "stream",
     "text": [
      "(1704, 6)\n"
     ]
    }
   ],
   "source": [
    "print(df.shape)"
   ]
  },
  {
   "cell_type": "code",
   "execution_count": 320,
   "id": "79fcc03c-4550-4212-9617-f5eeaaa30ef1",
   "metadata": {},
   "outputs": [
    {
     "name": "stdout",
     "output_type": "stream",
     "text": [
      "(1704,)\n"
     ]
    }
   ],
   "source": [
    "print(transform_2.shape)"
   ]
  },
  {
   "cell_type": "code",
   "execution_count": 5,
   "id": "2f1315d4-087c-45b2-a8a2-82b0f20275e3",
   "metadata": {},
   "outputs": [
    {
     "ename": "SyntaxError",
     "evalue": "expression cannot contain assignment, perhaps you meant \"==\"? (1593243369.py, line 18)",
     "output_type": "error",
     "traceback": [
      "  \u001b[36mCell\u001b[39m\u001b[36m \u001b[39m\u001b[32mIn[5]\u001b[39m\u001b[32m, line 18\u001b[39m\n\u001b[31m    \u001b[39m\u001b[31mprint(car['color'] = 'jn1cv6ap1dm302069')\u001b[39m\n          ^\n\u001b[31mSyntaxError\u001b[39m\u001b[31m:\u001b[39m expression cannot contain assignment, perhaps you meant \"==\"?\n"
     ]
    }
   ],
   "source": [
    "import pandas as pd\n",
    "\n",
    "\n",
    "file_path = \"C:/Users/MINJUN/Desktop/data/car_prices.csv\"\n",
    "car = pd.read_csv(file_path)\n",
    "\n",
    "# condition 컬럼의 값이 빈값인 로우 삭제\n",
    "car = car[car['condition'].notna()]\n",
    "\n",
    "\n",
    "# interior 컬럼의 NaN 값을 빈 문자열로 대체\n",
    "car['interior'] = car['interior'].fillna('')\n",
    "\n",
    "\n",
    "car = car[car['interior'].str.len() < 10]\n",
    "\n",
    "filtered_data = car[car['interior'].str.len() >= 10]\n",
    "print(car['color'] = 'jn1cv6ap1dm302069')"
   ]
  },
  {
   "cell_type": "code",
   "execution_count": 11,
   "id": "29794246-2de1-499a-a3d1-384dbf3b23a9",
   "metadata": {},
   "outputs": [
    {
     "name": "stderr",
     "output_type": "stream",
     "text": [
      "IOPub data rate exceeded.\n",
      "The Jupyter server will temporarily stop sending output\n",
      "to the client in order to avoid crashing it.\n",
      "To change this limit, set the config variable\n",
      "`--ServerApp.iopub_data_rate_limit`.\n",
      "\n",
      "Current values:\n",
      "ServerApp.iopub_data_rate_limit=1000000.0 (bytes/sec)\n",
      "ServerApp.rate_limit_window=3.0 (secs)\n",
      "\n"
     ]
    }
   ],
   "source": [
    "import pandas as pd\n",
    "\n",
    "\n",
    "# 출력 설정 변경 (전체 컬럼, 전체 행 보기)\n",
    "pd.set_option('display.max_columns', None)\n",
    "pd.set_option('display.max_rows', None)\n",
    "pd.set_option('display.width', None)\n",
    "pd.set_option('display.max_colwidth', None)\n",
    "\n",
    "file_path = \"C:/Users/MINJUN/Desktop/data/car_prices.csv\"\n",
    "car = pd.read_csv(file_path)\n",
    "\n",
    "# condition 컬럼의 값이 빈값인 로우 삭제\n",
    "car = car[car['condition'].notna()]\n",
    "car = car[car['saledate'].notna() | (car['saledate'] != '')]\n",
    "\n",
    "car = car[pd.to_numeric(car['sellingprice'], errors='coerce').notna()]\n",
    "\n",
    "\n",
    "print(car)\n"
   ]
  },
  {
   "cell_type": "code",
   "execution_count": null,
   "id": "67496b44-8a41-4ee6-b222-f62cb25e3ccb",
   "metadata": {},
   "outputs": [],
   "source": [
    "car['salddate']"
   ]
  }
 ],
 "metadata": {
  "kernelspec": {
   "display_name": "Python 3 (ipykernel)",
   "language": "python",
   "name": "python3"
  },
  "language_info": {
   "codemirror_mode": {
    "name": "ipython",
    "version": 3
   },
   "file_extension": ".py",
   "mimetype": "text/x-python",
   "name": "python",
   "nbconvert_exporter": "python",
   "pygments_lexer": "ipython3",
   "version": "3.11.0"
  }
 },
 "nbformat": 4,
 "nbformat_minor": 5
}
